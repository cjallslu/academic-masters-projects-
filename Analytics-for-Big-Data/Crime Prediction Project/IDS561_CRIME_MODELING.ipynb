{
  "nbformat": 4,
  "nbformat_minor": 0,
  "metadata": {
    "colab": {
      "name": "IDS561_CRIME_MODELING_SH",
      "provenance": []
    },
    "kernelspec": {
      "name": "python3",
      "display_name": "Python 3"
    },
    "language_info": {
      "name": "python"
    }
  },
  "cells": [
    {
      "cell_type": "code",
      "metadata": {
        "id": "O_WojHyLgFuC"
      },
      "source": [
        "!apt-get install openjdk-8-jdk-headless -qq > /dev/null"
      ],
      "execution_count": null,
      "outputs": []
    },
    {
      "cell_type": "code",
      "metadata": {
        "colab": {
          "base_uri": "https://localhost:8080/"
        },
        "id": "OGGdMySzhQJd",
        "outputId": "1542ae0d-4bdf-4529-9e26-11ba7451d14a"
      },
      "source": [
        "!apt-get update"
      ],
      "execution_count": null,
      "outputs": [
        {
          "output_type": "stream",
          "text": [
            "\r0% [Working]\r            \rGet:1 http://security.ubuntu.com/ubuntu bionic-security InRelease [88.7 kB]\n",
            "\r0% [Connecting to archive.ubuntu.com (91.189.88.142)] [1 InRelease 14.2 kB/88.7\r0% [Connecting to archive.ubuntu.com (91.189.88.142)] [Connected to cloud.r-pro\r                                                                               \rHit:2 https://cloud.r-project.org/bin/linux/ubuntu bionic-cran40/ InRelease\n",
            "\r0% [Waiting for headers] [Connecting to ppa.launchpad.net (91.189.95.85)] [Wait\r0% [1 InRelease gpgv 88.7 kB] [Waiting for headers] [Connecting to ppa.launchpa\r                                                                               \rIgn:3 https://developer.download.nvidia.com/compute/cuda/repos/ubuntu1804/x86_64  InRelease\n",
            "\r                                                                               \r0% [1 InRelease gpgv 88.7 kB] [Waiting for headers] [Waiting for headers]\r                                                                         \rHit:4 http://archive.ubuntu.com/ubuntu bionic InRelease\n",
            "\r0% [1 InRelease gpgv 88.7 kB] [Waiting for headers] [Waiting for headers] [Wait\r                                                                               \rIgn:5 https://developer.download.nvidia.com/compute/machine-learning/repos/ubuntu1804/x86_64  InRelease\n",
            "\r                                                                               \r0% [1 InRelease gpgv 88.7 kB] [Waiting for headers] [Waiting for headers]\r                                                                         \rHit:6 http://ppa.launchpad.net/c2d4u.team/c2d4u4.0+/ubuntu bionic InRelease\n",
            "Hit:7 https://developer.download.nvidia.com/compute/cuda/repos/ubuntu1804/x86_64  Release\n",
            "Hit:8 https://developer.download.nvidia.com/compute/machine-learning/repos/ubuntu1804/x86_64  Release\n",
            "Get:9 http://archive.ubuntu.com/ubuntu bionic-updates InRelease [88.7 kB]\n",
            "Hit:10 http://ppa.launchpad.net/cran/libgit2/ubuntu bionic InRelease\n",
            "Hit:11 http://ppa.launchpad.net/deadsnakes/ppa/ubuntu bionic InRelease\n",
            "Get:12 http://archive.ubuntu.com/ubuntu bionic-backports InRelease [74.6 kB]\n",
            "Hit:13 http://ppa.launchpad.net/graphics-drivers/ppa/ubuntu bionic InRelease\n",
            "Fetched 252 kB in 8s (29.7 kB/s)\n",
            "Reading package lists... Done\n"
          ],
          "name": "stdout"
        }
      ]
    },
    {
      "cell_type": "code",
      "metadata": {
        "id": "DVpa-v68wkqp"
      },
      "source": [
        "!apt-get install openjdk-8-jdk-headless -qq > /dev/null"
      ],
      "execution_count": null,
      "outputs": []
    },
    {
      "cell_type": "code",
      "metadata": {
        "id": "Tto9sanow3MX"
      },
      "source": [
        "!wget -q http://apache.mirrors.hoobly.com/spark/spark-2.4.7/spark-2.4.7-bin-hadoop2.7.tgz"
      ],
      "execution_count": null,
      "outputs": []
    },
    {
      "cell_type": "code",
      "metadata": {
        "id": "r4vknbUKw-7N",
        "colab": {
          "base_uri": "https://localhost:8080/"
        },
        "outputId": "a721ada5-a171-40d1-92a0-d19a05e56dbc"
      },
      "source": [
        "!ls"
      ],
      "execution_count": null,
      "outputs": [
        {
          "output_type": "stream",
          "text": [
            "drive\t     spark-2.4.7-bin-hadoop2.7\t    spark-2.4.7-bin-hadoop2.7.tgz.1\n",
            "sample_data  spark-2.4.7-bin-hadoop2.7.tgz\n"
          ],
          "name": "stdout"
        }
      ]
    },
    {
      "cell_type": "code",
      "metadata": {
        "id": "AOAcWtm7xBEO",
        "colab": {
          "base_uri": "https://localhost:8080/"
        },
        "outputId": "168efb25-6ea9-4729-f578-01e4b7237551"
      },
      "source": [
        "!tar -xvf spark-2.4.7-bin-hadoop2.7.tgz"
      ],
      "execution_count": null,
      "outputs": [
        {
          "output_type": "stream",
          "text": [
            "spark-2.4.7-bin-hadoop2.7/\n",
            "spark-2.4.7-bin-hadoop2.7/kubernetes/\n",
            "spark-2.4.7-bin-hadoop2.7/kubernetes/tests/\n",
            "spark-2.4.7-bin-hadoop2.7/kubernetes/tests/py_container_checks.py\n",
            "spark-2.4.7-bin-hadoop2.7/kubernetes/tests/pyfiles.py\n",
            "spark-2.4.7-bin-hadoop2.7/kubernetes/tests/worker_memory_check.py\n",
            "spark-2.4.7-bin-hadoop2.7/kubernetes/dockerfiles/\n",
            "spark-2.4.7-bin-hadoop2.7/kubernetes/dockerfiles/spark/\n",
            "spark-2.4.7-bin-hadoop2.7/kubernetes/dockerfiles/spark/entrypoint.sh\n",
            "spark-2.4.7-bin-hadoop2.7/kubernetes/dockerfiles/spark/bindings/\n",
            "spark-2.4.7-bin-hadoop2.7/kubernetes/dockerfiles/spark/bindings/python/\n",
            "spark-2.4.7-bin-hadoop2.7/kubernetes/dockerfiles/spark/bindings/python/Dockerfile\n",
            "spark-2.4.7-bin-hadoop2.7/kubernetes/dockerfiles/spark/bindings/R/\n",
            "spark-2.4.7-bin-hadoop2.7/kubernetes/dockerfiles/spark/bindings/R/Dockerfile\n",
            "spark-2.4.7-bin-hadoop2.7/kubernetes/dockerfiles/spark/Dockerfile\n",
            "spark-2.4.7-bin-hadoop2.7/NOTICE\n",
            "spark-2.4.7-bin-hadoop2.7/data/\n",
            "spark-2.4.7-bin-hadoop2.7/data/streaming/\n",
            "spark-2.4.7-bin-hadoop2.7/data/streaming/AFINN-111.txt\n",
            "spark-2.4.7-bin-hadoop2.7/data/mllib/\n",
            "spark-2.4.7-bin-hadoop2.7/data/mllib/sample_multiclass_classification_data.txt\n",
            "spark-2.4.7-bin-hadoop2.7/data/mllib/streaming_kmeans_data_test.txt\n",
            "spark-2.4.7-bin-hadoop2.7/data/mllib/ridge-data/\n",
            "spark-2.4.7-bin-hadoop2.7/data/mllib/ridge-data/lpsa.data\n",
            "spark-2.4.7-bin-hadoop2.7/data/mllib/als/\n",
            "spark-2.4.7-bin-hadoop2.7/data/mllib/als/test.data\n",
            "spark-2.4.7-bin-hadoop2.7/data/mllib/als/sample_movielens_ratings.txt\n",
            "spark-2.4.7-bin-hadoop2.7/data/mllib/sample_svm_data.txt\n",
            "spark-2.4.7-bin-hadoop2.7/data/mllib/images/\n",
            "spark-2.4.7-bin-hadoop2.7/data/mllib/images/origin/\n",
            "spark-2.4.7-bin-hadoop2.7/data/mllib/images/origin/license.txt\n",
            "spark-2.4.7-bin-hadoop2.7/data/mllib/images/origin/multi-channel/\n",
            "spark-2.4.7-bin-hadoop2.7/data/mllib/images/origin/multi-channel/grayscale.jpg\n",
            "spark-2.4.7-bin-hadoop2.7/data/mllib/images/origin/multi-channel/BGRA_alpha_60.png\n",
            "spark-2.4.7-bin-hadoop2.7/data/mllib/images/origin/multi-channel/chr30.4.184.jpg\n",
            "spark-2.4.7-bin-hadoop2.7/data/mllib/images/origin/multi-channel/BGRA.png\n",
            "spark-2.4.7-bin-hadoop2.7/data/mllib/images/origin/kittens/\n",
            "spark-2.4.7-bin-hadoop2.7/data/mllib/images/origin/kittens/not-image.txt\n",
            "spark-2.4.7-bin-hadoop2.7/data/mllib/images/origin/kittens/29.5.a_b_EGDP022204.jpg\n",
            "spark-2.4.7-bin-hadoop2.7/data/mllib/images/origin/kittens/54893.jpg\n",
            "spark-2.4.7-bin-hadoop2.7/data/mllib/images/origin/kittens/DP153539.jpg\n",
            "spark-2.4.7-bin-hadoop2.7/data/mllib/images/origin/kittens/DP802813.jpg\n",
            "spark-2.4.7-bin-hadoop2.7/data/mllib/images/partitioned/\n",
            "spark-2.4.7-bin-hadoop2.7/data/mllib/images/partitioned/cls=multichannel/\n",
            "spark-2.4.7-bin-hadoop2.7/data/mllib/images/partitioned/cls=multichannel/date=2018-01/\n",
            "spark-2.4.7-bin-hadoop2.7/data/mllib/images/partitioned/cls=multichannel/date=2018-01/BGRA_alpha_60.png\n",
            "spark-2.4.7-bin-hadoop2.7/data/mllib/images/partitioned/cls=multichannel/date=2018-01/BGRA.png\n",
            "spark-2.4.7-bin-hadoop2.7/data/mllib/images/partitioned/cls=multichannel/date=2018-02/\n",
            "spark-2.4.7-bin-hadoop2.7/data/mllib/images/partitioned/cls=multichannel/date=2018-02/grayscale.jpg\n",
            "spark-2.4.7-bin-hadoop2.7/data/mllib/images/partitioned/cls=multichannel/date=2018-02/chr30.4.184.jpg\n",
            "spark-2.4.7-bin-hadoop2.7/data/mllib/images/partitioned/cls=kittens/\n",
            "spark-2.4.7-bin-hadoop2.7/data/mllib/images/partitioned/cls=kittens/date=2018-01/\n",
            "spark-2.4.7-bin-hadoop2.7/data/mllib/images/partitioned/cls=kittens/date=2018-01/not-image.txt\n",
            "spark-2.4.7-bin-hadoop2.7/data/mllib/images/partitioned/cls=kittens/date=2018-01/29.5.a_b_EGDP022204.jpg\n",
            "spark-2.4.7-bin-hadoop2.7/data/mllib/images/partitioned/cls=kittens/date=2018-02/\n",
            "spark-2.4.7-bin-hadoop2.7/data/mllib/images/partitioned/cls=kittens/date=2018-02/54893.jpg\n",
            "spark-2.4.7-bin-hadoop2.7/data/mllib/images/partitioned/cls=kittens/date=2018-02/DP153539.jpg\n",
            "spark-2.4.7-bin-hadoop2.7/data/mllib/images/partitioned/cls=kittens/date=2018-02/DP802813.jpg\n",
            "spark-2.4.7-bin-hadoop2.7/data/mllib/images/license.txt\n",
            "spark-2.4.7-bin-hadoop2.7/data/mllib/sample_fpgrowth.txt\n",
            "spark-2.4.7-bin-hadoop2.7/data/mllib/iris_libsvm.txt\n",
            "spark-2.4.7-bin-hadoop2.7/data/mllib/sample_lda_data.txt\n",
            "spark-2.4.7-bin-hadoop2.7/data/mllib/sample_movielens_data.txt\n",
            "spark-2.4.7-bin-hadoop2.7/data/mllib/sample_binary_classification_data.txt\n",
            "spark-2.4.7-bin-hadoop2.7/data/mllib/sample_lda_libsvm_data.txt\n",
            "spark-2.4.7-bin-hadoop2.7/data/mllib/pagerank_data.txt\n",
            "spark-2.4.7-bin-hadoop2.7/data/mllib/sample_linear_regression_data.txt\n",
            "spark-2.4.7-bin-hadoop2.7/data/mllib/gmm_data.txt\n",
            "spark-2.4.7-bin-hadoop2.7/data/mllib/sample_kmeans_data.txt\n",
            "spark-2.4.7-bin-hadoop2.7/data/mllib/pic_data.txt\n",
            "spark-2.4.7-bin-hadoop2.7/data/mllib/kmeans_data.txt\n",
            "spark-2.4.7-bin-hadoop2.7/data/mllib/sample_isotonic_regression_libsvm_data.txt\n",
            "spark-2.4.7-bin-hadoop2.7/data/mllib/sample_libsvm_data.txt\n",
            "spark-2.4.7-bin-hadoop2.7/data/graphx/\n",
            "spark-2.4.7-bin-hadoop2.7/data/graphx/followers.txt\n",
            "spark-2.4.7-bin-hadoop2.7/data/graphx/users.txt\n",
            "spark-2.4.7-bin-hadoop2.7/README.md\n",
            "spark-2.4.7-bin-hadoop2.7/conf/\n",
            "spark-2.4.7-bin-hadoop2.7/conf/docker.properties.template\n",
            "spark-2.4.7-bin-hadoop2.7/conf/spark-env.sh.template\n",
            "spark-2.4.7-bin-hadoop2.7/conf/metrics.properties.template\n",
            "spark-2.4.7-bin-hadoop2.7/conf/log4j.properties.template\n",
            "spark-2.4.7-bin-hadoop2.7/conf/spark-defaults.conf.template\n",
            "spark-2.4.7-bin-hadoop2.7/conf/fairscheduler.xml.template\n",
            "spark-2.4.7-bin-hadoop2.7/conf/slaves.template\n",
            "spark-2.4.7-bin-hadoop2.7/licenses/\n",
            "spark-2.4.7-bin-hadoop2.7/licenses/LICENSE-jline.txt\n",
            "spark-2.4.7-bin-hadoop2.7/licenses/LICENSE-javolution.txt\n",
            "spark-2.4.7-bin-hadoop2.7/licenses/LICENSE-heapq.txt\n",
            "spark-2.4.7-bin-hadoop2.7/licenses/LICENSE-dagre-d3.txt\n",
            "spark-2.4.7-bin-hadoop2.7/licenses/LICENSE-modernizr.txt\n",
            "spark-2.4.7-bin-hadoop2.7/licenses/LICENSE-bootstrap.txt\n",
            "spark-2.4.7-bin-hadoop2.7/licenses/LICENSE-mustache.txt\n",
            "spark-2.4.7-bin-hadoop2.7/licenses/LICENSE-respond.txt\n",
            "spark-2.4.7-bin-hadoop2.7/licenses/LICENSE-jtransforms.html\n",
            "spark-2.4.7-bin-hadoop2.7/licenses/LICENSE-zstd-jni.txt\n",
            "spark-2.4.7-bin-hadoop2.7/licenses/LICENSE-vis-timeline.txt\n",
            "spark-2.4.7-bin-hadoop2.7/licenses/LICENSE-protobuf.txt\n",
            "spark-2.4.7-bin-hadoop2.7/licenses/LICENSE-netlib.txt\n",
            "spark-2.4.7-bin-hadoop2.7/licenses/LICENSE-xmlenc.txt\n",
            "spark-2.4.7-bin-hadoop2.7/licenses/LICENSE-reflectasm.txt\n",
            "spark-2.4.7-bin-hadoop2.7/licenses/LICENSE-jodd.txt\n",
            "spark-2.4.7-bin-hadoop2.7/licenses/LICENSE-arpack.txt\n",
            "spark-2.4.7-bin-hadoop2.7/licenses/LICENSE-zstd.txt\n",
            "spark-2.4.7-bin-hadoop2.7/licenses/LICENSE-machinist.txt\n",
            "spark-2.4.7-bin-hadoop2.7/licenses/LICENSE-CC0.txt\n",
            "spark-2.4.7-bin-hadoop2.7/licenses/LICENSE-leveldbjni.txt\n",
            "spark-2.4.7-bin-hadoop2.7/licenses/LICENSE-minlog.txt\n",
            "spark-2.4.7-bin-hadoop2.7/licenses/LICENSE-spire.txt\n",
            "spark-2.4.7-bin-hadoop2.7/licenses/LICENSE-scala.txt\n",
            "spark-2.4.7-bin-hadoop2.7/licenses/LICENSE-janino.txt\n",
            "spark-2.4.7-bin-hadoop2.7/licenses/LICENSE-antlr.txt\n",
            "spark-2.4.7-bin-hadoop2.7/licenses/LICENSE-AnchorJS.txt\n",
            "spark-2.4.7-bin-hadoop2.7/licenses/LICENSE-cloudpickle.txt\n",
            "spark-2.4.7-bin-hadoop2.7/licenses/LICENSE-f2j.txt\n",
            "spark-2.4.7-bin-hadoop2.7/licenses/LICENSE-graphlib-dot.txt\n",
            "spark-2.4.7-bin-hadoop2.7/licenses/LICENSE-pyrolite.txt\n",
            "spark-2.4.7-bin-hadoop2.7/licenses/LICENSE-datatables.txt\n",
            "spark-2.4.7-bin-hadoop2.7/licenses/LICENSE-kryo.txt\n",
            "spark-2.4.7-bin-hadoop2.7/licenses/LICENSE-join.txt\n",
            "spark-2.4.7-bin-hadoop2.7/licenses/LICENSE-scopt.txt\n",
            "spark-2.4.7-bin-hadoop2.7/licenses/LICENSE-sbt-launch-lib.txt\n",
            "spark-2.4.7-bin-hadoop2.7/licenses/LICENSE-paranamer.txt\n",
            "spark-2.4.7-bin-hadoop2.7/licenses/LICENSE-d3.min.js.txt\n",
            "spark-2.4.7-bin-hadoop2.7/licenses/LICENSE-automaton.txt\n",
            "spark-2.4.7-bin-hadoop2.7/licenses/LICENSE-slf4j.txt\n",
            "spark-2.4.7-bin-hadoop2.7/licenses/LICENSE-matchMedia-polyfill.txt\n",
            "spark-2.4.7-bin-hadoop2.7/licenses/LICENSE-javassist.html\n",
            "spark-2.4.7-bin-hadoop2.7/licenses/LICENSE-pmml-model.txt\n",
            "spark-2.4.7-bin-hadoop2.7/licenses/LICENSE-jquery.txt\n",
            "spark-2.4.7-bin-hadoop2.7/licenses/LICENSE-sorttable.js.txt\n",
            "spark-2.4.7-bin-hadoop2.7/licenses/LICENSE-py4j.txt\n",
            "spark-2.4.7-bin-hadoop2.7/licenses/LICENSE-json-formatter.txt\n",
            "spark-2.4.7-bin-hadoop2.7/yarn/\n",
            "spark-2.4.7-bin-hadoop2.7/yarn/spark-2.4.7-yarn-shuffle.jar\n",
            "spark-2.4.7-bin-hadoop2.7/bin/\n",
            "spark-2.4.7-bin-hadoop2.7/bin/spark-shell\n",
            "spark-2.4.7-bin-hadoop2.7/bin/spark-sql.cmd\n",
            "spark-2.4.7-bin-hadoop2.7/bin/spark-shell2.cmd\n",
            "spark-2.4.7-bin-hadoop2.7/bin/find-spark-home.cmd\n",
            "spark-2.4.7-bin-hadoop2.7/bin/load-spark-env.sh\n",
            "spark-2.4.7-bin-hadoop2.7/bin/beeline.cmd\n",
            "spark-2.4.7-bin-hadoop2.7/bin/spark-class\n",
            "spark-2.4.7-bin-hadoop2.7/bin/sparkR2.cmd\n",
            "spark-2.4.7-bin-hadoop2.7/bin/run-example\n",
            "spark-2.4.7-bin-hadoop2.7/bin/sparkR\n",
            "spark-2.4.7-bin-hadoop2.7/bin/pyspark2.cmd\n",
            "spark-2.4.7-bin-hadoop2.7/bin/run-example.cmd\n",
            "spark-2.4.7-bin-hadoop2.7/bin/spark-sql2.cmd\n",
            "spark-2.4.7-bin-hadoop2.7/bin/spark-submit\n",
            "spark-2.4.7-bin-hadoop2.7/bin/spark-shell.cmd\n",
            "spark-2.4.7-bin-hadoop2.7/bin/docker-image-tool.sh\n",
            "spark-2.4.7-bin-hadoop2.7/bin/find-spark-home\n",
            "spark-2.4.7-bin-hadoop2.7/bin/sparkR.cmd\n",
            "spark-2.4.7-bin-hadoop2.7/bin/load-spark-env.cmd\n",
            "spark-2.4.7-bin-hadoop2.7/bin/pyspark\n",
            "spark-2.4.7-bin-hadoop2.7/bin/beeline\n",
            "spark-2.4.7-bin-hadoop2.7/bin/spark-sql\n",
            "spark-2.4.7-bin-hadoop2.7/bin/spark-submit.cmd\n",
            "spark-2.4.7-bin-hadoop2.7/bin/spark-submit2.cmd\n",
            "spark-2.4.7-bin-hadoop2.7/bin/spark-class2.cmd\n",
            "spark-2.4.7-bin-hadoop2.7/bin/pyspark.cmd\n",
            "spark-2.4.7-bin-hadoop2.7/bin/spark-class.cmd\n",
            "spark-2.4.7-bin-hadoop2.7/sbin/\n",
            "spark-2.4.7-bin-hadoop2.7/sbin/stop-shuffle-service.sh\n",
            "spark-2.4.7-bin-hadoop2.7/sbin/start-master.sh\n",
            "spark-2.4.7-bin-hadoop2.7/sbin/start-mesos-dispatcher.sh\n",
            "spark-2.4.7-bin-hadoop2.7/sbin/stop-slave.sh\n",
            "spark-2.4.7-bin-hadoop2.7/sbin/stop-thriftserver.sh\n",
            "spark-2.4.7-bin-hadoop2.7/sbin/stop-history-server.sh\n",
            "spark-2.4.7-bin-hadoop2.7/sbin/start-thriftserver.sh\n",
            "spark-2.4.7-bin-hadoop2.7/sbin/stop-master.sh\n",
            "spark-2.4.7-bin-hadoop2.7/sbin/start-history-server.sh\n",
            "spark-2.4.7-bin-hadoop2.7/sbin/stop-mesos-shuffle-service.sh\n",
            "spark-2.4.7-bin-hadoop2.7/sbin/stop-mesos-dispatcher.sh\n",
            "spark-2.4.7-bin-hadoop2.7/sbin/stop-all.sh\n",
            "spark-2.4.7-bin-hadoop2.7/sbin/start-mesos-shuffle-service.sh\n",
            "spark-2.4.7-bin-hadoop2.7/sbin/start-slaves.sh\n",
            "spark-2.4.7-bin-hadoop2.7/sbin/spark-config.sh\n",
            "spark-2.4.7-bin-hadoop2.7/sbin/start-shuffle-service.sh\n",
            "spark-2.4.7-bin-hadoop2.7/sbin/start-slave.sh\n",
            "spark-2.4.7-bin-hadoop2.7/sbin/spark-daemons.sh\n",
            "spark-2.4.7-bin-hadoop2.7/sbin/start-all.sh\n",
            "spark-2.4.7-bin-hadoop2.7/sbin/spark-daemon.sh\n",
            "spark-2.4.7-bin-hadoop2.7/sbin/slaves.sh\n",
            "spark-2.4.7-bin-hadoop2.7/sbin/stop-slaves.sh\n",
            "spark-2.4.7-bin-hadoop2.7/LICENSE\n",
            "spark-2.4.7-bin-hadoop2.7/python/\n",
            "spark-2.4.7-bin-hadoop2.7/python/setup.py\n",
            "spark-2.4.7-bin-hadoop2.7/python/pylintrc\n",
            "spark-2.4.7-bin-hadoop2.7/python/README.md\n",
            "spark-2.4.7-bin-hadoop2.7/python/run-tests.py\n",
            "spark-2.4.7-bin-hadoop2.7/python/.coveragerc\n",
            "spark-2.4.7-bin-hadoop2.7/python/run-tests-with-coverage\n",
            "spark-2.4.7-bin-hadoop2.7/python/.gitignore\n",
            "spark-2.4.7-bin-hadoop2.7/python/test_support/\n",
            "spark-2.4.7-bin-hadoop2.7/python/test_support/userlibrary.py\n",
            "spark-2.4.7-bin-hadoop2.7/python/test_support/sql/\n",
            "spark-2.4.7-bin-hadoop2.7/python/test_support/sql/parquet_partitioned/\n",
            "spark-2.4.7-bin-hadoop2.7/python/test_support/sql/parquet_partitioned/_SUCCESS\n",
            "spark-2.4.7-bin-hadoop2.7/python/test_support/sql/parquet_partitioned/year=2014/\n",
            "spark-2.4.7-bin-hadoop2.7/python/test_support/sql/parquet_partitioned/year=2014/month=9/\n",
            "spark-2.4.7-bin-hadoop2.7/python/test_support/sql/parquet_partitioned/year=2014/month=9/day=1/\n",
            "spark-2.4.7-bin-hadoop2.7/python/test_support/sql/parquet_partitioned/year=2014/month=9/day=1/.part-r-00008.gz.parquet.crc\n",
            "spark-2.4.7-bin-hadoop2.7/python/test_support/sql/parquet_partitioned/year=2014/month=9/day=1/part-r-00008.gz.parquet\n",
            "spark-2.4.7-bin-hadoop2.7/python/test_support/sql/parquet_partitioned/year=2015/\n",
            "spark-2.4.7-bin-hadoop2.7/python/test_support/sql/parquet_partitioned/year=2015/month=10/\n",
            "spark-2.4.7-bin-hadoop2.7/python/test_support/sql/parquet_partitioned/year=2015/month=10/day=26/\n",
            "spark-2.4.7-bin-hadoop2.7/python/test_support/sql/parquet_partitioned/year=2015/month=10/day=26/part-r-00005.gz.parquet\n",
            "spark-2.4.7-bin-hadoop2.7/python/test_support/sql/parquet_partitioned/year=2015/month=10/day=26/.part-r-00005.gz.parquet.crc\n",
            "spark-2.4.7-bin-hadoop2.7/python/test_support/sql/parquet_partitioned/year=2015/month=10/day=25/\n",
            "spark-2.4.7-bin-hadoop2.7/python/test_support/sql/parquet_partitioned/year=2015/month=10/day=25/part-r-00002.gz.parquet\n",
            "spark-2.4.7-bin-hadoop2.7/python/test_support/sql/parquet_partitioned/year=2015/month=10/day=25/.part-r-00002.gz.parquet.crc\n",
            "spark-2.4.7-bin-hadoop2.7/python/test_support/sql/parquet_partitioned/year=2015/month=10/day=25/.part-r-00004.gz.parquet.crc\n",
            "spark-2.4.7-bin-hadoop2.7/python/test_support/sql/parquet_partitioned/year=2015/month=10/day=25/part-r-00004.gz.parquet\n",
            "spark-2.4.7-bin-hadoop2.7/python/test_support/sql/parquet_partitioned/year=2015/month=9/\n",
            "spark-2.4.7-bin-hadoop2.7/python/test_support/sql/parquet_partitioned/year=2015/month=9/day=1/\n",
            "spark-2.4.7-bin-hadoop2.7/python/test_support/sql/parquet_partitioned/year=2015/month=9/day=1/.part-r-00007.gz.parquet.crc\n",
            "spark-2.4.7-bin-hadoop2.7/python/test_support/sql/parquet_partitioned/year=2015/month=9/day=1/part-r-00007.gz.parquet\n",
            "spark-2.4.7-bin-hadoop2.7/python/test_support/sql/parquet_partitioned/_metadata\n",
            "spark-2.4.7-bin-hadoop2.7/python/test_support/sql/parquet_partitioned/_common_metadata\n",
            "spark-2.4.7-bin-hadoop2.7/python/test_support/sql/people_array.json\n",
            "spark-2.4.7-bin-hadoop2.7/python/test_support/sql/ages.csv\n",
            "spark-2.4.7-bin-hadoop2.7/python/test_support/sql/ages_newlines.csv\n",
            "spark-2.4.7-bin-hadoop2.7/python/test_support/sql/people_array_utf16le.json\n",
            "spark-2.4.7-bin-hadoop2.7/python/test_support/sql/people1.json\n",
            "spark-2.4.7-bin-hadoop2.7/python/test_support/sql/people.json\n",
            "spark-2.4.7-bin-hadoop2.7/python/test_support/sql/orc_partitioned/\n",
            "spark-2.4.7-bin-hadoop2.7/python/test_support/sql/orc_partitioned/_SUCCESS\n",
            "spark-2.4.7-bin-hadoop2.7/python/test_support/sql/orc_partitioned/b=0/\n",
            "spark-2.4.7-bin-hadoop2.7/python/test_support/sql/orc_partitioned/b=0/c=0/\n",
            "spark-2.4.7-bin-hadoop2.7/python/test_support/sql/orc_partitioned/b=0/c=0/part-r-00000-829af031-b970-49d6-ad39-30460a0be2c8.orc\n",
            "spark-2.4.7-bin-hadoop2.7/python/test_support/sql/orc_partitioned/b=0/c=0/.part-r-00000-829af031-b970-49d6-ad39-30460a0be2c8.orc.crc\n",
            "spark-2.4.7-bin-hadoop2.7/python/test_support/sql/orc_partitioned/b=1/\n",
            "spark-2.4.7-bin-hadoop2.7/python/test_support/sql/orc_partitioned/b=1/c=1/\n",
            "spark-2.4.7-bin-hadoop2.7/python/test_support/sql/orc_partitioned/b=1/c=1/part-r-00000-829af031-b970-49d6-ad39-30460a0be2c8.orc\n",
            "spark-2.4.7-bin-hadoop2.7/python/test_support/sql/orc_partitioned/b=1/c=1/.part-r-00000-829af031-b970-49d6-ad39-30460a0be2c8.orc.crc\n",
            "spark-2.4.7-bin-hadoop2.7/python/test_support/sql/streaming/\n",
            "spark-2.4.7-bin-hadoop2.7/python/test_support/sql/streaming/text-test.txt\n",
            "spark-2.4.7-bin-hadoop2.7/python/test_support/sql/text-test.txt\n",
            "spark-2.4.7-bin-hadoop2.7/python/test_support/userlib-0.1.zip\n",
            "spark-2.4.7-bin-hadoop2.7/python/test_support/SimpleHTTPServer.py\n",
            "spark-2.4.7-bin-hadoop2.7/python/test_support/hello/\n",
            "spark-2.4.7-bin-hadoop2.7/python/test_support/hello/sub_hello/\n",
            "spark-2.4.7-bin-hadoop2.7/python/test_support/hello/sub_hello/sub_hello.txt\n",
            "spark-2.4.7-bin-hadoop2.7/python/test_support/hello/hello.txt\n",
            "spark-2.4.7-bin-hadoop2.7/python/MANIFEST.in\n",
            "spark-2.4.7-bin-hadoop2.7/python/lib/\n",
            "spark-2.4.7-bin-hadoop2.7/python/lib/PY4J_LICENSE.txt\n",
            "spark-2.4.7-bin-hadoop2.7/python/lib/pyspark.zip\n",
            "spark-2.4.7-bin-hadoop2.7/python/lib/py4j-0.10.7-src.zip\n",
            "spark-2.4.7-bin-hadoop2.7/python/pyspark/\n",
            "spark-2.4.7-bin-hadoop2.7/python/pyspark/find_spark_home.py\n",
            "spark-2.4.7-bin-hadoop2.7/python/pyspark/serializers.py\n",
            "spark-2.4.7-bin-hadoop2.7/python/pyspark/__init__.py\n",
            "spark-2.4.7-bin-hadoop2.7/python/pyspark/util.py\n",
            "spark-2.4.7-bin-hadoop2.7/python/pyspark/_globals.py\n",
            "spark-2.4.7-bin-hadoop2.7/python/pyspark/heapq3.py\n",
            "spark-2.4.7-bin-hadoop2.7/python/pyspark/cloudpickle.py\n",
            "spark-2.4.7-bin-hadoop2.7/python/pyspark/version.py\n",
            "spark-2.4.7-bin-hadoop2.7/python/pyspark/shell.py\n",
            "spark-2.4.7-bin-hadoop2.7/python/pyspark/traceback_utils.py\n",
            "spark-2.4.7-bin-hadoop2.7/python/pyspark/taskcontext.py\n",
            "spark-2.4.7-bin-hadoop2.7/python/pyspark/worker.py\n",
            "spark-2.4.7-bin-hadoop2.7/python/pyspark/daemon.py\n",
            "spark-2.4.7-bin-hadoop2.7/python/pyspark/statcounter.py\n",
            "spark-2.4.7-bin-hadoop2.7/python/pyspark/java_gateway.py\n",
            "spark-2.4.7-bin-hadoop2.7/python/pyspark/context.py\n",
            "spark-2.4.7-bin-hadoop2.7/python/pyspark/sql/\n",
            "spark-2.4.7-bin-hadoop2.7/python/pyspark/sql/readwriter.py\n",
            "spark-2.4.7-bin-hadoop2.7/python/pyspark/sql/streaming.py\n",
            "spark-2.4.7-bin-hadoop2.7/python/pyspark/sql/__init__.py\n",
            "spark-2.4.7-bin-hadoop2.7/python/pyspark/sql/utils.py\n",
            "spark-2.4.7-bin-hadoop2.7/python/pyspark/sql/udf.py\n",
            "spark-2.4.7-bin-hadoop2.7/python/pyspark/sql/session.py\n",
            "spark-2.4.7-bin-hadoop2.7/python/pyspark/sql/dataframe.py\n",
            "spark-2.4.7-bin-hadoop2.7/python/pyspark/sql/column.py\n",
            "spark-2.4.7-bin-hadoop2.7/python/pyspark/sql/context.py\n",
            "spark-2.4.7-bin-hadoop2.7/python/pyspark/sql/functions.py\n",
            "spark-2.4.7-bin-hadoop2.7/python/pyspark/sql/types.py\n",
            "spark-2.4.7-bin-hadoop2.7/python/pyspark/sql/catalog.py\n",
            "spark-2.4.7-bin-hadoop2.7/python/pyspark/sql/tests.py\n",
            "spark-2.4.7-bin-hadoop2.7/python/pyspark/sql/conf.py\n",
            "spark-2.4.7-bin-hadoop2.7/python/pyspark/sql/window.py\n",
            "spark-2.4.7-bin-hadoop2.7/python/pyspark/sql/group.py\n",
            "spark-2.4.7-bin-hadoop2.7/python/pyspark/shuffle.py\n",
            "spark-2.4.7-bin-hadoop2.7/python/pyspark/test_serializers.py\n",
            "spark-2.4.7-bin-hadoop2.7/python/pyspark/rddsampler.py\n",
            "spark-2.4.7-bin-hadoop2.7/python/pyspark/files.py\n",
            "spark-2.4.7-bin-hadoop2.7/python/pyspark/join.py\n",
            "spark-2.4.7-bin-hadoop2.7/python/pyspark/profiler.py\n",
            "spark-2.4.7-bin-hadoop2.7/python/pyspark/streaming/\n",
            "spark-2.4.7-bin-hadoop2.7/python/pyspark/streaming/__init__.py\n",
            "spark-2.4.7-bin-hadoop2.7/python/pyspark/streaming/util.py\n",
            "spark-2.4.7-bin-hadoop2.7/python/pyspark/streaming/flume.py\n",
            "spark-2.4.7-bin-hadoop2.7/python/pyspark/streaming/context.py\n",
            "spark-2.4.7-bin-hadoop2.7/python/pyspark/streaming/listener.py\n",
            "spark-2.4.7-bin-hadoop2.7/python/pyspark/streaming/kafka.py\n",
            "spark-2.4.7-bin-hadoop2.7/python/pyspark/streaming/kinesis.py\n",
            "spark-2.4.7-bin-hadoop2.7/python/pyspark/streaming/dstream.py\n",
            "spark-2.4.7-bin-hadoop2.7/python/pyspark/streaming/tests.py\n",
            "spark-2.4.7-bin-hadoop2.7/python/pyspark/ml/\n",
            "spark-2.4.7-bin-hadoop2.7/python/pyspark/ml/recommendation.py\n",
            "spark-2.4.7-bin-hadoop2.7/python/pyspark/ml/linalg/\n",
            "spark-2.4.7-bin-hadoop2.7/python/pyspark/ml/linalg/__init__.py\n",
            "spark-2.4.7-bin-hadoop2.7/python/pyspark/ml/clustering.py\n",
            "spark-2.4.7-bin-hadoop2.7/python/pyspark/ml/__init__.py\n",
            "spark-2.4.7-bin-hadoop2.7/python/pyspark/ml/tuning.py\n",
            "spark-2.4.7-bin-hadoop2.7/python/pyspark/ml/util.py\n",
            "spark-2.4.7-bin-hadoop2.7/python/pyspark/ml/classification.py\n",
            "spark-2.4.7-bin-hadoop2.7/python/pyspark/ml/wrapper.py\n",
            "spark-2.4.7-bin-hadoop2.7/python/pyspark/ml/param/\n",
            "spark-2.4.7-bin-hadoop2.7/python/pyspark/ml/param/__init__.py\n",
            "spark-2.4.7-bin-hadoop2.7/python/pyspark/ml/param/_shared_params_code_gen.py\n",
            "spark-2.4.7-bin-hadoop2.7/python/pyspark/ml/param/shared.py\n",
            "spark-2.4.7-bin-hadoop2.7/python/pyspark/ml/feature.py\n",
            "spark-2.4.7-bin-hadoop2.7/python/pyspark/ml/regression.py\n",
            "spark-2.4.7-bin-hadoop2.7/python/pyspark/ml/stat.py\n",
            "spark-2.4.7-bin-hadoop2.7/python/pyspark/ml/common.py\n",
            "spark-2.4.7-bin-hadoop2.7/python/pyspark/ml/evaluation.py\n",
            "spark-2.4.7-bin-hadoop2.7/python/pyspark/ml/tests.py\n",
            "spark-2.4.7-bin-hadoop2.7/python/pyspark/ml/image.py\n",
            "spark-2.4.7-bin-hadoop2.7/python/pyspark/ml/pipeline.py\n",
            "spark-2.4.7-bin-hadoop2.7/python/pyspark/ml/fpm.py\n",
            "spark-2.4.7-bin-hadoop2.7/python/pyspark/ml/base.py\n",
            "spark-2.4.7-bin-hadoop2.7/python/pyspark/resultiterable.py\n",
            "spark-2.4.7-bin-hadoop2.7/python/pyspark/tests.py\n",
            "spark-2.4.7-bin-hadoop2.7/python/pyspark/conf.py\n",
            "spark-2.4.7-bin-hadoop2.7/python/pyspark/broadcast.py\n",
            "spark-2.4.7-bin-hadoop2.7/python/pyspark/accumulators.py\n",
            "spark-2.4.7-bin-hadoop2.7/python/pyspark/python/\n",
            "spark-2.4.7-bin-hadoop2.7/python/pyspark/python/pyspark/\n",
            "spark-2.4.7-bin-hadoop2.7/python/pyspark/python/pyspark/shell.py\n",
            "spark-2.4.7-bin-hadoop2.7/python/pyspark/status.py\n",
            "spark-2.4.7-bin-hadoop2.7/python/pyspark/test_broadcast.py\n",
            "spark-2.4.7-bin-hadoop2.7/python/pyspark/mllib/\n",
            "spark-2.4.7-bin-hadoop2.7/python/pyspark/mllib/recommendation.py\n",
            "spark-2.4.7-bin-hadoop2.7/python/pyspark/mllib/linalg/\n",
            "spark-2.4.7-bin-hadoop2.7/python/pyspark/mllib/linalg/distributed.py\n",
            "spark-2.4.7-bin-hadoop2.7/python/pyspark/mllib/linalg/__init__.py\n",
            "spark-2.4.7-bin-hadoop2.7/python/pyspark/mllib/clustering.py\n",
            "spark-2.4.7-bin-hadoop2.7/python/pyspark/mllib/random.py\n",
            "spark-2.4.7-bin-hadoop2.7/python/pyspark/mllib/__init__.py\n",
            "spark-2.4.7-bin-hadoop2.7/python/pyspark/mllib/util.py\n",
            "spark-2.4.7-bin-hadoop2.7/python/pyspark/mllib/classification.py\n",
            "spark-2.4.7-bin-hadoop2.7/python/pyspark/mllib/stat/\n",
            "spark-2.4.7-bin-hadoop2.7/python/pyspark/mllib/stat/_statistics.py\n",
            "spark-2.4.7-bin-hadoop2.7/python/pyspark/mllib/stat/__init__.py\n",
            "spark-2.4.7-bin-hadoop2.7/python/pyspark/mllib/stat/KernelDensity.py\n",
            "spark-2.4.7-bin-hadoop2.7/python/pyspark/mllib/stat/distribution.py\n",
            "spark-2.4.7-bin-hadoop2.7/python/pyspark/mllib/stat/test.py\n",
            "spark-2.4.7-bin-hadoop2.7/python/pyspark/mllib/feature.py\n",
            "spark-2.4.7-bin-hadoop2.7/python/pyspark/mllib/regression.py\n",
            "spark-2.4.7-bin-hadoop2.7/python/pyspark/mllib/common.py\n",
            "spark-2.4.7-bin-hadoop2.7/python/pyspark/mllib/evaluation.py\n",
            "spark-2.4.7-bin-hadoop2.7/python/pyspark/mllib/tests.py\n",
            "spark-2.4.7-bin-hadoop2.7/python/pyspark/mllib/tree.py\n",
            "spark-2.4.7-bin-hadoop2.7/python/pyspark/mllib/fpm.py\n",
            "spark-2.4.7-bin-hadoop2.7/python/pyspark/rdd.py\n",
            "spark-2.4.7-bin-hadoop2.7/python/pyspark/storagelevel.py\n",
            "spark-2.4.7-bin-hadoop2.7/python/dist/\n",
            "spark-2.4.7-bin-hadoop2.7/python/setup.cfg\n",
            "spark-2.4.7-bin-hadoop2.7/python/pyspark.egg-info/\n",
            "spark-2.4.7-bin-hadoop2.7/python/pyspark.egg-info/top_level.txt\n",
            "spark-2.4.7-bin-hadoop2.7/python/pyspark.egg-info/SOURCES.txt\n",
            "spark-2.4.7-bin-hadoop2.7/python/pyspark.egg-info/PKG-INFO\n",
            "spark-2.4.7-bin-hadoop2.7/python/pyspark.egg-info/requires.txt\n",
            "spark-2.4.7-bin-hadoop2.7/python/pyspark.egg-info/dependency_links.txt\n",
            "spark-2.4.7-bin-hadoop2.7/python/docs/\n",
            "spark-2.4.7-bin-hadoop2.7/python/docs/pyspark.ml.rst\n",
            "spark-2.4.7-bin-hadoop2.7/python/docs/epytext.py\n",
            "spark-2.4.7-bin-hadoop2.7/python/docs/Makefile\n",
            "spark-2.4.7-bin-hadoop2.7/python/docs/pyspark.sql.rst\n",
            "spark-2.4.7-bin-hadoop2.7/python/docs/pyspark.streaming.rst\n",
            "spark-2.4.7-bin-hadoop2.7/python/docs/pyspark.mllib.rst\n",
            "spark-2.4.7-bin-hadoop2.7/python/docs/make.bat\n",
            "spark-2.4.7-bin-hadoop2.7/python/docs/conf.py\n",
            "spark-2.4.7-bin-hadoop2.7/python/docs/_templates/\n",
            "spark-2.4.7-bin-hadoop2.7/python/docs/_templates/layout.html\n",
            "spark-2.4.7-bin-hadoop2.7/python/docs/_static/\n",
            "spark-2.4.7-bin-hadoop2.7/python/docs/_static/pyspark.js\n",
            "spark-2.4.7-bin-hadoop2.7/python/docs/_static/pyspark.css\n",
            "spark-2.4.7-bin-hadoop2.7/python/docs/make2.bat\n",
            "spark-2.4.7-bin-hadoop2.7/python/docs/index.rst\n",
            "spark-2.4.7-bin-hadoop2.7/python/docs/pyspark.rst\n",
            "spark-2.4.7-bin-hadoop2.7/python/run-tests\n",
            "spark-2.4.7-bin-hadoop2.7/python/test_coverage/\n",
            "spark-2.4.7-bin-hadoop2.7/python/test_coverage/conf/\n",
            "spark-2.4.7-bin-hadoop2.7/python/test_coverage/conf/spark-defaults.conf\n",
            "spark-2.4.7-bin-hadoop2.7/python/test_coverage/coverage_daemon.py\n",
            "spark-2.4.7-bin-hadoop2.7/python/test_coverage/sitecustomize.py\n",
            "spark-2.4.7-bin-hadoop2.7/examples/\n",
            "spark-2.4.7-bin-hadoop2.7/examples/src/\n",
            "spark-2.4.7-bin-hadoop2.7/examples/src/main/\n",
            "spark-2.4.7-bin-hadoop2.7/examples/src/main/r/\n",
            "spark-2.4.7-bin-hadoop2.7/examples/src/main/r/dataframe.R\n",
            "spark-2.4.7-bin-hadoop2.7/examples/src/main/r/data-manipulation.R\n",
            "spark-2.4.7-bin-hadoop2.7/examples/src/main/r/RSparkSQLExample.R\n",
            "spark-2.4.7-bin-hadoop2.7/examples/src/main/r/streaming/\n",
            "spark-2.4.7-bin-hadoop2.7/examples/src/main/r/streaming/structured_network_wordcount.R\n",
            "spark-2.4.7-bin-hadoop2.7/examples/src/main/r/ml/\n",
            "spark-2.4.7-bin-hadoop2.7/examples/src/main/r/ml/fpm.R\n",
            "spark-2.4.7-bin-hadoop2.7/examples/src/main/r/ml/glm.R\n",
            "spark-2.4.7-bin-hadoop2.7/examples/src/main/r/ml/mlp.R\n",
            "spark-2.4.7-bin-hadoop2.7/examples/src/main/r/ml/naiveBayes.R\n",
            "spark-2.4.7-bin-hadoop2.7/examples/src/main/r/ml/logit.R\n",
            "spark-2.4.7-bin-hadoop2.7/examples/src/main/r/ml/decisionTree.R\n",
            "spark-2.4.7-bin-hadoop2.7/examples/src/main/r/ml/svmLinear.R\n",
            "spark-2.4.7-bin-hadoop2.7/examples/src/main/r/ml/isoreg.R\n",
            "spark-2.4.7-bin-hadoop2.7/examples/src/main/r/ml/gaussianMixture.R\n",
            "spark-2.4.7-bin-hadoop2.7/examples/src/main/r/ml/randomForest.R\n",
            "spark-2.4.7-bin-hadoop2.7/examples/src/main/r/ml/gbt.R\n",
            "spark-2.4.7-bin-hadoop2.7/examples/src/main/r/ml/als.R\n",
            "spark-2.4.7-bin-hadoop2.7/examples/src/main/r/ml/lda.R\n",
            "spark-2.4.7-bin-hadoop2.7/examples/src/main/r/ml/ml.R\n",
            "spark-2.4.7-bin-hadoop2.7/examples/src/main/r/ml/survreg.R\n",
            "spark-2.4.7-bin-hadoop2.7/examples/src/main/r/ml/bisectingKmeans.R\n",
            "spark-2.4.7-bin-hadoop2.7/examples/src/main/r/ml/kmeans.R\n",
            "spark-2.4.7-bin-hadoop2.7/examples/src/main/r/ml/kstest.R\n",
            "spark-2.4.7-bin-hadoop2.7/examples/src/main/resources/\n",
            "spark-2.4.7-bin-hadoop2.7/examples/src/main/resources/users.avro\n",
            "spark-2.4.7-bin-hadoop2.7/examples/src/main/resources/people.txt\n",
            "spark-2.4.7-bin-hadoop2.7/examples/src/main/resources/people.csv\n",
            "spark-2.4.7-bin-hadoop2.7/examples/src/main/resources/users.parquet\n",
            "spark-2.4.7-bin-hadoop2.7/examples/src/main/resources/kv1.txt\n",
            "spark-2.4.7-bin-hadoop2.7/examples/src/main/resources/people.json\n",
            "spark-2.4.7-bin-hadoop2.7/examples/src/main/resources/employees.json\n",
            "spark-2.4.7-bin-hadoop2.7/examples/src/main/resources/user.avsc\n",
            "spark-2.4.7-bin-hadoop2.7/examples/src/main/resources/full_user.avsc\n",
            "spark-2.4.7-bin-hadoop2.7/examples/src/main/resources/users.orc\n",
            "spark-2.4.7-bin-hadoop2.7/examples/src/main/scala/\n",
            "spark-2.4.7-bin-hadoop2.7/examples/src/main/scala/org/\n",
            "spark-2.4.7-bin-hadoop2.7/examples/src/main/scala/org/apache/\n",
            "spark-2.4.7-bin-hadoop2.7/examples/src/main/scala/org/apache/spark/\n",
            "spark-2.4.7-bin-hadoop2.7/examples/src/main/scala/org/apache/spark/examples/\n",
            "spark-2.4.7-bin-hadoop2.7/examples/src/main/scala/org/apache/spark/examples/ExceptionHandlingTest.scala\n",
            "spark-2.4.7-bin-hadoop2.7/examples/src/main/scala/org/apache/spark/examples/GroupByTest.scala\n",
            "spark-2.4.7-bin-hadoop2.7/examples/src/main/scala/org/apache/spark/examples/LogQuery.scala\n",
            "spark-2.4.7-bin-hadoop2.7/examples/src/main/scala/org/apache/spark/examples/DriverSubmissionTest.scala\n",
            "spark-2.4.7-bin-hadoop2.7/examples/src/main/scala/org/apache/spark/examples/SparkPi.scala\n",
            "spark-2.4.7-bin-hadoop2.7/examples/src/main/scala/org/apache/spark/examples/SparkALS.scala\n",
            "spark-2.4.7-bin-hadoop2.7/examples/src/main/scala/org/apache/spark/examples/SparkRemoteFileTest.scala\n",
            "spark-2.4.7-bin-hadoop2.7/examples/src/main/scala/org/apache/spark/examples/SparkLR.scala\n",
            "spark-2.4.7-bin-hadoop2.7/examples/src/main/scala/org/apache/spark/examples/SparkKMeans.scala\n",
            "spark-2.4.7-bin-hadoop2.7/examples/src/main/scala/org/apache/spark/examples/SparkPageRank.scala\n",
            "spark-2.4.7-bin-hadoop2.7/examples/src/main/scala/org/apache/spark/examples/LocalPi.scala\n",
            "spark-2.4.7-bin-hadoop2.7/examples/src/main/scala/org/apache/spark/examples/BroadcastTest.scala\n",
            "spark-2.4.7-bin-hadoop2.7/examples/src/main/scala/org/apache/spark/examples/SimpleSkewedGroupByTest.scala\n",
            "spark-2.4.7-bin-hadoop2.7/examples/src/main/scala/org/apache/spark/examples/pythonconverters/\n",
            "spark-2.4.7-bin-hadoop2.7/examples/src/main/scala/org/apache/spark/examples/pythonconverters/AvroConverters.scala\n",
            "spark-2.4.7-bin-hadoop2.7/examples/src/main/scala/org/apache/spark/examples/LocalKMeans.scala\n",
            "spark-2.4.7-bin-hadoop2.7/examples/src/main/scala/org/apache/spark/examples/sql/\n",
            "spark-2.4.7-bin-hadoop2.7/examples/src/main/scala/org/apache/spark/examples/sql/UserDefinedTypedAggregation.scala\n",
            "spark-2.4.7-bin-hadoop2.7/examples/src/main/scala/org/apache/spark/examples/sql/SparkSQLExample.scala\n",
            "spark-2.4.7-bin-hadoop2.7/examples/src/main/scala/org/apache/spark/examples/sql/SQLDataSourceExample.scala\n",
            "spark-2.4.7-bin-hadoop2.7/examples/src/main/scala/org/apache/spark/examples/sql/RDDRelation.scala\n",
            "spark-2.4.7-bin-hadoop2.7/examples/src/main/scala/org/apache/spark/examples/sql/UserDefinedUntypedAggregation.scala\n",
            "spark-2.4.7-bin-hadoop2.7/examples/src/main/scala/org/apache/spark/examples/sql/streaming/\n",
            "spark-2.4.7-bin-hadoop2.7/examples/src/main/scala/org/apache/spark/examples/sql/streaming/StructuredNetworkWordCount.scala\n",
            "spark-2.4.7-bin-hadoop2.7/examples/src/main/scala/org/apache/spark/examples/sql/streaming/StructuredKafkaWordCount.scala\n",
            "spark-2.4.7-bin-hadoop2.7/examples/src/main/scala/org/apache/spark/examples/sql/streaming/StructuredSessionization.scala\n",
            "spark-2.4.7-bin-hadoop2.7/examples/src/main/scala/org/apache/spark/examples/sql/streaming/StructuredNetworkWordCountWindowed.scala\n",
            "spark-2.4.7-bin-hadoop2.7/examples/src/main/scala/org/apache/spark/examples/sql/hive/\n",
            "spark-2.4.7-bin-hadoop2.7/examples/src/main/scala/org/apache/spark/examples/sql/hive/SparkHiveExample.scala\n",
            "spark-2.4.7-bin-hadoop2.7/examples/src/main/scala/org/apache/spark/examples/SparkHdfsLR.scala\n",
            "spark-2.4.7-bin-hadoop2.7/examples/src/main/scala/org/apache/spark/examples/SparkTC.scala\n",
            "spark-2.4.7-bin-hadoop2.7/examples/src/main/scala/org/apache/spark/examples/LocalLR.scala\n",
            "spark-2.4.7-bin-hadoop2.7/examples/src/main/scala/org/apache/spark/examples/LocalFileLR.scala\n",
            "spark-2.4.7-bin-hadoop2.7/examples/src/main/scala/org/apache/spark/examples/streaming/\n",
            "spark-2.4.7-bin-hadoop2.7/examples/src/main/scala/org/apache/spark/examples/streaming/clickstream/\n",
            "spark-2.4.7-bin-hadoop2.7/examples/src/main/scala/org/apache/spark/examples/streaming/clickstream/PageViewStream.scala\n",
            "spark-2.4.7-bin-hadoop2.7/examples/src/main/scala/org/apache/spark/examples/streaming/clickstream/PageViewGenerator.scala\n",
            "spark-2.4.7-bin-hadoop2.7/examples/src/main/scala/org/apache/spark/examples/streaming/QueueStream.scala\n",
            "spark-2.4.7-bin-hadoop2.7/examples/src/main/scala/org/apache/spark/examples/streaming/RecoverableNetworkWordCount.scala\n",
            "spark-2.4.7-bin-hadoop2.7/examples/src/main/scala/org/apache/spark/examples/streaming/DirectKafkaWordCount.scala\n",
            "spark-2.4.7-bin-hadoop2.7/examples/src/main/scala/org/apache/spark/examples/streaming/StreamingExamples.scala\n",
            "spark-2.4.7-bin-hadoop2.7/examples/src/main/scala/org/apache/spark/examples/streaming/CustomReceiver.scala\n",
            "spark-2.4.7-bin-hadoop2.7/examples/src/main/scala/org/apache/spark/examples/streaming/NetworkWordCount.scala\n",
            "spark-2.4.7-bin-hadoop2.7/examples/src/main/scala/org/apache/spark/examples/streaming/StatefulNetworkWordCount.scala\n",
            "spark-2.4.7-bin-hadoop2.7/examples/src/main/scala/org/apache/spark/examples/streaming/SqlNetworkWordCount.scala\n",
            "spark-2.4.7-bin-hadoop2.7/examples/src/main/scala/org/apache/spark/examples/streaming/HdfsWordCount.scala\n",
            "spark-2.4.7-bin-hadoop2.7/examples/src/main/scala/org/apache/spark/examples/streaming/RawNetworkGrep.scala\n",
            "spark-2.4.7-bin-hadoop2.7/examples/src/main/scala/org/apache/spark/examples/MultiBroadcastTest.scala\n",
            "spark-2.4.7-bin-hadoop2.7/examples/src/main/scala/org/apache/spark/examples/ml/\n",
            "spark-2.4.7-bin-hadoop2.7/examples/src/main/scala/org/apache/spark/examples/ml/StringIndexerExample.scala\n",
            "spark-2.4.7-bin-hadoop2.7/examples/src/main/scala/org/apache/spark/examples/ml/StopWordsRemoverExample.scala\n",
            "spark-2.4.7-bin-hadoop2.7/examples/src/main/scala/org/apache/spark/examples/ml/ModelSelectionViaTrainValidationSplitExample.scala\n",
            "spark-2.4.7-bin-hadoop2.7/examples/src/main/scala/org/apache/spark/examples/ml/StandardScalerExample.scala\n",
            "spark-2.4.7-bin-hadoop2.7/examples/src/main/scala/org/apache/spark/examples/ml/ImputerExample.scala\n",
            "spark-2.4.7-bin-hadoop2.7/examples/src/main/scala/org/apache/spark/examples/ml/CorrelationExample.scala\n",
            "spark-2.4.7-bin-hadoop2.7/examples/src/main/scala/org/apache/spark/examples/ml/ElementwiseProductExample.scala\n",
            "spark-2.4.7-bin-hadoop2.7/examples/src/main/scala/org/apache/spark/examples/ml/NormalizerExample.scala\n",
            "spark-2.4.7-bin-hadoop2.7/examples/src/main/scala/org/apache/spark/examples/ml/ChiSqSelectorExample.scala\n",
            "spark-2.4.7-bin-hadoop2.7/examples/src/main/scala/org/apache/spark/examples/ml/NaiveBayesExample.scala\n",
            "spark-2.4.7-bin-hadoop2.7/examples/src/main/scala/org/apache/spark/examples/ml/SQLTransformerExample.scala\n",
            "spark-2.4.7-bin-hadoop2.7/examples/src/main/scala/org/apache/spark/examples/ml/MinHashLSHExample.scala\n",
            "spark-2.4.7-bin-hadoop2.7/examples/src/main/scala/org/apache/spark/examples/ml/FPGrowthExample.scala\n",
            "spark-2.4.7-bin-hadoop2.7/examples/src/main/scala/org/apache/spark/examples/ml/LogisticRegressionSummaryExample.scala\n",
            "spark-2.4.7-bin-hadoop2.7/examples/src/main/scala/org/apache/spark/examples/ml/DataFrameExample.scala\n",
            "spark-2.4.7-bin-hadoop2.7/examples/src/main/scala/org/apache/spark/examples/ml/VectorSlicerExample.scala\n",
            "spark-2.4.7-bin-hadoop2.7/examples/src/main/scala/org/apache/spark/examples/ml/VectorAssemblerExample.scala\n",
            "spark-2.4.7-bin-hadoop2.7/examples/src/main/scala/org/apache/spark/examples/ml/VectorSizeHintExample.scala\n",
            "spark-2.4.7-bin-hadoop2.7/examples/src/main/scala/org/apache/spark/examples/ml/DecisionTreeClassificationExample.scala\n",
            "spark-2.4.7-bin-hadoop2.7/examples/src/main/scala/org/apache/spark/examples/ml/RFormulaExample.scala\n",
            "spark-2.4.7-bin-hadoop2.7/examples/src/main/scala/org/apache/spark/examples/ml/BinarizerExample.scala\n",
            "spark-2.4.7-bin-hadoop2.7/examples/src/main/scala/org/apache/spark/examples/ml/TfIdfExample.scala\n",
            "spark-2.4.7-bin-hadoop2.7/examples/src/main/scala/org/apache/spark/examples/ml/RandomForestRegressorExample.scala\n",
            "spark-2.4.7-bin-hadoop2.7/examples/src/main/scala/org/apache/spark/examples/ml/LinearSVCExample.scala\n",
            "spark-2.4.7-bin-hadoop2.7/examples/src/main/scala/org/apache/spark/examples/ml/DecisionTreeRegressionExample.scala\n",
            "spark-2.4.7-bin-hadoop2.7/examples/src/main/scala/org/apache/spark/examples/ml/MinMaxScalerExample.scala\n",
            "spark-2.4.7-bin-hadoop2.7/examples/src/main/scala/org/apache/spark/examples/ml/CountVectorizerExample.scala\n",
            "spark-2.4.7-bin-hadoop2.7/examples/src/main/scala/org/apache/spark/examples/ml/DecisionTreeExample.scala\n",
            "spark-2.4.7-bin-hadoop2.7/examples/src/main/scala/org/apache/spark/examples/ml/LinearRegressionWithElasticNetExample.scala\n",
            "spark-2.4.7-bin-hadoop2.7/examples/src/main/scala/org/apache/spark/examples/ml/FeatureHasherExample.scala\n",
            "spark-2.4.7-bin-hadoop2.7/examples/src/main/scala/org/apache/spark/examples/ml/ALSExample.scala\n",
            "spark-2.4.7-bin-hadoop2.7/examples/src/main/scala/org/apache/spark/examples/ml/GeneralizedLinearRegressionExample.scala\n",
            "spark-2.4.7-bin-hadoop2.7/examples/src/main/scala/org/apache/spark/examples/ml/LinearRegressionExample.scala\n",
            "spark-2.4.7-bin-hadoop2.7/examples/src/main/scala/org/apache/spark/examples/ml/VectorIndexerExample.scala\n",
            "spark-2.4.7-bin-hadoop2.7/examples/src/main/scala/org/apache/spark/examples/ml/BucketizerExample.scala\n",
            "spark-2.4.7-bin-hadoop2.7/examples/src/main/scala/org/apache/spark/examples/ml/AFTSurvivalRegressionExample.scala\n",
            "spark-2.4.7-bin-hadoop2.7/examples/src/main/scala/org/apache/spark/examples/ml/TokenizerExample.scala\n",
            "spark-2.4.7-bin-hadoop2.7/examples/src/main/scala/org/apache/spark/examples/ml/QuantileDiscretizerExample.scala\n",
            "spark-2.4.7-bin-hadoop2.7/examples/src/main/scala/org/apache/spark/examples/ml/GaussianMixtureExample.scala\n",
            "spark-2.4.7-bin-hadoop2.7/examples/src/main/scala/org/apache/spark/examples/ml/DeveloperApiExample.scala\n",
            "spark-2.4.7-bin-hadoop2.7/examples/src/main/scala/org/apache/spark/examples/ml/IsotonicRegressionExample.scala\n",
            "spark-2.4.7-bin-hadoop2.7/examples/src/main/scala/org/apache/spark/examples/ml/GBTExample.scala\n",
            "spark-2.4.7-bin-hadoop2.7/examples/src/main/scala/org/apache/spark/examples/ml/MaxAbsScalerExample.scala\n",
            "spark-2.4.7-bin-hadoop2.7/examples/src/main/scala/org/apache/spark/examples/ml/ChiSquareTestExample.scala\n",
            "spark-2.4.7-bin-hadoop2.7/examples/src/main/scala/org/apache/spark/examples/ml/BucketedRandomProjectionLSHExample.scala\n",
            "spark-2.4.7-bin-hadoop2.7/examples/src/main/scala/org/apache/spark/examples/ml/Word2VecExample.scala\n",
            "spark-2.4.7-bin-hadoop2.7/examples/src/main/scala/org/apache/spark/examples/ml/NGramExample.scala\n",
            "spark-2.4.7-bin-hadoop2.7/examples/src/main/scala/org/apache/spark/examples/ml/DCTExample.scala\n",
            "spark-2.4.7-bin-hadoop2.7/examples/src/main/scala/org/apache/spark/examples/ml/LDAExample.scala\n",
            "spark-2.4.7-bin-hadoop2.7/examples/src/main/scala/org/apache/spark/examples/ml/SummarizerExample.scala\n",
            "spark-2.4.7-bin-hadoop2.7/examples/src/main/scala/org/apache/spark/examples/ml/InteractionExample.scala\n",
            "spark-2.4.7-bin-hadoop2.7/examples/src/main/scala/org/apache/spark/examples/ml/RandomForestClassifierExample.scala\n",
            "spark-2.4.7-bin-hadoop2.7/examples/src/main/scala/org/apache/spark/examples/ml/RandomForestExample.scala\n",
            "spark-2.4.7-bin-hadoop2.7/examples/src/main/scala/org/apache/spark/examples/ml/ModelSelectionViaCrossValidationExample.scala\n",
            "spark-2.4.7-bin-hadoop2.7/examples/src/main/scala/org/apache/spark/examples/ml/KMeansExample.scala\n",
            "spark-2.4.7-bin-hadoop2.7/examples/src/main/scala/org/apache/spark/examples/ml/GradientBoostedTreeRegressorExample.scala\n",
            "spark-2.4.7-bin-hadoop2.7/examples/src/main/scala/org/apache/spark/examples/ml/UnaryTransformerExample.scala\n",
            "spark-2.4.7-bin-hadoop2.7/examples/src/main/scala/org/apache/spark/examples/ml/PolynomialExpansionExample.scala\n",
            "spark-2.4.7-bin-hadoop2.7/examples/src/main/scala/org/apache/spark/examples/ml/IndexToStringExample.scala\n",
            "spark-2.4.7-bin-hadoop2.7/examples/src/main/scala/org/apache/spark/examples/ml/LogisticRegressionWithElasticNetExample.scala\n",
            "spark-2.4.7-bin-hadoop2.7/examples/src/main/scala/org/apache/spark/examples/ml/BisectingKMeansExample.scala\n",
            "spark-2.4.7-bin-hadoop2.7/examples/src/main/scala/org/apache/spark/examples/ml/LogisticRegressionExample.scala\n",
            "spark-2.4.7-bin-hadoop2.7/examples/src/main/scala/org/apache/spark/examples/ml/MulticlassLogisticRegressionWithElasticNetExample.scala\n",
            "spark-2.4.7-bin-hadoop2.7/examples/src/main/scala/org/apache/spark/examples/ml/PipelineExample.scala\n",
            "spark-2.4.7-bin-hadoop2.7/examples/src/main/scala/org/apache/spark/examples/ml/PCAExample.scala\n",
            "spark-2.4.7-bin-hadoop2.7/examples/src/main/scala/org/apache/spark/examples/ml/OneVsRestExample.scala\n",
            "spark-2.4.7-bin-hadoop2.7/examples/src/main/scala/org/apache/spark/examples/ml/MultilayerPerceptronClassifierExample.scala\n",
            "spark-2.4.7-bin-hadoop2.7/examples/src/main/scala/org/apache/spark/examples/ml/EstimatorTransformerParamExample.scala\n",
            "spark-2.4.7-bin-hadoop2.7/examples/src/main/scala/org/apache/spark/examples/ml/OneHotEncoderEstimatorExample.scala\n",
            "spark-2.4.7-bin-hadoop2.7/examples/src/main/scala/org/apache/spark/examples/ml/GradientBoostedTreeClassifierExample.scala\n",
            "spark-2.4.7-bin-hadoop2.7/examples/src/main/scala/org/apache/spark/examples/ml/PrefixSpanExample.scala\n",
            "spark-2.4.7-bin-hadoop2.7/examples/src/main/scala/org/apache/spark/examples/ml/PowerIterationClusteringExample.scala\n",
            "spark-2.4.7-bin-hadoop2.7/examples/src/main/scala/org/apache/spark/examples/HdfsTest.scala\n",
            "spark-2.4.7-bin-hadoop2.7/examples/src/main/scala/org/apache/spark/examples/LocalALS.scala\n",
            "spark-2.4.7-bin-hadoop2.7/examples/src/main/scala/org/apache/spark/examples/mllib/\n",
            "spark-2.4.7-bin-hadoop2.7/examples/src/main/scala/org/apache/spark/examples/mllib/LinearRegressionWithSGDExample.scala\n",
            "spark-2.4.7-bin-hadoop2.7/examples/src/main/scala/org/apache/spark/examples/mllib/StandardScalerExample.scala\n",
            "spark-2.4.7-bin-hadoop2.7/examples/src/main/scala/org/apache/spark/examples/mllib/MultiLabelMetricsExample.scala\n",
            "spark-2.4.7-bin-hadoop2.7/examples/src/main/scala/org/apache/spark/examples/mllib/HypothesisTestingKolmogorovSmirnovTestExample.scala\n",
            "spark-2.4.7-bin-hadoop2.7/examples/src/main/scala/org/apache/spark/examples/mllib/StreamingLogisticRegression.scala\n",
            "spark-2.4.7-bin-hadoop2.7/examples/src/main/scala/org/apache/spark/examples/mllib/RandomForestRegressionExample.scala\n",
            "spark-2.4.7-bin-hadoop2.7/examples/src/main/scala/org/apache/spark/examples/mllib/RandomForestClassificationExample.scala\n",
            "spark-2.4.7-bin-hadoop2.7/examples/src/main/scala/org/apache/spark/examples/mllib/ElementwiseProductExample.scala\n",
            "spark-2.4.7-bin-hadoop2.7/examples/src/main/scala/org/apache/spark/examples/mllib/NormalizerExample.scala\n",
            "spark-2.4.7-bin-hadoop2.7/examples/src/main/scala/org/apache/spark/examples/mllib/ChiSqSelectorExample.scala\n",
            "spark-2.4.7-bin-hadoop2.7/examples/src/main/scala/org/apache/spark/examples/mllib/NaiveBayesExample.scala\n",
            "spark-2.4.7-bin-hadoop2.7/examples/src/main/scala/org/apache/spark/examples/mllib/RecommendationExample.scala\n",
            "spark-2.4.7-bin-hadoop2.7/examples/src/main/scala/org/apache/spark/examples/mllib/BinaryClassification.scala\n",
            "spark-2.4.7-bin-hadoop2.7/examples/src/main/scala/org/apache/spark/examples/mllib/StreamingTestExample.scala\n",
            "spark-2.4.7-bin-hadoop2.7/examples/src/main/scala/org/apache/spark/examples/mllib/FPGrowthExample.scala\n",
            "spark-2.4.7-bin-hadoop2.7/examples/src/main/scala/org/apache/spark/examples/mllib/GradientBoostingClassificationExample.scala\n",
            "spark-2.4.7-bin-hadoop2.7/examples/src/main/scala/org/apache/spark/examples/mllib/BinaryClassificationMetricsExample.scala\n",
            "spark-2.4.7-bin-hadoop2.7/examples/src/main/scala/org/apache/spark/examples/mllib/AssociationRulesExample.scala\n",
            "spark-2.4.7-bin-hadoop2.7/examples/src/main/scala/org/apache/spark/examples/mllib/DecisionTreeRunner.scala\n",
            "spark-2.4.7-bin-hadoop2.7/examples/src/main/scala/org/apache/spark/examples/mllib/DecisionTreeClassificationExample.scala\n",
            "spark-2.4.7-bin-hadoop2.7/examples/src/main/scala/org/apache/spark/examples/mllib/MulticlassMetricsExample.scala\n",
            "spark-2.4.7-bin-hadoop2.7/examples/src/main/scala/org/apache/spark/examples/mllib/RankingMetricsExample.scala\n",
            "spark-2.4.7-bin-hadoop2.7/examples/src/main/scala/org/apache/spark/examples/mllib/StreamingLinearRegressionExample.scala\n",
            "spark-2.4.7-bin-hadoop2.7/examples/src/main/scala/org/apache/spark/examples/mllib/MovieLensALS.scala\n",
            "spark-2.4.7-bin-hadoop2.7/examples/src/main/scala/org/apache/spark/examples/mllib/DecisionTreeRegressionExample.scala\n",
            "spark-2.4.7-bin-hadoop2.7/examples/src/main/scala/org/apache/spark/examples/mllib/TallSkinnySVD.scala\n",
            "spark-2.4.7-bin-hadoop2.7/examples/src/main/scala/org/apache/spark/examples/mllib/SummaryStatisticsExample.scala\n",
            "spark-2.4.7-bin-hadoop2.7/examples/src/main/scala/org/apache/spark/examples/mllib/CosineSimilarity.scala\n",
            "spark-2.4.7-bin-hadoop2.7/examples/src/main/scala/org/apache/spark/examples/mllib/CorrelationsExample.scala\n",
            "spark-2.4.7-bin-hadoop2.7/examples/src/main/scala/org/apache/spark/examples/mllib/LatentDirichletAllocationExample.scala\n",
            "spark-2.4.7-bin-hadoop2.7/examples/src/main/scala/org/apache/spark/examples/mllib/LBFGSExample.scala\n",
            "spark-2.4.7-bin-hadoop2.7/examples/src/main/scala/org/apache/spark/examples/mllib/PCAOnRowMatrixExample.scala\n",
            "spark-2.4.7-bin-hadoop2.7/examples/src/main/scala/org/apache/spark/examples/mllib/SVDExample.scala\n",
            "spark-2.4.7-bin-hadoop2.7/examples/src/main/scala/org/apache/spark/examples/mllib/TFIDFExample.scala\n",
            "spark-2.4.7-bin-hadoop2.7/examples/src/main/scala/org/apache/spark/examples/mllib/GaussianMixtureExample.scala\n",
            "spark-2.4.7-bin-hadoop2.7/examples/src/main/scala/org/apache/spark/examples/mllib/SampledRDDs.scala\n",
            "spark-2.4.7-bin-hadoop2.7/examples/src/main/scala/org/apache/spark/examples/mllib/DenseKMeans.scala\n",
            "spark-2.4.7-bin-hadoop2.7/examples/src/main/scala/org/apache/spark/examples/mllib/IsotonicRegressionExample.scala\n",
            "spark-2.4.7-bin-hadoop2.7/examples/src/main/scala/org/apache/spark/examples/mllib/SVMWithSGDExample.scala\n",
            "spark-2.4.7-bin-hadoop2.7/examples/src/main/scala/org/apache/spark/examples/mllib/GradientBoostingRegressionExample.scala\n",
            "spark-2.4.7-bin-hadoop2.7/examples/src/main/scala/org/apache/spark/examples/mllib/StratifiedSamplingExample.scala\n",
            "spark-2.4.7-bin-hadoop2.7/examples/src/main/scala/org/apache/spark/examples/mllib/StreamingKMeansExample.scala\n",
            "spark-2.4.7-bin-hadoop2.7/examples/src/main/scala/org/apache/spark/examples/mllib/SparseNaiveBayes.scala\n",
            "spark-2.4.7-bin-hadoop2.7/examples/src/main/scala/org/apache/spark/examples/mllib/Word2VecExample.scala\n",
            "spark-2.4.7-bin-hadoop2.7/examples/src/main/scala/org/apache/spark/examples/mllib/LDAExample.scala\n",
            "spark-2.4.7-bin-hadoop2.7/examples/src/main/scala/org/apache/spark/examples/mllib/PMMLModelExportExample.scala\n",
            "spark-2.4.7-bin-hadoop2.7/examples/src/main/scala/org/apache/spark/examples/mllib/Correlations.scala\n",
            "spark-2.4.7-bin-hadoop2.7/examples/src/main/scala/org/apache/spark/examples/mllib/MultivariateSummarizer.scala\n",
            "spark-2.4.7-bin-hadoop2.7/examples/src/main/scala/org/apache/spark/examples/mllib/KMeansExample.scala\n",
            "spark-2.4.7-bin-hadoop2.7/examples/src/main/scala/org/apache/spark/examples/mllib/LinearRegression.scala\n",
            "spark-2.4.7-bin-hadoop2.7/examples/src/main/scala/org/apache/spark/examples/mllib/KernelDensityEstimationExample.scala\n",
            "spark-2.4.7-bin-hadoop2.7/examples/src/main/scala/org/apache/spark/examples/mllib/PCAOnSourceVectorExample.scala\n",
            "spark-2.4.7-bin-hadoop2.7/examples/src/main/scala/org/apache/spark/examples/mllib/RandomRDDGeneration.scala\n",
            "spark-2.4.7-bin-hadoop2.7/examples/src/main/scala/org/apache/spark/examples/mllib/TallSkinnyPCA.scala\n",
            "spark-2.4.7-bin-hadoop2.7/examples/src/main/scala/org/apache/spark/examples/mllib/GradientBoostedTreesRunner.scala\n",
            "spark-2.4.7-bin-hadoop2.7/examples/src/main/scala/org/apache/spark/examples/mllib/LogisticRegressionWithLBFGSExample.scala\n",
            "spark-2.4.7-bin-hadoop2.7/examples/src/main/scala/org/apache/spark/examples/mllib/BisectingKMeansExample.scala\n",
            "spark-2.4.7-bin-hadoop2.7/examples/src/main/scala/org/apache/spark/examples/mllib/PCAExample.scala\n",
            "spark-2.4.7-bin-hadoop2.7/examples/src/main/scala/org/apache/spark/examples/mllib/RegressionMetricsExample.scala\n",
            "spark-2.4.7-bin-hadoop2.7/examples/src/main/scala/org/apache/spark/examples/mllib/AbstractParams.scala\n",
            "spark-2.4.7-bin-hadoop2.7/examples/src/main/scala/org/apache/spark/examples/mllib/PrefixSpanExample.scala\n",
            "spark-2.4.7-bin-hadoop2.7/examples/src/main/scala/org/apache/spark/examples/mllib/HypothesisTestingExample.scala\n",
            "spark-2.4.7-bin-hadoop2.7/examples/src/main/scala/org/apache/spark/examples/mllib/SimpleFPGrowth.scala\n",
            "spark-2.4.7-bin-hadoop2.7/examples/src/main/scala/org/apache/spark/examples/mllib/PowerIterationClusteringExample.scala\n",
            "spark-2.4.7-bin-hadoop2.7/examples/src/main/scala/org/apache/spark/examples/graphx/\n",
            "spark-2.4.7-bin-hadoop2.7/examples/src/main/scala/org/apache/spark/examples/graphx/AggregateMessagesExample.scala\n",
            "spark-2.4.7-bin-hadoop2.7/examples/src/main/scala/org/apache/spark/examples/graphx/SynthBenchmark.scala\n",
            "spark-2.4.7-bin-hadoop2.7/examples/src/main/scala/org/apache/spark/examples/graphx/TriangleCountingExample.scala\n",
            "spark-2.4.7-bin-hadoop2.7/examples/src/main/scala/org/apache/spark/examples/graphx/ComprehensiveExample.scala\n",
            "spark-2.4.7-bin-hadoop2.7/examples/src/main/scala/org/apache/spark/examples/graphx/Analytics.scala\n",
            "spark-2.4.7-bin-hadoop2.7/examples/src/main/scala/org/apache/spark/examples/graphx/SSSPExample.scala\n",
            "spark-2.4.7-bin-hadoop2.7/examples/src/main/scala/org/apache/spark/examples/graphx/ConnectedComponentsExample.scala\n",
            "spark-2.4.7-bin-hadoop2.7/examples/src/main/scala/org/apache/spark/examples/graphx/PageRankExample.scala\n",
            "spark-2.4.7-bin-hadoop2.7/examples/src/main/scala/org/apache/spark/examples/graphx/LiveJournalPageRank.scala\n",
            "spark-2.4.7-bin-hadoop2.7/examples/src/main/scala/org/apache/spark/examples/SkewedGroupByTest.scala\n",
            "spark-2.4.7-bin-hadoop2.7/examples/src/main/scala/org/apache/spark/examples/DFSReadWriteTest.scala\n",
            "spark-2.4.7-bin-hadoop2.7/examples/src/main/java/\n",
            "spark-2.4.7-bin-hadoop2.7/examples/src/main/java/org/\n",
            "spark-2.4.7-bin-hadoop2.7/examples/src/main/java/org/apache/\n",
            "spark-2.4.7-bin-hadoop2.7/examples/src/main/java/org/apache/spark/\n",
            "spark-2.4.7-bin-hadoop2.7/examples/src/main/java/org/apache/spark/examples/\n",
            "spark-2.4.7-bin-hadoop2.7/examples/src/main/java/org/apache/spark/examples/JavaTC.java\n",
            "spark-2.4.7-bin-hadoop2.7/examples/src/main/java/org/apache/spark/examples/JavaStatusTrackerDemo.java\n",
            "spark-2.4.7-bin-hadoop2.7/examples/src/main/java/org/apache/spark/examples/JavaWordCount.java\n",
            "spark-2.4.7-bin-hadoop2.7/examples/src/main/java/org/apache/spark/examples/JavaPageRank.java\n",
            "spark-2.4.7-bin-hadoop2.7/examples/src/main/java/org/apache/spark/examples/JavaHdfsLR.java\n",
            "spark-2.4.7-bin-hadoop2.7/examples/src/main/java/org/apache/spark/examples/sql/\n",
            "spark-2.4.7-bin-hadoop2.7/examples/src/main/java/org/apache/spark/examples/sql/JavaSparkSQLExample.java\n",
            "spark-2.4.7-bin-hadoop2.7/examples/src/main/java/org/apache/spark/examples/sql/JavaUserDefinedTypedAggregation.java\n",
            "spark-2.4.7-bin-hadoop2.7/examples/src/main/java/org/apache/spark/examples/sql/JavaSQLDataSourceExample.java\n",
            "spark-2.4.7-bin-hadoop2.7/examples/src/main/java/org/apache/spark/examples/sql/streaming/\n",
            "spark-2.4.7-bin-hadoop2.7/examples/src/main/java/org/apache/spark/examples/sql/streaming/JavaStructuredNetworkWordCount.java\n",
            "spark-2.4.7-bin-hadoop2.7/examples/src/main/java/org/apache/spark/examples/sql/streaming/JavaStructuredKafkaWordCount.java\n",
            "spark-2.4.7-bin-hadoop2.7/examples/src/main/java/org/apache/spark/examples/sql/streaming/JavaStructuredSessionization.java\n",
            "spark-2.4.7-bin-hadoop2.7/examples/src/main/java/org/apache/spark/examples/sql/streaming/JavaStructuredNetworkWordCountWindowed.java\n",
            "spark-2.4.7-bin-hadoop2.7/examples/src/main/java/org/apache/spark/examples/sql/JavaUserDefinedUntypedAggregation.java\n",
            "spark-2.4.7-bin-hadoop2.7/examples/src/main/java/org/apache/spark/examples/sql/hive/\n",
            "spark-2.4.7-bin-hadoop2.7/examples/src/main/java/org/apache/spark/examples/sql/hive/JavaSparkHiveExample.java\n",
            "spark-2.4.7-bin-hadoop2.7/examples/src/main/java/org/apache/spark/examples/streaming/\n",
            "spark-2.4.7-bin-hadoop2.7/examples/src/main/java/org/apache/spark/examples/streaming/JavaCustomReceiver.java\n",
            "spark-2.4.7-bin-hadoop2.7/examples/src/main/java/org/apache/spark/examples/streaming/JavaRecord.java\n",
            "spark-2.4.7-bin-hadoop2.7/examples/src/main/java/org/apache/spark/examples/streaming/JavaQueueStream.java\n",
            "spark-2.4.7-bin-hadoop2.7/examples/src/main/java/org/apache/spark/examples/streaming/JavaRecoverableNetworkWordCount.java\n",
            "spark-2.4.7-bin-hadoop2.7/examples/src/main/java/org/apache/spark/examples/streaming/JavaSqlNetworkWordCount.java\n",
            "spark-2.4.7-bin-hadoop2.7/examples/src/main/java/org/apache/spark/examples/streaming/JavaStatefulNetworkWordCount.java\n",
            "spark-2.4.7-bin-hadoop2.7/examples/src/main/java/org/apache/spark/examples/streaming/JavaDirectKafkaWordCount.java\n",
            "spark-2.4.7-bin-hadoop2.7/examples/src/main/java/org/apache/spark/examples/streaming/JavaNetworkWordCount.java\n",
            "spark-2.4.7-bin-hadoop2.7/examples/src/main/java/org/apache/spark/examples/ml/\n",
            "spark-2.4.7-bin-hadoop2.7/examples/src/main/java/org/apache/spark/examples/ml/JavaGradientBoostedTreeRegressorExample.java\n",
            "spark-2.4.7-bin-hadoop2.7/examples/src/main/java/org/apache/spark/examples/ml/JavaPowerIterationClusteringExample.java\n",
            "spark-2.4.7-bin-hadoop2.7/examples/src/main/java/org/apache/spark/examples/ml/JavaMaxAbsScalerExample.java\n",
            "spark-2.4.7-bin-hadoop2.7/examples/src/main/java/org/apache/spark/examples/ml/JavaGradientBoostedTreeClassifierExample.java\n",
            "spark-2.4.7-bin-hadoop2.7/examples/src/main/java/org/apache/spark/examples/ml/JavaSQLTransformerExample.java\n",
            "spark-2.4.7-bin-hadoop2.7/examples/src/main/java/org/apache/spark/examples/ml/JavaModelSelectionViaCrossValidationExample.java\n",
            "spark-2.4.7-bin-hadoop2.7/examples/src/main/java/org/apache/spark/examples/ml/JavaCorrelationExample.java\n",
            "spark-2.4.7-bin-hadoop2.7/examples/src/main/java/org/apache/spark/examples/ml/JavaDecisionTreeClassificationExample.java\n",
            "spark-2.4.7-bin-hadoop2.7/examples/src/main/java/org/apache/spark/examples/ml/JavaDocument.java\n",
            "spark-2.4.7-bin-hadoop2.7/examples/src/main/java/org/apache/spark/examples/ml/JavaChiSqSelectorExample.java\n",
            "spark-2.4.7-bin-hadoop2.7/examples/src/main/java/org/apache/spark/examples/ml/JavaLabeledDocument.java\n",
            "spark-2.4.7-bin-hadoop2.7/examples/src/main/java/org/apache/spark/examples/ml/JavaGaussianMixtureExample.java\n",
            "spark-2.4.7-bin-hadoop2.7/examples/src/main/java/org/apache/spark/examples/ml/JavaModelSelectionViaTrainValidationSplitExample.java\n",
            "spark-2.4.7-bin-hadoop2.7/examples/src/main/java/org/apache/spark/examples/ml/JavaDCTExample.java\n",
            "spark-2.4.7-bin-hadoop2.7/examples/src/main/java/org/apache/spark/examples/ml/JavaNaiveBayesExample.java\n",
            "spark-2.4.7-bin-hadoop2.7/examples/src/main/java/org/apache/spark/examples/ml/JavaRandomForestRegressorExample.java\n",
            "spark-2.4.7-bin-hadoop2.7/examples/src/main/java/org/apache/spark/examples/ml/JavaPolynomialExpansionExample.java\n",
            "spark-2.4.7-bin-hadoop2.7/examples/src/main/java/org/apache/spark/examples/ml/JavaLDAExample.java\n",
            "spark-2.4.7-bin-hadoop2.7/examples/src/main/java/org/apache/spark/examples/ml/JavaAFTSurvivalRegressionExample.java\n",
            "spark-2.4.7-bin-hadoop2.7/examples/src/main/java/org/apache/spark/examples/ml/JavaEstimatorTransformerParamExample.java\n",
            "spark-2.4.7-bin-hadoop2.7/examples/src/main/java/org/apache/spark/examples/ml/JavaMultilayerPerceptronClassifierExample.java\n",
            "spark-2.4.7-bin-hadoop2.7/examples/src/main/java/org/apache/spark/examples/ml/JavaRFormulaExample.java\n",
            "spark-2.4.7-bin-hadoop2.7/examples/src/main/java/org/apache/spark/examples/ml/JavaBucketedRandomProjectionLSHExample.java\n",
            "spark-2.4.7-bin-hadoop2.7/examples/src/main/java/org/apache/spark/examples/ml/JavaLogisticRegressionWithElasticNetExample.java\n",
            "spark-2.4.7-bin-hadoop2.7/examples/src/main/java/org/apache/spark/examples/ml/JavaVectorSlicerExample.java\n",
            "spark-2.4.7-bin-hadoop2.7/examples/src/main/java/org/apache/spark/examples/ml/JavaMinHashLSHExample.java\n",
            "spark-2.4.7-bin-hadoop2.7/examples/src/main/java/org/apache/spark/examples/ml/JavaBisectingKMeansExample.java\n",
            "spark-2.4.7-bin-hadoop2.7/examples/src/main/java/org/apache/spark/examples/ml/JavaStandardScalerExample.java\n",
            "spark-2.4.7-bin-hadoop2.7/examples/src/main/java/org/apache/spark/examples/ml/JavaIndexToStringExample.java\n",
            "spark-2.4.7-bin-hadoop2.7/examples/src/main/java/org/apache/spark/examples/ml/JavaPipelineExample.java\n",
            "spark-2.4.7-bin-hadoop2.7/examples/src/main/java/org/apache/spark/examples/ml/JavaNGramExample.java\n",
            "spark-2.4.7-bin-hadoop2.7/examples/src/main/java/org/apache/spark/examples/ml/JavaGeneralizedLinearRegressionExample.java\n",
            "spark-2.4.7-bin-hadoop2.7/examples/src/main/java/org/apache/spark/examples/ml/JavaIsotonicRegressionExample.java\n",
            "spark-2.4.7-bin-hadoop2.7/examples/src/main/java/org/apache/spark/examples/ml/JavaWord2VecExample.java\n",
            "spark-2.4.7-bin-hadoop2.7/examples/src/main/java/org/apache/spark/examples/ml/JavaFPGrowthExample.java\n",
            "spark-2.4.7-bin-hadoop2.7/examples/src/main/java/org/apache/spark/examples/ml/JavaMulticlassLogisticRegressionWithElasticNetExample.java\n",
            "spark-2.4.7-bin-hadoop2.7/examples/src/main/java/org/apache/spark/examples/ml/JavaVectorAssemblerExample.java\n",
            "spark-2.4.7-bin-hadoop2.7/examples/src/main/java/org/apache/spark/examples/ml/JavaLinearRegressionWithElasticNetExample.java\n",
            "spark-2.4.7-bin-hadoop2.7/examples/src/main/java/org/apache/spark/examples/ml/JavaElementwiseProductExample.java\n",
            "spark-2.4.7-bin-hadoop2.7/examples/src/main/java/org/apache/spark/examples/ml/JavaOneVsRestExample.java\n",
            "spark-2.4.7-bin-hadoop2.7/examples/src/main/java/org/apache/spark/examples/ml/JavaInteractionExample.java\n",
            "spark-2.4.7-bin-hadoop2.7/examples/src/main/java/org/apache/spark/examples/ml/JavaVectorSizeHintExample.java\n",
            "spark-2.4.7-bin-hadoop2.7/examples/src/main/java/org/apache/spark/examples/ml/JavaPrefixSpanExample.java\n",
            "spark-2.4.7-bin-hadoop2.7/examples/src/main/java/org/apache/spark/examples/ml/JavaNormalizerExample.java\n",
            "spark-2.4.7-bin-hadoop2.7/examples/src/main/java/org/apache/spark/examples/ml/JavaTokenizerExample.java\n",
            "spark-2.4.7-bin-hadoop2.7/examples/src/main/java/org/apache/spark/examples/ml/JavaLinearSVCExample.java\n",
            "spark-2.4.7-bin-hadoop2.7/examples/src/main/java/org/apache/spark/examples/ml/JavaVectorIndexerExample.java\n",
            "spark-2.4.7-bin-hadoop2.7/examples/src/main/java/org/apache/spark/examples/ml/JavaCountVectorizerExample.java\n",
            "spark-2.4.7-bin-hadoop2.7/examples/src/main/java/org/apache/spark/examples/ml/JavaStringIndexerExample.java\n",
            "spark-2.4.7-bin-hadoop2.7/examples/src/main/java/org/apache/spark/examples/ml/JavaBinarizerExample.java\n",
            "spark-2.4.7-bin-hadoop2.7/examples/src/main/java/org/apache/spark/examples/ml/JavaChiSquareTestExample.java\n",
            "spark-2.4.7-bin-hadoop2.7/examples/src/main/java/org/apache/spark/examples/ml/JavaPCAExample.java\n",
            "spark-2.4.7-bin-hadoop2.7/examples/src/main/java/org/apache/spark/examples/ml/JavaRandomForestClassifierExample.java\n",
            "spark-2.4.7-bin-hadoop2.7/examples/src/main/java/org/apache/spark/examples/ml/JavaSummarizerExample.java\n",
            "spark-2.4.7-bin-hadoop2.7/examples/src/main/java/org/apache/spark/examples/ml/JavaQuantileDiscretizerExample.java\n",
            "spark-2.4.7-bin-hadoop2.7/examples/src/main/java/org/apache/spark/examples/ml/JavaALSExample.java\n",
            "spark-2.4.7-bin-hadoop2.7/examples/src/main/java/org/apache/spark/examples/ml/JavaOneHotEncoderEstimatorExample.java\n",
            "spark-2.4.7-bin-hadoop2.7/examples/src/main/java/org/apache/spark/examples/ml/JavaFeatureHasherExample.java\n",
            "spark-2.4.7-bin-hadoop2.7/examples/src/main/java/org/apache/spark/examples/ml/JavaTfIdfExample.java\n",
            "spark-2.4.7-bin-hadoop2.7/examples/src/main/java/org/apache/spark/examples/ml/JavaStopWordsRemoverExample.java\n",
            "spark-2.4.7-bin-hadoop2.7/examples/src/main/java/org/apache/spark/examples/ml/JavaMinMaxScalerExample.java\n",
            "spark-2.4.7-bin-hadoop2.7/examples/src/main/java/org/apache/spark/examples/ml/JavaLogisticRegressionSummaryExample.java\n",
            "spark-2.4.7-bin-hadoop2.7/examples/src/main/java/org/apache/spark/examples/ml/JavaKMeansExample.java\n",
            "spark-2.4.7-bin-hadoop2.7/examples/src/main/java/org/apache/spark/examples/ml/JavaDecisionTreeRegressionExample.java\n",
            "spark-2.4.7-bin-hadoop2.7/examples/src/main/java/org/apache/spark/examples/ml/JavaBucketizerExample.java\n",
            "spark-2.4.7-bin-hadoop2.7/examples/src/main/java/org/apache/spark/examples/ml/JavaImputerExample.java\n",
            "spark-2.4.7-bin-hadoop2.7/examples/src/main/java/org/apache/spark/examples/JavaLogQuery.java\n",
            "spark-2.4.7-bin-hadoop2.7/examples/src/main/java/org/apache/spark/examples/JavaSparkPi.java\n",
            "spark-2.4.7-bin-hadoop2.7/examples/src/main/java/org/apache/spark/examples/mllib/\n",
            "spark-2.4.7-bin-hadoop2.7/examples/src/main/java/org/apache/spark/examples/mllib/JavaPowerIterationClusteringExample.java\n",
            "spark-2.4.7-bin-hadoop2.7/examples/src/main/java/org/apache/spark/examples/mllib/JavaALS.java\n",
            "spark-2.4.7-bin-hadoop2.7/examples/src/main/java/org/apache/spark/examples/mllib/JavaDecisionTreeClassificationExample.java\n",
            "spark-2.4.7-bin-hadoop2.7/examples/src/main/java/org/apache/spark/examples/mllib/JavaSVMWithSGDExample.java\n",
            "spark-2.4.7-bin-hadoop2.7/examples/src/main/java/org/apache/spark/examples/mllib/JavaLinearRegressionWithSGDExample.java\n",
            "spark-2.4.7-bin-hadoop2.7/examples/src/main/java/org/apache/spark/examples/mllib/JavaGradientBoostingClassificationExample.java\n",
            "spark-2.4.7-bin-hadoop2.7/examples/src/main/java/org/apache/spark/examples/mllib/JavaChiSqSelectorExample.java\n",
            "spark-2.4.7-bin-hadoop2.7/examples/src/main/java/org/apache/spark/examples/mllib/JavaRankingMetricsExample.java\n",
            "spark-2.4.7-bin-hadoop2.7/examples/src/main/java/org/apache/spark/examples/mllib/JavaKernelDensityEstimationExample.java\n",
            "spark-2.4.7-bin-hadoop2.7/examples/src/main/java/org/apache/spark/examples/mllib/JavaGaussianMixtureExample.java\n",
            "spark-2.4.7-bin-hadoop2.7/examples/src/main/java/org/apache/spark/examples/mllib/JavaNaiveBayesExample.java\n",
            "spark-2.4.7-bin-hadoop2.7/examples/src/main/java/org/apache/spark/examples/mllib/JavaStreamingTestExample.java\n",
            "spark-2.4.7-bin-hadoop2.7/examples/src/main/java/org/apache/spark/examples/mllib/JavaSimpleFPGrowth.java\n",
            "spark-2.4.7-bin-hadoop2.7/examples/src/main/java/org/apache/spark/examples/mllib/JavaAssociationRulesExample.java\n",
            "spark-2.4.7-bin-hadoop2.7/examples/src/main/java/org/apache/spark/examples/mllib/JavaLBFGSExample.java\n",
            "spark-2.4.7-bin-hadoop2.7/examples/src/main/java/org/apache/spark/examples/mllib/JavaBinaryClassificationMetricsExample.java\n",
            "spark-2.4.7-bin-hadoop2.7/examples/src/main/java/org/apache/spark/examples/mllib/JavaRecommendationExample.java\n",
            "spark-2.4.7-bin-hadoop2.7/examples/src/main/java/org/apache/spark/examples/mllib/JavaBisectingKMeansExample.java\n",
            "spark-2.4.7-bin-hadoop2.7/examples/src/main/java/org/apache/spark/examples/mllib/JavaHypothesisTestingExample.java\n",
            "spark-2.4.7-bin-hadoop2.7/examples/src/main/java/org/apache/spark/examples/mllib/JavaLatentDirichletAllocationExample.java\n",
            "spark-2.4.7-bin-hadoop2.7/examples/src/main/java/org/apache/spark/examples/mllib/JavaIsotonicRegressionExample.java\n",
            "spark-2.4.7-bin-hadoop2.7/examples/src/main/java/org/apache/spark/examples/mllib/JavaMulticlassClassificationMetricsExample.java\n",
            "spark-2.4.7-bin-hadoop2.7/examples/src/main/java/org/apache/spark/examples/mllib/JavaSVDExample.java\n",
            "spark-2.4.7-bin-hadoop2.7/examples/src/main/java/org/apache/spark/examples/mllib/JavaStratifiedSamplingExample.java\n",
            "spark-2.4.7-bin-hadoop2.7/examples/src/main/java/org/apache/spark/examples/mllib/JavaElementwiseProductExample.java\n",
            "spark-2.4.7-bin-hadoop2.7/examples/src/main/java/org/apache/spark/examples/mllib/JavaRegressionMetricsExample.java\n",
            "spark-2.4.7-bin-hadoop2.7/examples/src/main/java/org/apache/spark/examples/mllib/JavaLogisticRegressionWithLBFGSExample.java\n",
            "spark-2.4.7-bin-hadoop2.7/examples/src/main/java/org/apache/spark/examples/mllib/JavaPrefixSpanExample.java\n",
            "spark-2.4.7-bin-hadoop2.7/examples/src/main/java/org/apache/spark/examples/mllib/JavaRandomForestClassificationExample.java\n",
            "spark-2.4.7-bin-hadoop2.7/examples/src/main/java/org/apache/spark/examples/mllib/JavaHypothesisTestingKolmogorovSmirnovTestExample.java\n",
            "spark-2.4.7-bin-hadoop2.7/examples/src/main/java/org/apache/spark/examples/mllib/JavaRandomForestRegressionExample.java\n",
            "spark-2.4.7-bin-hadoop2.7/examples/src/main/java/org/apache/spark/examples/mllib/JavaCorrelationsExample.java\n",
            "spark-2.4.7-bin-hadoop2.7/examples/src/main/java/org/apache/spark/examples/mllib/JavaMultiLabelClassificationMetricsExample.java\n",
            "spark-2.4.7-bin-hadoop2.7/examples/src/main/java/org/apache/spark/examples/mllib/JavaPCAExample.java\n",
            "spark-2.4.7-bin-hadoop2.7/examples/src/main/java/org/apache/spark/examples/mllib/JavaKMeansExample.java\n",
            "spark-2.4.7-bin-hadoop2.7/examples/src/main/java/org/apache/spark/examples/mllib/JavaDecisionTreeRegressionExample.java\n",
            "spark-2.4.7-bin-hadoop2.7/examples/src/main/java/org/apache/spark/examples/mllib/JavaSummaryStatisticsExample.java\n",
            "spark-2.4.7-bin-hadoop2.7/examples/src/main/java/org/apache/spark/examples/mllib/JavaGradientBoostingRegressionExample.java\n",
            "spark-2.4.7-bin-hadoop2.7/examples/src/main/python/\n",
            "spark-2.4.7-bin-hadoop2.7/examples/src/main/python/parquet_inputformat.py\n",
            "spark-2.4.7-bin-hadoop2.7/examples/src/main/python/pagerank.py\n",
            "spark-2.4.7-bin-hadoop2.7/examples/src/main/python/transitive_closure.py\n",
            "spark-2.4.7-bin-hadoop2.7/examples/src/main/python/logistic_regression.py\n",
            "spark-2.4.7-bin-hadoop2.7/examples/src/main/python/kmeans.py\n",
            "spark-2.4.7-bin-hadoop2.7/examples/src/main/python/wordcount.py\n",
            "spark-2.4.7-bin-hadoop2.7/examples/src/main/python/sql/\n",
            "spark-2.4.7-bin-hadoop2.7/examples/src/main/python/sql/basic.py\n",
            "spark-2.4.7-bin-hadoop2.7/examples/src/main/python/sql/arrow.py\n",
            "spark-2.4.7-bin-hadoop2.7/examples/src/main/python/sql/hive.py\n",
            "spark-2.4.7-bin-hadoop2.7/examples/src/main/python/sql/streaming/\n",
            "spark-2.4.7-bin-hadoop2.7/examples/src/main/python/sql/streaming/structured_network_wordcount.py\n",
            "spark-2.4.7-bin-hadoop2.7/examples/src/main/python/sql/streaming/structured_kafka_wordcount.py\n",
            "spark-2.4.7-bin-hadoop2.7/examples/src/main/python/sql/streaming/structured_network_wordcount_windowed.py\n",
            "spark-2.4.7-bin-hadoop2.7/examples/src/main/python/sql/datasource.py\n",
            "spark-2.4.7-bin-hadoop2.7/examples/src/main/python/status_api_demo.py\n",
            "spark-2.4.7-bin-hadoop2.7/examples/src/main/python/pi.py\n",
            "spark-2.4.7-bin-hadoop2.7/examples/src/main/python/streaming/\n",
            "spark-2.4.7-bin-hadoop2.7/examples/src/main/python/streaming/hdfs_wordcount.py\n",
            "spark-2.4.7-bin-hadoop2.7/examples/src/main/python/streaming/recoverable_network_wordcount.py\n",
            "spark-2.4.7-bin-hadoop2.7/examples/src/main/python/streaming/network_wordjoinsentiments.py\n",
            "spark-2.4.7-bin-hadoop2.7/examples/src/main/python/streaming/stateful_network_wordcount.py\n",
            "spark-2.4.7-bin-hadoop2.7/examples/src/main/python/streaming/kafka_wordcount.py\n",
            "spark-2.4.7-bin-hadoop2.7/examples/src/main/python/streaming/sql_network_wordcount.py\n",
            "spark-2.4.7-bin-hadoop2.7/examples/src/main/python/streaming/network_wordcount.py\n",
            "spark-2.4.7-bin-hadoop2.7/examples/src/main/python/streaming/direct_kafka_wordcount.py\n",
            "spark-2.4.7-bin-hadoop2.7/examples/src/main/python/streaming/flume_wordcount.py\n",
            "spark-2.4.7-bin-hadoop2.7/examples/src/main/python/streaming/queue_stream.py\n",
            "spark-2.4.7-bin-hadoop2.7/examples/src/main/python/ml/\n",
            "spark-2.4.7-bin-hadoop2.7/examples/src/main/python/ml/logistic_regression_with_elastic_net.py\n",
            "spark-2.4.7-bin-hadoop2.7/examples/src/main/python/ml/decision_tree_regression_example.py\n",
            "spark-2.4.7-bin-hadoop2.7/examples/src/main/python/ml/generalized_linear_regression_example.py\n",
            "spark-2.4.7-bin-hadoop2.7/examples/src/main/python/ml/vector_assembler_example.py\n",
            "spark-2.4.7-bin-hadoop2.7/examples/src/main/python/ml/elementwise_product_example.py\n",
            "spark-2.4.7-bin-hadoop2.7/examples/src/main/python/ml/polynomial_expansion_example.py\n",
            "spark-2.4.7-bin-hadoop2.7/examples/src/main/python/ml/vector_slicer_example.py\n",
            "spark-2.4.7-bin-hadoop2.7/examples/src/main/python/ml/train_validation_split.py\n",
            "spark-2.4.7-bin-hadoop2.7/examples/src/main/python/ml/index_to_string_example.py\n",
            "spark-2.4.7-bin-hadoop2.7/examples/src/main/python/ml/n_gram_example.py\n",
            "spark-2.4.7-bin-hadoop2.7/examples/src/main/python/ml/pca_example.py\n",
            "spark-2.4.7-bin-hadoop2.7/examples/src/main/python/ml/one_vs_rest_example.py\n",
            "spark-2.4.7-bin-hadoop2.7/examples/src/main/python/ml/logistic_regression_summary_example.py\n",
            "spark-2.4.7-bin-hadoop2.7/examples/src/main/python/ml/dct_example.py\n",
            "spark-2.4.7-bin-hadoop2.7/examples/src/main/python/ml/quantile_discretizer_example.py\n",
            "spark-2.4.7-bin-hadoop2.7/examples/src/main/python/ml/bucketizer_example.py\n",
            "spark-2.4.7-bin-hadoop2.7/examples/src/main/python/ml/binarizer_example.py\n",
            "spark-2.4.7-bin-hadoop2.7/examples/src/main/python/ml/fpgrowth_example.py\n",
            "spark-2.4.7-bin-hadoop2.7/examples/src/main/python/ml/stopwords_remover_example.py\n",
            "spark-2.4.7-bin-hadoop2.7/examples/src/main/python/ml/correlation_example.py\n",
            "spark-2.4.7-bin-hadoop2.7/examples/src/main/python/ml/min_hash_lsh_example.py\n",
            "spark-2.4.7-bin-hadoop2.7/examples/src/main/python/ml/standard_scaler_example.py\n",
            "spark-2.4.7-bin-hadoop2.7/examples/src/main/python/ml/multiclass_logistic_regression_with_elastic_net.py\n",
            "spark-2.4.7-bin-hadoop2.7/examples/src/main/python/ml/naive_bayes_example.py\n",
            "spark-2.4.7-bin-hadoop2.7/examples/src/main/python/ml/linearsvc.py\n",
            "spark-2.4.7-bin-hadoop2.7/examples/src/main/python/ml/vector_size_hint_example.py\n",
            "spark-2.4.7-bin-hadoop2.7/examples/src/main/python/ml/rformula_example.py\n",
            "spark-2.4.7-bin-hadoop2.7/examples/src/main/python/ml/count_vectorizer_example.py\n",
            "spark-2.4.7-bin-hadoop2.7/examples/src/main/python/ml/min_max_scaler_example.py\n",
            "spark-2.4.7-bin-hadoop2.7/examples/src/main/python/ml/cross_validator.py\n",
            "spark-2.4.7-bin-hadoop2.7/examples/src/main/python/ml/gaussian_mixture_example.py\n",
            "spark-2.4.7-bin-hadoop2.7/examples/src/main/python/ml/tokenizer_example.py\n",
            "spark-2.4.7-bin-hadoop2.7/examples/src/main/python/ml/dataframe_example.py\n",
            "spark-2.4.7-bin-hadoop2.7/examples/src/main/python/ml/chisq_selector_example.py\n",
            "spark-2.4.7-bin-hadoop2.7/examples/src/main/python/ml/max_abs_scaler_example.py\n",
            "spark-2.4.7-bin-hadoop2.7/examples/src/main/python/ml/gradient_boosted_tree_classifier_example.py\n",
            "spark-2.4.7-bin-hadoop2.7/examples/src/main/python/ml/random_forest_classifier_example.py\n",
            "spark-2.4.7-bin-hadoop2.7/examples/src/main/python/ml/bisecting_k_means_example.py\n",
            "spark-2.4.7-bin-hadoop2.7/examples/src/main/python/ml/aft_survival_regression.py\n",
            "spark-2.4.7-bin-hadoop2.7/examples/src/main/python/ml/kmeans_example.py\n",
            "spark-2.4.7-bin-hadoop2.7/examples/src/main/python/ml/decision_tree_classification_example.py\n",
            "spark-2.4.7-bin-hadoop2.7/examples/src/main/python/ml/linear_regression_with_elastic_net.py\n",
            "spark-2.4.7-bin-hadoop2.7/examples/src/main/python/ml/lda_example.py\n",
            "spark-2.4.7-bin-hadoop2.7/examples/src/main/python/ml/string_indexer_example.py\n",
            "spark-2.4.7-bin-hadoop2.7/examples/src/main/python/ml/estimator_transformer_param_example.py\n",
            "spark-2.4.7-bin-hadoop2.7/examples/src/main/python/ml/imputer_example.py\n",
            "spark-2.4.7-bin-hadoop2.7/examples/src/main/python/ml/isotonic_regression_example.py\n",
            "spark-2.4.7-bin-hadoop2.7/examples/src/main/python/ml/als_example.py\n",
            "spark-2.4.7-bin-hadoop2.7/examples/src/main/python/ml/sql_transformer.py\n",
            "spark-2.4.7-bin-hadoop2.7/examples/src/main/python/ml/summarizer_example.py\n",
            "spark-2.4.7-bin-hadoop2.7/examples/src/main/python/ml/multilayer_perceptron_classification.py\n",
            "spark-2.4.7-bin-hadoop2.7/examples/src/main/python/ml/prefixspan_example.py\n",
            "spark-2.4.7-bin-hadoop2.7/examples/src/main/python/ml/normalizer_example.py\n",
            "spark-2.4.7-bin-hadoop2.7/examples/src/main/python/ml/bucketed_random_projection_lsh_example.py\n",
            "spark-2.4.7-bin-hadoop2.7/examples/src/main/python/ml/feature_hasher_example.py\n",
            "spark-2.4.7-bin-hadoop2.7/examples/src/main/python/ml/random_forest_regressor_example.py\n",
            "spark-2.4.7-bin-hadoop2.7/examples/src/main/python/ml/chi_square_test_example.py\n",
            "spark-2.4.7-bin-hadoop2.7/examples/src/main/python/ml/tf_idf_example.py\n",
            "spark-2.4.7-bin-hadoop2.7/examples/src/main/python/ml/vector_indexer_example.py\n",
            "spark-2.4.7-bin-hadoop2.7/examples/src/main/python/ml/onehot_encoder_estimator_example.py\n",
            "spark-2.4.7-bin-hadoop2.7/examples/src/main/python/ml/pipeline_example.py\n",
            "spark-2.4.7-bin-hadoop2.7/examples/src/main/python/ml/word2vec_example.py\n",
            "spark-2.4.7-bin-hadoop2.7/examples/src/main/python/ml/gradient_boosted_tree_regressor_example.py\n",
            "spark-2.4.7-bin-hadoop2.7/examples/src/main/python/mllib/\n",
            "spark-2.4.7-bin-hadoop2.7/examples/src/main/python/mllib/summary_statistics_example.py\n",
            "spark-2.4.7-bin-hadoop2.7/examples/src/main/python/mllib/decision_tree_regression_example.py\n",
            "spark-2.4.7-bin-hadoop2.7/examples/src/main/python/mllib/stratified_sampling_example.py\n",
            "spark-2.4.7-bin-hadoop2.7/examples/src/main/python/mllib/multi_class_metrics_example.py\n",
            "spark-2.4.7-bin-hadoop2.7/examples/src/main/python/mllib/elementwise_product_example.py\n",
            "spark-2.4.7-bin-hadoop2.7/examples/src/main/python/mllib/streaming_k_means_example.py\n",
            "spark-2.4.7-bin-hadoop2.7/examples/src/main/python/mllib/binary_classification_metrics_example.py\n",
            "spark-2.4.7-bin-hadoop2.7/examples/src/main/python/mllib/svd_example.py\n",
            "spark-2.4.7-bin-hadoop2.7/examples/src/main/python/mllib/random_forest_classification_example.py\n",
            "spark-2.4.7-bin-hadoop2.7/examples/src/main/python/mllib/correlations_example.py\n",
            "spark-2.4.7-bin-hadoop2.7/examples/src/main/python/mllib/pca_rowmatrix_example.py\n",
            "spark-2.4.7-bin-hadoop2.7/examples/src/main/python/mllib/hypothesis_testing_kolmogorov_smirnov_test_example.py\n",
            "spark-2.4.7-bin-hadoop2.7/examples/src/main/python/mllib/sampled_rdds.py\n",
            "spark-2.4.7-bin-hadoop2.7/examples/src/main/python/mllib/correlations.py\n",
            "spark-2.4.7-bin-hadoop2.7/examples/src/main/python/mllib/regression_metrics_example.py\n",
            "spark-2.4.7-bin-hadoop2.7/examples/src/main/python/mllib/logistic_regression.py\n",
            "spark-2.4.7-bin-hadoop2.7/examples/src/main/python/mllib/linear_regression_with_sgd_example.py\n",
            "spark-2.4.7-bin-hadoop2.7/examples/src/main/python/mllib/logistic_regression_with_lbfgs_example.py\n",
            "spark-2.4.7-bin-hadoop2.7/examples/src/main/python/mllib/fpgrowth_example.py\n",
            "spark-2.4.7-bin-hadoop2.7/examples/src/main/python/mllib/svm_with_sgd_example.py\n",
            "spark-2.4.7-bin-hadoop2.7/examples/src/main/python/mllib/standard_scaler_example.py\n",
            "spark-2.4.7-bin-hadoop2.7/examples/src/main/python/mllib/naive_bayes_example.py\n",
            "spark-2.4.7-bin-hadoop2.7/examples/src/main/python/mllib/power_iteration_clustering_example.py\n",
            "spark-2.4.7-bin-hadoop2.7/examples/src/main/python/mllib/k_means_example.py\n",
            "spark-2.4.7-bin-hadoop2.7/examples/src/main/python/mllib/kmeans.py\n",
            "spark-2.4.7-bin-hadoop2.7/examples/src/main/python/mllib/kernel_density_estimation_example.py\n",
            "spark-2.4.7-bin-hadoop2.7/examples/src/main/python/mllib/gaussian_mixture_example.py\n",
            "spark-2.4.7-bin-hadoop2.7/examples/src/main/python/mllib/word2vec.py\n",
            "spark-2.4.7-bin-hadoop2.7/examples/src/main/python/mllib/random_rdd_generation.py\n",
            "spark-2.4.7-bin-hadoop2.7/examples/src/main/python/mllib/multi_label_metrics_example.py\n",
            "spark-2.4.7-bin-hadoop2.7/examples/src/main/python/mllib/bisecting_k_means_example.py\n",
            "spark-2.4.7-bin-hadoop2.7/examples/src/main/python/mllib/gradient_boosting_classification_example.py\n",
            "spark-2.4.7-bin-hadoop2.7/examples/src/main/python/mllib/hypothesis_testing_example.py\n",
            "spark-2.4.7-bin-hadoop2.7/examples/src/main/python/mllib/decision_tree_classification_example.py\n",
            "spark-2.4.7-bin-hadoop2.7/examples/src/main/python/mllib/recommendation_example.py\n",
            "spark-2.4.7-bin-hadoop2.7/examples/src/main/python/mllib/gaussian_mixture_model.py\n",
            "spark-2.4.7-bin-hadoop2.7/examples/src/main/python/mllib/isotonic_regression_example.py\n",
            "spark-2.4.7-bin-hadoop2.7/examples/src/main/python/mllib/gradient_boosting_regression_example.py\n",
            "spark-2.4.7-bin-hadoop2.7/examples/src/main/python/mllib/normalizer_example.py\n",
            "spark-2.4.7-bin-hadoop2.7/examples/src/main/python/mllib/random_forest_regression_example.py\n",
            "spark-2.4.7-bin-hadoop2.7/examples/src/main/python/mllib/tf_idf_example.py\n",
            "spark-2.4.7-bin-hadoop2.7/examples/src/main/python/mllib/latent_dirichlet_allocation_example.py\n",
            "spark-2.4.7-bin-hadoop2.7/examples/src/main/python/mllib/ranking_metrics_example.py\n",
            "spark-2.4.7-bin-hadoop2.7/examples/src/main/python/mllib/word2vec_example.py\n",
            "spark-2.4.7-bin-hadoop2.7/examples/src/main/python/mllib/streaming_linear_regression_example.py\n",
            "spark-2.4.7-bin-hadoop2.7/examples/src/main/python/als.py\n",
            "spark-2.4.7-bin-hadoop2.7/examples/src/main/python/sort.py\n",
            "spark-2.4.7-bin-hadoop2.7/examples/src/main/python/avro_inputformat.py\n",
            "spark-2.4.7-bin-hadoop2.7/examples/jars/\n",
            "spark-2.4.7-bin-hadoop2.7/examples/jars/spark-examples_2.11-2.4.7.jar\n",
            "spark-2.4.7-bin-hadoop2.7/examples/jars/scopt_2.11-3.7.0.jar\n",
            "spark-2.4.7-bin-hadoop2.7/R/\n",
            "spark-2.4.7-bin-hadoop2.7/R/lib/\n",
            "spark-2.4.7-bin-hadoop2.7/R/lib/SparkR/\n",
            "spark-2.4.7-bin-hadoop2.7/R/lib/SparkR/tests/\n",
            "spark-2.4.7-bin-hadoop2.7/R/lib/SparkR/tests/testthat/\n",
            "spark-2.4.7-bin-hadoop2.7/R/lib/SparkR/tests/testthat/test_basic.R\n",
            "spark-2.4.7-bin-hadoop2.7/R/lib/SparkR/html/\n",
            "spark-2.4.7-bin-hadoop2.7/R/lib/SparkR/html/R.css\n",
            "spark-2.4.7-bin-hadoop2.7/R/lib/SparkR/html/00Index.html\n",
            "spark-2.4.7-bin-hadoop2.7/R/lib/SparkR/NAMESPACE\n",
            "spark-2.4.7-bin-hadoop2.7/R/lib/SparkR/profile/\n",
            "spark-2.4.7-bin-hadoop2.7/R/lib/SparkR/profile/shell.R\n",
            "spark-2.4.7-bin-hadoop2.7/R/lib/SparkR/profile/general.R\n",
            "spark-2.4.7-bin-hadoop2.7/R/lib/SparkR/Meta/\n",
            "spark-2.4.7-bin-hadoop2.7/R/lib/SparkR/Meta/Rd.rds\n",
            "spark-2.4.7-bin-hadoop2.7/R/lib/SparkR/Meta/features.rds\n",
            "spark-2.4.7-bin-hadoop2.7/R/lib/SparkR/Meta/hsearch.rds\n",
            "spark-2.4.7-bin-hadoop2.7/R/lib/SparkR/Meta/links.rds\n",
            "spark-2.4.7-bin-hadoop2.7/R/lib/SparkR/Meta/nsInfo.rds\n",
            "spark-2.4.7-bin-hadoop2.7/R/lib/SparkR/Meta/package.rds\n",
            "spark-2.4.7-bin-hadoop2.7/R/lib/SparkR/worker/\n",
            "spark-2.4.7-bin-hadoop2.7/R/lib/SparkR/worker/daemon.R\n",
            "spark-2.4.7-bin-hadoop2.7/R/lib/SparkR/worker/worker.R\n",
            "spark-2.4.7-bin-hadoop2.7/R/lib/SparkR/help/\n",
            "spark-2.4.7-bin-hadoop2.7/R/lib/SparkR/help/paths.rds\n",
            "spark-2.4.7-bin-hadoop2.7/R/lib/SparkR/help/aliases.rds\n",
            "spark-2.4.7-bin-hadoop2.7/R/lib/SparkR/help/SparkR.rdx\n",
            "spark-2.4.7-bin-hadoop2.7/R/lib/SparkR/help/AnIndex\n",
            "spark-2.4.7-bin-hadoop2.7/R/lib/SparkR/help/SparkR.rdb\n",
            "spark-2.4.7-bin-hadoop2.7/R/lib/SparkR/DESCRIPTION\n",
            "spark-2.4.7-bin-hadoop2.7/R/lib/SparkR/INDEX\n",
            "spark-2.4.7-bin-hadoop2.7/R/lib/SparkR/R/\n",
            "spark-2.4.7-bin-hadoop2.7/R/lib/SparkR/R/SparkR\n",
            "spark-2.4.7-bin-hadoop2.7/R/lib/SparkR/R/SparkR.rdx\n",
            "spark-2.4.7-bin-hadoop2.7/R/lib/SparkR/R/SparkR.rdb\n",
            "spark-2.4.7-bin-hadoop2.7/R/lib/sparkr.zip\n",
            "spark-2.4.7-bin-hadoop2.7/RELEASE\n",
            "spark-2.4.7-bin-hadoop2.7/jars/\n",
            "spark-2.4.7-bin-hadoop2.7/jars/hadoop-client-2.7.3.jar\n",
            "spark-2.4.7-bin-hadoop2.7/jars/compress-lzf-1.0.3.jar\n",
            "spark-2.4.7-bin-hadoop2.7/jars/activation-1.1.1.jar\n",
            "spark-2.4.7-bin-hadoop2.7/jars/json4s-scalap_2.11-3.5.3.jar\n",
            "spark-2.4.7-bin-hadoop2.7/jars/chill-java-0.9.3.jar\n",
            "spark-2.4.7-bin-hadoop2.7/jars/hk2-locator-2.4.0-b34.jar\n",
            "spark-2.4.7-bin-hadoop2.7/jars/validation-api-1.1.0.Final.jar\n",
            "spark-2.4.7-bin-hadoop2.7/jars/super-csv-2.2.0.jar\n",
            "spark-2.4.7-bin-hadoop2.7/jars/leveldbjni-all-1.8.jar\n",
            "spark-2.4.7-bin-hadoop2.7/jars/arrow-format-0.10.0.jar\n",
            "spark-2.4.7-bin-hadoop2.7/jars/hadoop-common-2.7.3.jar\n",
            "spark-2.4.7-bin-hadoop2.7/jars/spark-hive_2.11-2.4.7.jar\n",
            "spark-2.4.7-bin-hadoop2.7/jars/javassist-3.18.1-GA.jar\n",
            "spark-2.4.7-bin-hadoop2.7/jars/oro-2.0.8.jar\n",
            "spark-2.4.7-bin-hadoop2.7/jars/jersey-client-2.22.2.jar\n",
            "spark-2.4.7-bin-hadoop2.7/jars/parquet-encoding-1.10.1.jar\n",
            "spark-2.4.7-bin-hadoop2.7/jars/janino-3.0.16.jar\n",
            "spark-2.4.7-bin-hadoop2.7/jars/arrow-memory-0.10.0.jar\n",
            "spark-2.4.7-bin-hadoop2.7/jars/hadoop-mapreduce-client-core-2.7.3.jar\n",
            "spark-2.4.7-bin-hadoop2.7/jars/logging-interceptor-3.12.0.jar\n",
            "spark-2.4.7-bin-hadoop2.7/jars/flatbuffers-1.2.0-3f79e055.jar\n",
            "spark-2.4.7-bin-hadoop2.7/jars/slf4j-log4j12-1.7.16.jar\n",
            "spark-2.4.7-bin-hadoop2.7/jars/guava-14.0.1.jar\n",
            "spark-2.4.7-bin-hadoop2.7/jars/datanucleus-core-3.2.10.jar\n",
            "spark-2.4.7-bin-hadoop2.7/jars/calcite-core-1.2.0-incubating.jar\n",
            "spark-2.4.7-bin-hadoop2.7/jars/antlr-2.7.7.jar\n",
            "spark-2.4.7-bin-hadoop2.7/jars/jackson-core-2.6.7.jar\n",
            "spark-2.4.7-bin-hadoop2.7/jars/jaxb-api-2.2.2.jar\n",
            "spark-2.4.7-bin-hadoop2.7/jars/commons-configuration-1.6.jar\n",
            "spark-2.4.7-bin-hadoop2.7/jars/json4s-ast_2.11-3.5.3.jar\n",
            "spark-2.4.7-bin-hadoop2.7/jars/hive-jdbc-1.2.1.spark2.jar\n",
            "spark-2.4.7-bin-hadoop2.7/jars/jackson-module-jaxb-annotations-2.6.7.jar\n",
            "spark-2.4.7-bin-hadoop2.7/jars/bonecp-0.8.0.RELEASE.jar\n",
            "spark-2.4.7-bin-hadoop2.7/jars/spark-hive-thriftserver_2.11-2.4.7.jar\n",
            "spark-2.4.7-bin-hadoop2.7/jars/hadoop-yarn-client-2.7.3.jar\n",
            "spark-2.4.7-bin-hadoop2.7/jars/machinist_2.11-0.6.1.jar\n",
            "spark-2.4.7-bin-hadoop2.7/jars/kubernetes-model-common-4.6.1.jar\n",
            "spark-2.4.7-bin-hadoop2.7/jars/hive-beeline-1.2.1.spark2.jar\n",
            "spark-2.4.7-bin-hadoop2.7/jars/libthrift-0.9.3.jar\n",
            "spark-2.4.7-bin-hadoop2.7/jars/commons-pool-1.5.4.jar\n",
            "spark-2.4.7-bin-hadoop2.7/jars/metrics-graphite-3.1.5.jar\n",
            "spark-2.4.7-bin-hadoop2.7/jars/libfb303-0.9.3.jar\n",
            "spark-2.4.7-bin-hadoop2.7/jars/commons-lang-2.6.jar\n",
            "spark-2.4.7-bin-hadoop2.7/jars/pyrolite-4.13.jar\n",
            "spark-2.4.7-bin-hadoop2.7/jars/lz4-java-1.4.0.jar\n",
            "spark-2.4.7-bin-hadoop2.7/jars/orc-core-1.5.5-nohive.jar\n",
            "spark-2.4.7-bin-hadoop2.7/jars/calcite-linq4j-1.2.0-incubating.jar\n",
            "spark-2.4.7-bin-hadoop2.7/jars/hk2-api-2.4.0-b34.jar\n",
            "spark-2.4.7-bin-hadoop2.7/jars/snakeyaml-1.15.jar\n",
            "spark-2.4.7-bin-hadoop2.7/jars/shapeless_2.11-2.3.2.jar\n",
            "spark-2.4.7-bin-hadoop2.7/jars/arrow-vector-0.10.0.jar\n",
            "spark-2.4.7-bin-hadoop2.7/jars/spark-tags_2.11-2.4.7-tests.jar\n",
            "spark-2.4.7-bin-hadoop2.7/jars/jackson-module-paranamer-2.7.9.jar\n",
            "spark-2.4.7-bin-hadoop2.7/jars/api-asn1-api-1.0.0-M20.jar\n",
            "spark-2.4.7-bin-hadoop2.7/jars/minlog-1.3.0.jar\n",
            "spark-2.4.7-bin-hadoop2.7/jars/spark-yarn_2.11-2.4.7.jar\n",
            "spark-2.4.7-bin-hadoop2.7/jars/curator-framework-2.7.1.jar\n",
            "spark-2.4.7-bin-hadoop2.7/jars/commons-compress-1.8.1.jar\n",
            "spark-2.4.7-bin-hadoop2.7/jars/javax.ws.rs-api-2.0.1.jar\n",
            "spark-2.4.7-bin-hadoop2.7/jars/scala-compiler-2.11.12.jar\n",
            "spark-2.4.7-bin-hadoop2.7/jars/jackson-xc-1.9.13.jar\n",
            "spark-2.4.7-bin-hadoop2.7/jars/jackson-databind-2.6.7.3.jar\n",
            "spark-2.4.7-bin-hadoop2.7/jars/jersey-media-jaxb-2.22.2.jar\n",
            "spark-2.4.7-bin-hadoop2.7/jars/arpack_combined_all-0.1.jar\n",
            "spark-2.4.7-bin-hadoop2.7/jars/gson-2.2.4.jar\n",
            "spark-2.4.7-bin-hadoop2.7/jars/hadoop-yarn-api-2.7.3.jar\n",
            "spark-2.4.7-bin-hadoop2.7/jars/parquet-hadoop-1.10.1.jar\n",
            "spark-2.4.7-bin-hadoop2.7/jars/apacheds-i18n-2.0.0-M15.jar\n",
            "spark-2.4.7-bin-hadoop2.7/jars/metrics-json-3.1.5.jar\n",
            "spark-2.4.7-bin-hadoop2.7/jars/hk2-utils-2.4.0-b34.jar\n",
            "spark-2.4.7-bin-hadoop2.7/jars/log4j-1.2.17.jar\n",
            "spark-2.4.7-bin-hadoop2.7/jars/javolution-5.5.1.jar\n",
            "spark-2.4.7-bin-hadoop2.7/jars/macro-compat_2.11-1.1.1.jar\n",
            "spark-2.4.7-bin-hadoop2.7/jars/aopalliance-repackaged-2.4.0-b34.jar\n",
            "spark-2.4.7-bin-hadoop2.7/jars/spark-graphx_2.11-2.4.7.jar\n",
            "spark-2.4.7-bin-hadoop2.7/jars/commons-beanutils-1.9.4.jar\n",
            "spark-2.4.7-bin-hadoop2.7/jars/xz-1.5.jar\n",
            "spark-2.4.7-bin-hadoop2.7/jars/xmlenc-0.52.jar\n",
            "spark-2.4.7-bin-hadoop2.7/jars/jersey-container-servlet-2.22.2.jar\n",
            "spark-2.4.7-bin-hadoop2.7/jars/jcl-over-slf4j-1.7.16.jar\n",
            "spark-2.4.7-bin-hadoop2.7/jars/parquet-format-2.4.0.jar\n",
            "spark-2.4.7-bin-hadoop2.7/jars/spark-streaming_2.11-2.4.7.jar\n",
            "spark-2.4.7-bin-hadoop2.7/jars/spark-sql_2.11-2.4.7.jar\n",
            "spark-2.4.7-bin-hadoop2.7/jars/jdo-api-3.0.1.jar\n",
            "spark-2.4.7-bin-hadoop2.7/jars/jpam-1.1.jar\n",
            "spark-2.4.7-bin-hadoop2.7/jars/spark-tags_2.11-2.4.7.jar\n",
            "spark-2.4.7-bin-hadoop2.7/jars/json4s-core_2.11-3.5.3.jar\n",
            "spark-2.4.7-bin-hadoop2.7/jars/core-1.1.2.jar\n",
            "spark-2.4.7-bin-hadoop2.7/jars/hppc-0.7.2.jar\n",
            "spark-2.4.7-bin-hadoop2.7/jars/datanucleus-api-jdo-3.2.6.jar\n",
            "spark-2.4.7-bin-hadoop2.7/jars/commons-math3-3.4.1.jar\n",
            "spark-2.4.7-bin-hadoop2.7/jars/spark-network-common_2.11-2.4.7.jar\n",
            "spark-2.4.7-bin-hadoop2.7/jars/commons-net-3.1.jar\n",
            "spark-2.4.7-bin-hadoop2.7/jars/commons-compiler-3.0.16.jar\n",
            "spark-2.4.7-bin-hadoop2.7/jars/spire_2.11-0.13.0.jar\n",
            "spark-2.4.7-bin-hadoop2.7/jars/aircompressor-0.10.jar\n",
            "spark-2.4.7-bin-hadoop2.7/jars/derby-10.12.1.1.jar\n",
            "spark-2.4.7-bin-hadoop2.7/jars/datanucleus-rdbms-3.2.9.jar\n",
            "spark-2.4.7-bin-hadoop2.7/jars/hadoop-mapreduce-client-jobclient-2.7.3.jar\n",
            "spark-2.4.7-bin-hadoop2.7/jars/avro-1.8.2.jar\n",
            "spark-2.4.7-bin-hadoop2.7/jars/chill_2.11-0.9.3.jar\n",
            "spark-2.4.7-bin-hadoop2.7/jars/hadoop-auth-2.7.3.jar\n",
            "spark-2.4.7-bin-hadoop2.7/jars/stream-2.7.0.jar\n",
            "spark-2.4.7-bin-hadoop2.7/jars/apacheds-kerberos-codec-2.0.0-M15.jar\n",
            "spark-2.4.7-bin-hadoop2.7/jars/antlr4-runtime-4.7.jar\n",
            "spark-2.4.7-bin-hadoop2.7/jars/osgi-resource-locator-1.0.1.jar\n",
            "spark-2.4.7-bin-hadoop2.7/jars/httpcore-4.4.10.jar\n",
            "spark-2.4.7-bin-hadoop2.7/jars/ivy-2.4.0.jar\n",
            "spark-2.4.7-bin-hadoop2.7/jars/kryo-shaded-4.0.2.jar\n",
            "spark-2.4.7-bin-hadoop2.7/jars/jackson-module-scala_2.11-2.6.7.1.jar\n",
            "spark-2.4.7-bin-hadoop2.7/jars/orc-shims-1.5.5.jar\n",
            "spark-2.4.7-bin-hadoop2.7/jars/curator-recipes-2.7.1.jar\n",
            "spark-2.4.7-bin-hadoop2.7/jars/json4s-jackson_2.11-3.5.3.jar\n",
            "spark-2.4.7-bin-hadoop2.7/jars/commons-cli-1.2.jar\n",
            "spark-2.4.7-bin-hadoop2.7/jars/slf4j-api-1.7.16.jar\n",
            "spark-2.4.7-bin-hadoop2.7/jars/jetty-6.1.26.jar\n",
            "spark-2.4.7-bin-hadoop2.7/jars/spark-catalyst_2.11-2.4.7.jar\n",
            "spark-2.4.7-bin-hadoop2.7/jars/stax-api-1.0.1.jar\n",
            "spark-2.4.7-bin-hadoop2.7/jars/eigenbase-properties-1.1.5.jar\n",
            "spark-2.4.7-bin-hadoop2.7/jars/spark-unsafe_2.11-2.4.7.jar\n",
            "spark-2.4.7-bin-hadoop2.7/jars/commons-io-2.4.jar\n",
            "spark-2.4.7-bin-hadoop2.7/jars/javax.inject-1.jar\n",
            "spark-2.4.7-bin-hadoop2.7/jars/guice-3.0.jar\n",
            "spark-2.4.7-bin-hadoop2.7/jars/commons-logging-1.1.3.jar\n",
            "spark-2.4.7-bin-hadoop2.7/jars/spark-mllib_2.11-2.4.7.jar\n",
            "spark-2.4.7-bin-hadoop2.7/jars/hadoop-mapreduce-client-common-2.7.3.jar\n",
            "spark-2.4.7-bin-hadoop2.7/jars/zjsonpatch-0.3.0.jar\n",
            "spark-2.4.7-bin-hadoop2.7/jars/spark-sketch_2.11-2.4.7.jar\n",
            "spark-2.4.7-bin-hadoop2.7/jars/univocity-parsers-2.7.3.jar\n",
            "spark-2.4.7-bin-hadoop2.7/jars/scala-reflect-2.11.12.jar\n",
            "spark-2.4.7-bin-hadoop2.7/jars/jsp-api-2.1.jar\n",
            "spark-2.4.7-bin-hadoop2.7/jars/kubernetes-model-4.6.1.jar\n",
            "spark-2.4.7-bin-hadoop2.7/jars/parquet-jackson-1.10.1.jar\n",
            "spark-2.4.7-bin-hadoop2.7/jars/jackson-core-asl-1.9.13.jar\n",
            "spark-2.4.7-bin-hadoop2.7/jars/aopalliance-1.0.jar\n",
            "spark-2.4.7-bin-hadoop2.7/jars/hadoop-yarn-server-web-proxy-2.7.3.jar\n",
            "spark-2.4.7-bin-hadoop2.7/jars/metrics-jvm-3.1.5.jar\n",
            "spark-2.4.7-bin-hadoop2.7/jars/spark-mesos_2.11-2.4.7.jar\n",
            "spark-2.4.7-bin-hadoop2.7/jars/hive-cli-1.2.1.spark2.jar\n",
            "spark-2.4.7-bin-hadoop2.7/jars/apache-log4j-extras-1.2.17.jar\n",
            "spark-2.4.7-bin-hadoop2.7/jars/guice-servlet-3.0.jar\n",
            "spark-2.4.7-bin-hadoop2.7/jars/commons-dbcp-1.4.jar\n",
            "spark-2.4.7-bin-hadoop2.7/jars/netty-all-4.1.47.Final.jar\n",
            "spark-2.4.7-bin-hadoop2.7/jars/protobuf-java-2.5.0.jar\n",
            "spark-2.4.7-bin-hadoop2.7/jars/jta-1.1.jar\n",
            "spark-2.4.7-bin-hadoop2.7/jars/netty-3.9.9.Final.jar\n",
            "spark-2.4.7-bin-hadoop2.7/jars/orc-mapreduce-1.5.5-nohive.jar\n",
            "spark-2.4.7-bin-hadoop2.7/jars/spark-core_2.11-2.4.7.jar\n",
            "spark-2.4.7-bin-hadoop2.7/jars/scala-xml_2.11-1.0.5.jar\n",
            "spark-2.4.7-bin-hadoop2.7/jars/javax.annotation-api-1.2.jar\n",
            "spark-2.4.7-bin-hadoop2.7/jars/hadoop-yarn-common-2.7.3.jar\n",
            "spark-2.4.7-bin-hadoop2.7/jars/jackson-mapper-asl-1.9.13.jar\n",
            "spark-2.4.7-bin-hadoop2.7/jars/jul-to-slf4j-1.7.16.jar\n",
            "spark-2.4.7-bin-hadoop2.7/jars/spire-macros_2.11-0.13.0.jar\n",
            "spark-2.4.7-bin-hadoop2.7/jars/javax.servlet-api-3.1.0.jar\n",
            "spark-2.4.7-bin-hadoop2.7/jars/hive-exec-1.2.1.spark2.jar\n",
            "spark-2.4.7-bin-hadoop2.7/jars/mesos-1.4.0-shaded-protobuf.jar\n",
            "spark-2.4.7-bin-hadoop2.7/jars/jodd-core-3.5.2.jar\n",
            "spark-2.4.7-bin-hadoop2.7/jars/curator-client-2.7.1.jar\n",
            "spark-2.4.7-bin-hadoop2.7/jars/zookeeper-3.4.6.jar\n",
            "spark-2.4.7-bin-hadoop2.7/jars/commons-digester-1.8.jar\n",
            "spark-2.4.7-bin-hadoop2.7/jars/xbean-asm6-shaded-4.8.jar\n",
            "spark-2.4.7-bin-hadoop2.7/jars/scala-parser-combinators_2.11-1.1.0.jar\n",
            "spark-2.4.7-bin-hadoop2.7/jars/spark-launcher_2.11-2.4.7.jar\n",
            "spark-2.4.7-bin-hadoop2.7/jars/jsr305-1.3.9.jar\n",
            "spark-2.4.7-bin-hadoop2.7/jars/scala-library-2.11.12.jar\n",
            "spark-2.4.7-bin-hadoop2.7/jars/jersey-container-servlet-core-2.22.2.jar\n",
            "spark-2.4.7-bin-hadoop2.7/jars/spark-repl_2.11-2.4.7.jar\n",
            "spark-2.4.7-bin-hadoop2.7/jars/jackson-jaxrs-1.9.13.jar\n",
            "spark-2.4.7-bin-hadoop2.7/jars/opencsv-2.3.jar\n",
            "spark-2.4.7-bin-hadoop2.7/jars/commons-lang3-3.5.jar\n",
            "spark-2.4.7-bin-hadoop2.7/jars/jetty-util-6.1.26.jar\n",
            "spark-2.4.7-bin-hadoop2.7/jars/generex-1.0.2.jar\n",
            "spark-2.4.7-bin-hadoop2.7/jars/joda-time-2.9.3.jar\n",
            "spark-2.4.7-bin-hadoop2.7/jars/shims-0.7.45.jar\n",
            "spark-2.4.7-bin-hadoop2.7/jars/objenesis-2.5.1.jar\n",
            "spark-2.4.7-bin-hadoop2.7/jars/commons-codec-1.10.jar\n",
            "spark-2.4.7-bin-hadoop2.7/jars/py4j-0.10.7.jar\n",
            "spark-2.4.7-bin-hadoop2.7/jars/avro-mapred-1.8.2-hadoop2.jar\n",
            "spark-2.4.7-bin-hadoop2.7/jars/RoaringBitmap-0.7.45.jar\n",
            "spark-2.4.7-bin-hadoop2.7/jars/zstd-jni-1.3.2-2.jar\n",
            "spark-2.4.7-bin-hadoop2.7/jars/hadoop-annotations-2.7.3.jar\n",
            "spark-2.4.7-bin-hadoop2.7/jars/commons-collections-3.2.2.jar\n",
            "spark-2.4.7-bin-hadoop2.7/jars/parquet-column-1.10.1.jar\n",
            "spark-2.4.7-bin-hadoop2.7/jars/commons-crypto-1.0.0.jar\n",
            "spark-2.4.7-bin-hadoop2.7/jars/spark-kvstore_2.11-2.4.7.jar\n",
            "spark-2.4.7-bin-hadoop2.7/jars/snappy-java-1.1.7.5.jar\n",
            "spark-2.4.7-bin-hadoop2.7/jars/httpclient-4.5.6.jar\n",
            "spark-2.4.7-bin-hadoop2.7/jars/spark-mllib-local_2.11-2.4.7.jar\n",
            "spark-2.4.7-bin-hadoop2.7/jars/okio-1.15.0.jar\n",
            "spark-2.4.7-bin-hadoop2.7/jars/hadoop-hdfs-2.7.3.jar\n",
            "spark-2.4.7-bin-hadoop2.7/jars/breeze_2.11-0.13.2.jar\n",
            "spark-2.4.7-bin-hadoop2.7/jars/hadoop-yarn-server-common-2.7.3.jar\n",
            "spark-2.4.7-bin-hadoop2.7/jars/paranamer-2.8.jar\n",
            "spark-2.4.7-bin-hadoop2.7/jars/commons-httpclient-3.1.jar\n",
            "spark-2.4.7-bin-hadoop2.7/jars/jersey-server-2.22.2.jar\n",
            "spark-2.4.7-bin-hadoop2.7/jars/jline-2.14.6.jar\n",
            "spark-2.4.7-bin-hadoop2.7/jars/spark-network-shuffle_2.11-2.4.7.jar\n",
            "spark-2.4.7-bin-hadoop2.7/jars/spark-kubernetes_2.11-2.4.7.jar\n",
            "spark-2.4.7-bin-hadoop2.7/jars/jackson-annotations-2.6.7.jar\n",
            "spark-2.4.7-bin-hadoop2.7/jars/parquet-common-1.10.1.jar\n",
            "spark-2.4.7-bin-hadoop2.7/jars/ST4-4.0.4.jar\n",
            "spark-2.4.7-bin-hadoop2.7/jars/htrace-core-3.1.0-incubating.jar\n",
            "spark-2.4.7-bin-hadoop2.7/jars/JavaEWAH-0.3.2.jar\n",
            "spark-2.4.7-bin-hadoop2.7/jars/api-util-1.0.0-M20.jar\n",
            "spark-2.4.7-bin-hadoop2.7/jars/parquet-hadoop-bundle-1.6.0.jar\n",
            "spark-2.4.7-bin-hadoop2.7/jars/breeze-macros_2.11-0.13.2.jar\n",
            "spark-2.4.7-bin-hadoop2.7/jars/snappy-0.2.jar\n",
            "spark-2.4.7-bin-hadoop2.7/jars/stringtemplate-3.2.1.jar\n",
            "spark-2.4.7-bin-hadoop2.7/jars/kubernetes-client-4.6.1.jar\n",
            "spark-2.4.7-bin-hadoop2.7/jars/automaton-1.11-8.jar\n",
            "spark-2.4.7-bin-hadoop2.7/jars/hive-metastore-1.2.1.spark2.jar\n",
            "spark-2.4.7-bin-hadoop2.7/jars/jersey-common-2.22.2.jar\n",
            "spark-2.4.7-bin-hadoop2.7/jars/javax.inject-2.4.0-b34.jar\n",
            "spark-2.4.7-bin-hadoop2.7/jars/okhttp-3.12.0.jar\n",
            "spark-2.4.7-bin-hadoop2.7/jars/antlr-runtime-3.4.jar\n",
            "spark-2.4.7-bin-hadoop2.7/jars/hadoop-mapreduce-client-app-2.7.3.jar\n",
            "spark-2.4.7-bin-hadoop2.7/jars/xercesImpl-2.9.1.jar\n",
            "spark-2.4.7-bin-hadoop2.7/jars/jersey-guava-2.22.2.jar\n",
            "spark-2.4.7-bin-hadoop2.7/jars/jtransforms-2.4.0.jar\n",
            "spark-2.4.7-bin-hadoop2.7/jars/hadoop-mapreduce-client-shuffle-2.7.3.jar\n",
            "spark-2.4.7-bin-hadoop2.7/jars/stax-api-1.0-2.jar\n",
            "spark-2.4.7-bin-hadoop2.7/jars/metrics-core-3.1.5.jar\n",
            "spark-2.4.7-bin-hadoop2.7/jars/jackson-dataformat-yaml-2.6.7.jar\n",
            "spark-2.4.7-bin-hadoop2.7/jars/avro-ipc-1.8.2.jar\n",
            "spark-2.4.7-bin-hadoop2.7/jars/calcite-avatica-1.2.0-incubating.jar\n"
          ],
          "name": "stdout"
        }
      ]
    },
    {
      "cell_type": "code",
      "metadata": {
        "id": "eReTtjokxDyp"
      },
      "source": [
        "!pip install -q findspark"
      ],
      "execution_count": null,
      "outputs": []
    },
    {
      "cell_type": "code",
      "metadata": {
        "id": "LMaC-8KDxJsE"
      },
      "source": [
        "import os\n",
        "os.environ[\"JAVA_HOME\"] = \"/usr/lib/jvm/java-8-openjdk-amd64\"\n",
        "os.environ[\"SPARK_HOME\"] = \"/content/spark-2.4.7-bin-hadoop2.7\""
      ],
      "execution_count": null,
      "outputs": []
    },
    {
      "cell_type": "markdown",
      "metadata": {
        "id": "lPJ7V6twzXtE"
      },
      "source": [
        "## Starting Point: SparkSession"
      ]
    },
    {
      "cell_type": "markdown",
      "metadata": {
        "id": "lNeRw-Zzzlhd"
      },
      "source": [
        "SparkSession in Spark 2.0 provides builtin support for Hive features including the ability to write queries using HiveQL, access to Hive UDFs, and the ability to read data from Hive tables. To use these features, you do not need to have an existing Hive setup."
      ]
    },
    {
      "cell_type": "code",
      "metadata": {
        "id": "DCMVS0aPxN2_"
      },
      "source": [
        "import findspark\n",
        "findspark.init()\n",
        "\n",
        "from pyspark.sql import SparkSession\n",
        "spark = SparkSession \\\n",
        "    .builder \\\n",
        "    .appName(\"Python Spark SQL basic example\") \\\n",
        "    .config(\"spark.some.config.option\", \"some-value\") \\\n",
        "    .getOrCreate()"
      ],
      "execution_count": null,
      "outputs": []
    },
    {
      "cell_type": "code",
      "metadata": {
        "id": "b4ZzVuYSUGTD"
      },
      "source": [
        "from pyspark import SparkContext, SparkConf\n",
        "sc = SparkContext.getOrCreate()"
      ],
      "execution_count": null,
      "outputs": []
    },
    {
      "cell_type": "code",
      "metadata": {
        "id": "54Li3fCG4uAW"
      },
      "source": [
        "from io import StringIO"
      ],
      "execution_count": null,
      "outputs": []
    },
    {
      "cell_type": "code",
      "metadata": {
        "id": "Xg53yMJDmbQj"
      },
      "source": [
        "from pyspark.sql.types import StructType\n",
        "import datetime"
      ],
      "execution_count": null,
      "outputs": []
    },
    {
      "cell_type": "code",
      "metadata": {
        "colab": {
          "base_uri": "https://localhost:8080/"
        },
        "id": "rQ30DMXAl1lw",
        "outputId": "ed2cfda0-c102-41da-9cb5-54e3a96f409d"
      },
      "source": [
        "df = spark.read.format('com.databricks.spark.csv').\\\n",
        "                        options(header='true', \\\n",
        "                        inferschema='true').\\\n",
        "              load(\"/content/drive/MyDrive/IDS 561/project/publicsafety-chicago-crime/chicago_crime_\" + str(2014) + \".csv\",header=True);\n",
        "#df.select('date').toPandas().tail(100)\n",
        "print((df.count(), len(df.columns)))"
      ],
      "execution_count": null,
      "outputs": [
        {
          "output_type": "stream",
          "text": [
            "(274423, 17)\n"
          ],
          "name": "stdout"
        }
      ]
    },
    {
      "cell_type": "code",
      "metadata": {
        "id": "CAC0bhs86VqX",
        "colab": {
          "base_uri": "https://localhost:8080/"
        },
        "outputId": "08e0885f-b4d5-446d-ddc0-5bae5615bc29"
      },
      "source": [
        "year = [2015,2016]\n",
        "for i in year:\n",
        "  print(i)\n",
        "  dfyear = spark.read.format('com.databricks.spark.csv').\\\n",
        "                        options(header='true', \\\n",
        "                        inferschema='true').\\\n",
        "              load(\"/content/drive/MyDrive/IDS 561/project/publicsafety-chicago-crime/chicago_crime_\" + str(i) + \".csv\",header=True);\n",
        "  df = df.union(dfyear)\n",
        "print((df.count(), len(df.columns)))"
      ],
      "execution_count": null,
      "outputs": [
        {
          "output_type": "stream",
          "text": [
            "2015\n",
            "2016\n",
            "(754541, 17)\n"
          ],
          "name": "stdout"
        }
      ]
    },
    {
      "cell_type": "code",
      "metadata": {
        "id": "dCgKjqOdEr7P"
      },
      "source": [
        "from pyspark.sql.functions import *\n",
        "from pyspark.sql import functions as f"
      ],
      "execution_count": null,
      "outputs": []
    },
    {
      "cell_type": "code",
      "metadata": {
        "id": "C186JTXCATTd"
      },
      "source": [
        "df = df.withColumn(\"date\", f.from_unixtime(f.unix_timestamp(\"date\",'MM/dd/yyyy hh:mm:ss aa'),'MM/dd/yyyy HH:mm:ss'))\\\n",
        ".withColumn('date', f.to_timestamp('date', 'MM/dd/yyyy HH:mm:ss'))\\\n",
        ".withColumn('dateonly', f.to_date(f.col(\"date\")))\\\n",
        ".withColumn('year', f.date_format('date', 'yyyy'))\\\n",
        ".withColumn('month', f.date_format('date', 'MM'))\\\n",
        ".withColumn('day', f.date_format('date', 'dd'))\\\n",
        ".withColumn('dayofweek', f.dayofweek('date'))\\\n",
        ".withColumn('timeonly', f.date_format('date', 'HH:mm:ss'))\\\n",
        ".withColumn('hour', f.date_format('date', 'HH'))\n"
      ],
      "execution_count": null,
      "outputs": []
    },
    {
      "cell_type": "code",
      "metadata": {
        "id": "eDgHNcsqRkrW"
      },
      "source": [
        "df = df.withColumn('daypart',\\\n",
        "              f.when((f.col(\"hour\") >= \"06\") & (f.col(\"hour\") < \"09\"), \"early morning\")\\\n",
        "              .when((f.col(\"hour\") >= \"09\") & (f.col(\"hour\") < \"12\"), \"late morning\")\\\n",
        "              .when((f.col(\"hour\") >= \"12\") & (f.col(\"hour\") < \"15\"), \"early afternoon\")\\\n",
        "              .when((f.col(\"hour\") >= \"15\") & (f.col(\"hour\") < \"18\"), \"late afternoon\")\\\n",
        "              .when((f.col(\"hour\") >= \"18\") & (f.col(\"hour\") < \"21\"), \"evening\")\\\n",
        "              .when((f.col(\"hour\") >= \"21\") & (f.col(\"hour\") < \"24\"), \"night\")\\\n",
        "              .when((f.col(\"hour\") >= \"00\") & (f.col(\"hour\") < \"03\"), \"late night\")\\\n",
        "              .otherwise(\"toward morning\"))"
      ],
      "execution_count": null,
      "outputs": []
    },
    {
      "cell_type": "code",
      "metadata": {
        "id": "nNz3sx0Ql2Q8"
      },
      "source": [
        "df = df.withColumn('season',\\\n",
        "              f.when((f.col(\"month\").isin(['03','04','05'])), \"spring\")\\\n",
        "              .when((f.col(\"month\").isin(['06','07','08'])), \"summer\")\\\n",
        "              .when((f.col(\"month\").isin(['09','10','11'])), \"fall\")\\\n",
        "              .otherwise(\"winter\"))"
      ],
      "execution_count": null,
      "outputs": []
    },
    {
      "cell_type": "code",
      "metadata": {
        "id": "zaq_hHY2xnWF"
      },
      "source": [
        "df = df.withColumnRenamed(\"Primary Type\",\"PrimaryType\").\\\n",
        "withColumnRenamed(\"Location Description\",\"LocationDescription\").\\\n",
        "withColumnRenamed(\"Community Area\",\"CommunityArea\").\\\n",
        "withColumnRenamed(\"FBI Code\",\"FBICode\")"
      ],
      "execution_count": null,
      "outputs": []
    },
    {
      "cell_type": "code",
      "metadata": {
        "id": "avTOMEEK12IQ"
      },
      "source": [
        ""
      ],
      "execution_count": null,
      "outputs": []
    },
    {
      "cell_type": "markdown",
      "metadata": {
        "id": "fg2hG4A_hU7z"
      },
      "source": [
        "# Predict arrest"
      ]
    },
    {
      "cell_type": "code",
      "metadata": {
        "colab": {
          "base_uri": "https://localhost:8080/"
        },
        "id": "vb62hJIdjQPF",
        "outputId": "e0d97a5f-9bb9-4069-f486-2efaab11ca87"
      },
      "source": [
        "df.show(1)"
      ],
      "execution_count": null,
      "outputs": [
        {
          "output_type": "stream",
          "text": [
            "+-------+-----------+-------------------+-------------------+----+-----------+-----------+-------------------+------+--------+----+--------+----+-------------+-------+------------+-------------+----------+----+-----+---+---------+--------+----+----------+------+\n",
            "|     ID|Case Number|               date|              Block|IUCR|PrimaryType|Description|LocationDescription|Arrest|Domestic|Beat|District|Ward|CommunityArea|FBICode|    Latitude|    Longitude|  dateonly|year|month|day|dayofweek|timeonly|hour|   daypart|season|\n",
            "+-------+-----------+-------------------+-------------------+----+-----------+-----------+-------------------+------+--------+----+--------+----+-------------+-------+------------+-------------+----------+----+-----+---+---------+--------+----+----------+------+\n",
            "|9446824|   HX100141|2014-01-01 02:00:00|0000X W ILLINOIS ST|0460|    BATTERY|     SIMPLE|             STREET| false|   false|1831|      18|  42|            8|    08B|41.890828047|-87.630234746|2014-01-01|2014|   01| 01|        4|02:00:00|  02|late night|winter|\n",
            "+-------+-----------+-------------------+-------------------+----+-----------+-----------+-------------------+------+--------+----+--------+----+-------------+-------+------------+-------------+----------+----+-----+---+---------+--------+----+----------+------+\n",
            "only showing top 1 row\n",
            "\n"
          ],
          "name": "stdout"
        }
      ]
    },
    {
      "cell_type": "code",
      "metadata": {
        "colab": {
          "base_uri": "https://localhost:8080/"
        },
        "id": "VAzHhXSUhieb",
        "outputId": "282d880e-619a-48fb-b54b-cf51a85345d6"
      },
      "source": [
        "df.schema.names"
      ],
      "execution_count": null,
      "outputs": [
        {
          "output_type": "execute_result",
          "data": {
            "text/plain": [
              "['ID',\n",
              " 'Case Number',\n",
              " 'date',\n",
              " 'Block',\n",
              " 'IUCR',\n",
              " 'PrimaryType',\n",
              " 'Description',\n",
              " 'LocationDescription',\n",
              " 'Arrest',\n",
              " 'Domestic',\n",
              " 'Beat',\n",
              " 'District',\n",
              " 'Ward',\n",
              " 'CommunityArea',\n",
              " 'FBICode',\n",
              " 'Latitude',\n",
              " 'Longitude',\n",
              " 'dateonly',\n",
              " 'year',\n",
              " 'month',\n",
              " 'day',\n",
              " 'dayofweek',\n",
              " 'timeonly',\n",
              " 'hour',\n",
              " 'daypart',\n",
              " 'season']"
            ]
          },
          "metadata": {
            "tags": []
          },
          "execution_count": 21
        }
      ]
    },
    {
      "cell_type": "markdown",
      "metadata": {
        "id": "dvMNQ51phcQz"
      },
      "source": [
        "variables needed to be removed: ID, Case Number, date, Block, IUCR,CommunityArea, Latitude, Longitude,dateonly, year, timeonly"
      ]
    },
    {
      "cell_type": "code",
      "metadata": {
        "id": "hNAPAc5ShZpw"
      },
      "source": [
        "deselect_features = [\n",
        " 'Description',                    \n",
        " 'ID',\n",
        " 'Case Number',\n",
        " 'date',\n",
        " 'Block',\n",
        " 'IUCR',\n",
        " 'Latitude',\n",
        " 'Longitude',\n",
        " 'dateonly',\n",
        " 'year',\n",
        " 'timeonly',\n",
        " 'area_name']"
      ],
      "execution_count": null,
      "outputs": []
    },
    {
      "cell_type": "code",
      "metadata": {
        "colab": {
          "base_uri": "https://localhost:8080/"
        },
        "id": "0WaKNolRmfF7",
        "outputId": "5e1b53a5-079f-4504-be5c-bd79e21fab13"
      },
      "source": [
        "features_df = df.drop(*deselect_features)\n",
        "features_df.printSchema()"
      ],
      "execution_count": null,
      "outputs": [
        {
          "output_type": "stream",
          "text": [
            "root\n",
            " |-- PrimaryType: string (nullable = true)\n",
            " |-- LocationDescription: string (nullable = true)\n",
            " |-- Arrest: boolean (nullable = true)\n",
            " |-- Domestic: boolean (nullable = true)\n",
            " |-- Beat: integer (nullable = true)\n",
            " |-- District: integer (nullable = true)\n",
            " |-- Ward: integer (nullable = true)\n",
            " |-- CommunityArea: integer (nullable = true)\n",
            " |-- FBICode: string (nullable = true)\n",
            " |-- month: string (nullable = true)\n",
            " |-- day: string (nullable = true)\n",
            " |-- dayofweek: integer (nullable = true)\n",
            " |-- hour: string (nullable = true)\n",
            " |-- daypart: string (nullable = false)\n",
            " |-- season: string (nullable = false)\n",
            "\n"
          ],
          "name": "stdout"
        }
      ]
    },
    {
      "cell_type": "code",
      "metadata": {
        "id": "oKWvo3PauhY0"
      },
      "source": [
        "from pyspark.sql.types import StringType\n",
        "from pyspark.sql.functions import col"
      ],
      "execution_count": null,
      "outputs": []
    },
    {
      "cell_type": "code",
      "metadata": {
        "id": "E8STzL2KsXAu"
      },
      "source": [
        "# features_df = features_df.withColumn(\"Arrest\", col(\"Arrest\").cast('string')) \\\n",
        "# .withColumn(\"Domestic\", col(\"Domestic\").cast('string'))\\\n",
        "# .withColumn(\"Beat\", col(\"Beat\").cast('float'))\\\n",
        "# .withColumn(\"District\", col(\"District\").cast('float'))\\\n",
        "# .withColumn(\"Ward\", col(\"Ward\").cast('float'))\\\n",
        "# .withColumn(\"CommunityArea\", col(\"CommunityArea\").cast('float'))\\\n",
        "# .withColumn(\"month\", col(\"month\").cast('float'))\\\n",
        "# .withColumn(\"day\", col(\"day\").cast('float'))\\\n",
        "# .withColumn(\"dayofweek\", col(\"dayofweek\").cast('float'))\\\n",
        "# .withColumn(\"hour\", col(\"hour\").cast('float'))\\\n",
        "# .withColumn(\"dayofweek\", col(\"dayofweek\").cast('float'))\\"
      ],
      "execution_count": null,
      "outputs": []
    },
    {
      "cell_type": "code",
      "metadata": {
        "id": "z0bpTq1M-wtt"
      },
      "source": [
        "features_df = features_df.withColumn(\"Arrest\", col(\"Arrest\").cast('string')) \\\n",
        ".withColumn(\"Domestic\", col(\"Domestic\").cast('string'))\\\n",
        ".withColumn(\"Beat\", col(\"Beat\").cast('float'))\\\n",
        ".withColumn(\"District\", col(\"District\").cast('string'))\\\n",
        ".withColumn(\"Ward\", col(\"Ward\").cast('string'))\\\n",
        ".withColumn(\"CommunityArea\", col(\"CommunityArea\").cast('string'))\\\n",
        ".withColumn(\"month\", col(\"month\").cast('string'))\\\n",
        ".withColumn(\"day\", col(\"day\").cast('string'))\\\n",
        ".withColumn(\"dayofweek\", col(\"dayofweek\").cast('string'))\\\n",
        ".withColumn(\"hour\", col(\"hour\").cast('string'))\\\n",
        ".withColumn(\"dayofweek\", col(\"dayofweek\").cast('string'))\\"
      ],
      "execution_count": null,
      "outputs": []
    },
    {
      "cell_type": "code",
      "metadata": {
        "colab": {
          "base_uri": "https://localhost:8080/"
        },
        "id": "f0ftKZ2xu7n-",
        "outputId": "22a3e142-f4a8-4705-c36c-8694de6c0c15"
      },
      "source": [
        "features_df.printSchema()"
      ],
      "execution_count": null,
      "outputs": [
        {
          "output_type": "stream",
          "text": [
            "root\n",
            " |-- PrimaryType: string (nullable = true)\n",
            " |-- LocationDescription: string (nullable = true)\n",
            " |-- Arrest: string (nullable = true)\n",
            " |-- Domestic: string (nullable = true)\n",
            " |-- Beat: float (nullable = true)\n",
            " |-- District: string (nullable = true)\n",
            " |-- Ward: string (nullable = true)\n",
            " |-- CommunityArea: string (nullable = true)\n",
            " |-- FBICode: string (nullable = true)\n",
            " |-- month: string (nullable = true)\n",
            " |-- day: string (nullable = true)\n",
            " |-- dayofweek: string (nullable = true)\n",
            " |-- hour: string (nullable = true)\n",
            " |-- daypart: string (nullable = false)\n",
            " |-- season: string (nullable = false)\n",
            "\n"
          ],
          "name": "stdout"
        }
      ]
    },
    {
      "cell_type": "code",
      "metadata": {
        "colab": {
          "base_uri": "https://localhost:8080/"
        },
        "id": "_MzUbklHnGgb",
        "outputId": "588ba7f9-9982-41f0-f7be-9f3e154b8e45"
      },
      "source": [
        "features_df.show()"
      ],
      "execution_count": null,
      "outputs": [
        {
          "output_type": "stream",
          "text": [
            "+-----------------+--------------------+------+--------+------+--------+----+-------------+-------+-----+---+---------+----+----------+------+\n",
            "|      PrimaryType| LocationDescription|Arrest|Domestic|  Beat|District|Ward|CommunityArea|FBICode|month|day|dayofweek|hour|   daypart|season|\n",
            "+-----------------+--------------------+------+--------+------+--------+----+-------------+-------+-----+---+---------+----+----------+------+\n",
            "|          BATTERY|              STREET| false|   false|1831.0|      18|  42|            8|    08B|   01| 01|        4|  02|late night|winter|\n",
            "|            THEFT|       BAR OR TAVERN| false|   false|1832.0|      18|  42|            8|     06|   01| 01|        4|  00|late night|winter|\n",
            "|  CRIMINAL DAMAGE|           APARTMENT| false|   false|1523.0|      15|  28|           25|     14|   01| 01|        4|  00|late night|winter|\n",
            "|          BATTERY|           APARTMENT|  true|   false|2514.0|      25|  31|           19|    08B|   01| 01|        4|  00|late night|winter|\n",
            "|          BATTERY|              STREET| false|   false|1231.0|      12|  25|           28|    08B|   01| 01|        4|  00|late night|winter|\n",
            "|WEAPONS VIOLATION|RESIDENTIAL YARD ...|  true|   false| 825.0|       8|  15|           66|     15|   01| 01|        4|  00|late night|winter|\n",
            "|WEAPONS VIOLATION|           RESIDENCE| false|   false|2531.0|      25|  29|           25|     15|   01| 01|        4|  00|late night|winter|\n",
            "|        NARCOTICS|            SIDEWALK|  true|   false| 823.0|       8|  13|           65|     18|   01| 01|        4|  01|late night|winter|\n",
            "|        NARCOTICS|              STREET|  true|   false|1522.0|      15|  29|           25|     18|   01| 01|        4|  00|late night|winter|\n",
            "|        NARCOTICS|            SIDEWALK|  true|   false| 421.0|       4|   7|           43|     18|   01| 01|        4|  01|late night|winter|\n",
            "|    OTHER OFFENSE|RESIDENTIAL YARD ...|  true|   false|1115.0|      11|  28|           26|     26|   01| 01|        4|  00|late night|winter|\n",
            "|          BATTERY|           APARTMENT|  true|    true|2534.0|      25|  30|           20|    08B|   01| 01|        4|  00|late night|winter|\n",
            "|WEAPONS VIOLATION|RESIDENTIAL YARD ...| false|   false|2532.0|      25|  37|           25|     15|   01| 01|        4|  00|late night|winter|\n",
            "|          BATTERY|              STREET|  true|   false| 114.0|       1|  42|           32|    08B|   01| 01|        4|  00|late night|winter|\n",
            "|    OTHER OFFENSE|               OTHER| false|    true|1211.0|      12|  26|           24|     26|   01| 01|        4|  00|late night|winter|\n",
            "|WEAPONS VIOLATION|PARKING LOT/GARAG...|  true|   false| 933.0|       9|  16|           61|     15|   01| 01|        4|  00|late night|winter|\n",
            "|          BATTERY|           APARTMENT| false|   false|1011.0|      10|  24|           29|    04B|   01| 01|        4|  00|late night|winter|\n",
            "|WEAPONS VIOLATION|RESIDENCE PORCH/H...|  true|   false|2532.0|      25|  37|           25|     15|   01| 01|        4|  00|late night|winter|\n",
            "|        NARCOTICS|        CTA PLATFORM|  true|   false|1933.0|      19|  44|            6|     18|   01| 01|        4|  00|late night|winter|\n",
            "|          ASSAULT|           RESIDENCE| false|   false| 823.0|       8|  15|           66|    04A|   01| 01|        4|  01|late night|winter|\n",
            "+-----------------+--------------------+------+--------+------+--------+----+-------------+-------+-----+---+---------+----+----------+------+\n",
            "only showing top 20 rows\n",
            "\n"
          ],
          "name": "stdout"
        }
      ]
    },
    {
      "cell_type": "code",
      "metadata": {
        "id": "wxDU1Ta77Y4-"
      },
      "source": [
        "#PrimaryType,Description,LocationDescription,Arrest,Domestic,Beat"
      ],
      "execution_count": null,
      "outputs": []
    },
    {
      "cell_type": "code",
      "metadata": {
        "colab": {
          "base_uri": "https://localhost:8080/"
        },
        "id": "wQyzF66mn6uC",
        "outputId": "ab1f3075-4826-488c-eff9-e3124a9282de"
      },
      "source": [
        "features_df.columns"
      ],
      "execution_count": null,
      "outputs": [
        {
          "output_type": "execute_result",
          "data": {
            "text/plain": [
              "['PrimaryType',\n",
              " 'LocationDescription',\n",
              " 'Arrest',\n",
              " 'Domestic',\n",
              " 'Beat',\n",
              " 'District',\n",
              " 'Ward',\n",
              " 'CommunityArea',\n",
              " 'FBICode',\n",
              " 'month',\n",
              " 'day',\n",
              " 'dayofweek',\n",
              " 'hour',\n",
              " 'daypart',\n",
              " 'season']"
            ]
          },
          "metadata": {
            "tags": []
          },
          "execution_count": 78
        }
      ]
    },
    {
      "cell_type": "code",
      "metadata": {
        "id": "X_pTYRLFnLBk"
      },
      "source": [
        "# feature_level_count_dict = []\n",
        "# for feature in features_df.columns:\n",
        "#     levels_list_df = features_df.select(feature).distinct()\n",
        "#     feature_level_count_dict.append({'feature': feature, 'level_count': levels_list_df.count()})"
      ],
      "execution_count": null,
      "outputs": []
    },
    {
      "cell_type": "code",
      "metadata": {
        "id": "9gkhIuoDoO-3"
      },
      "source": [
        "# import pandas as pd\n",
        "\n",
        "# pd.DataFrame(feature_level_count_dict).sort_values(by='level_count', ascending=False)"
      ],
      "execution_count": null,
      "outputs": []
    },
    {
      "cell_type": "code",
      "metadata": {
        "id": "tChW3EV-LAgt"
      },
      "source": [
        "# indices = [0,1,2,3,4,9,-2,-1]\n",
        "# selected_elements = []\n",
        "# for index in indices:\n",
        "#     selected_elements.append(feature_level_count_dict[index])"
      ],
      "execution_count": null,
      "outputs": []
    },
    {
      "cell_type": "code",
      "metadata": {
        "id": "uxtwx2E9LSm8"
      },
      "source": [
        "# selected_elements"
      ],
      "execution_count": null,
      "outputs": []
    },
    {
      "cell_type": "code",
      "metadata": {
        "id": "wedUAdmr6QvK"
      },
      "source": [
        "# features_df.show(1)"
      ],
      "execution_count": null,
      "outputs": []
    },
    {
      "cell_type": "code",
      "metadata": {
        "id": "ap5MS5m4pgMU"
      },
      "source": [
        "from pyspark.ml.feature import OneHotEncoderEstimator, StringIndexer, VectorAssembler, VectorIndexer"
      ],
      "execution_count": null,
      "outputs": []
    },
    {
      "cell_type": "code",
      "metadata": {
        "id": "qu7Kt-SwvgYA"
      },
      "source": [
        "features_df = features_df.replace('?', None).dropna(how='any')"
      ],
      "execution_count": null,
      "outputs": []
    },
    {
      "cell_type": "code",
      "metadata": {
        "id": "07RWs5bX1hj0"
      },
      "source": [
        "#print((df.count(), len(df.columns)))"
      ],
      "execution_count": null,
      "outputs": []
    },
    {
      "cell_type": "code",
      "metadata": {
        "id": "kHBOsd5Q0zwY"
      },
      "source": [
        "#print((features_df.count(), len(features_df.columns)))"
      ],
      "execution_count": null,
      "outputs": []
    },
    {
      "cell_type": "code",
      "metadata": {
        "id": "g-oJKFdTvuAz"
      },
      "source": [
        "# features_df.show(1)"
      ],
      "execution_count": null,
      "outputs": []
    },
    {
      "cell_type": "code",
      "metadata": {
        "id": "BzaYXYV8G1ut"
      },
      "source": [
        "# required_index = ['PrimaryType',\n",
        "#                   'LocationDescription',\n",
        "#                   'Arrest',\n",
        "#                   'Domestic',\n",
        "#                   'FBICode',\n",
        "#                   'daypart',\n",
        "#                   'season']"
      ],
      "execution_count": null,
      "outputs": []
    },
    {
      "cell_type": "code",
      "metadata": {
        "colab": {
          "base_uri": "https://localhost:8080/"
        },
        "id": "RIkUuGRunvsp",
        "outputId": "6140a6b1-c07b-4067-9e47-58260c91e736"
      },
      "source": [
        "# for feature in required_index:\n",
        "#   print(feature)"
      ],
      "execution_count": null,
      "outputs": [
        {
          "output_type": "stream",
          "text": [
            "PrimaryType\n",
            "LocationDescription\n",
            "Arrest\n",
            "Domestic\n",
            "FBICode\n",
            "daypart\n",
            "season\n"
          ],
          "name": "stdout"
        }
      ]
    },
    {
      "cell_type": "code",
      "metadata": {
        "colab": {
          "base_uri": "https://localhost:8080/"
        },
        "id": "l65HLmurphHh",
        "outputId": "998fc24e-3c81-4bc0-86ce-3a776f1a9dba"
      },
      "source": [
        "for feature in features_df.columns:\n",
        "    indexer = StringIndexer()\\\n",
        "                 .setInputCol (feature)\\\n",
        "                 .setOutputCol (feature+\"_indexed\")\n",
        "    print('Fitting feature \"%s\"' % feature)\n",
        "    model = indexer.fit(features_df)\n",
        "    print('Transforming \"%s\"' % feature)\n",
        "    features_df = model.transform(features_df)"
      ],
      "execution_count": null,
      "outputs": [
        {
          "output_type": "stream",
          "text": [
            "Fitting feature \"PrimaryType\"\n",
            "Transforming \"PrimaryType\"\n",
            "Fitting feature \"LocationDescription\"\n",
            "Transforming \"LocationDescription\"\n",
            "Fitting feature \"Arrest\"\n",
            "Transforming \"Arrest\"\n",
            "Fitting feature \"Domestic\"\n",
            "Transforming \"Domestic\"\n",
            "Fitting feature \"Beat\"\n",
            "Transforming \"Beat\"\n",
            "Fitting feature \"District\"\n",
            "Transforming \"District\"\n",
            "Fitting feature \"Ward\"\n",
            "Transforming \"Ward\"\n",
            "Fitting feature \"CommunityArea\"\n",
            "Transforming \"CommunityArea\"\n",
            "Fitting feature \"FBICode\"\n",
            "Transforming \"FBICode\"\n",
            "Fitting feature \"month\"\n",
            "Transforming \"month\"\n",
            "Fitting feature \"day\"\n",
            "Transforming \"day\"\n",
            "Fitting feature \"dayofweek\"\n",
            "Transforming \"dayofweek\"\n",
            "Fitting feature \"hour\"\n",
            "Transforming \"hour\"\n",
            "Fitting feature \"daypart\"\n",
            "Transforming \"daypart\"\n",
            "Fitting feature \"season\"\n",
            "Transforming \"season\"\n"
          ],
          "name": "stdout"
        }
      ]
    },
    {
      "cell_type": "code",
      "metadata": {
        "id": "v0WvpZpbp0q5",
        "colab": {
          "base_uri": "https://localhost:8080/"
        },
        "outputId": "7e5623a2-b755-4516-ba59-abacc467911c"
      },
      "source": [
        "features_df.show()"
      ],
      "execution_count": null,
      "outputs": [
        {
          "output_type": "stream",
          "text": [
            "+-----------------+--------------------+------+--------+------+--------+----+-------------+-------+-----+---+---------+----+----------+------+-------------------+---------------------------+--------------+----------------+------------+----------------+------------+---------------------+---------------+-------------+-----------+-----------------+------------+---------------+--------------+\n",
            "|      PrimaryType| LocationDescription|Arrest|Domestic|  Beat|District|Ward|CommunityArea|FBICode|month|day|dayofweek|hour|   daypart|season|PrimaryType_indexed|LocationDescription_indexed|Arrest_indexed|Domestic_indexed|Beat_indexed|District_indexed|Ward_indexed|CommunityArea_indexed|FBICode_indexed|month_indexed|day_indexed|dayofweek_indexed|hour_indexed|daypart_indexed|season_indexed|\n",
            "+-----------------+--------------------+------+--------+------+--------+----+-------------+-------+-----+---+---------+----+----------+------+-------------------+---------------------------+--------------+----------------+------------+----------------+------------+---------------------+---------------+-------------+-----------+-----------------+------------+---------------+--------------+\n",
            "|          BATTERY|              STREET| false|   false|1831.0|      18|  42|            8|    08B|   01| 01|        4|  02|late night|winter|                1.0|                        0.0|           0.0|             0.0|        12.0|            14.0|         1.0|                  1.0|            1.0|          8.0|        0.0|              3.0|        18.0|            5.0|           3.0|\n",
            "|            THEFT|       BAR OR TAVERN| false|   false|1832.0|      18|  42|            8|     06|   01| 01|        4|  00|late night|winter|                0.0|                       18.0|           0.0|             0.0|       185.0|            14.0|         1.0|                  1.0|            0.0|          8.0|        0.0|              3.0|        11.0|            5.0|           3.0|\n",
            "|  CRIMINAL DAMAGE|           APARTMENT| false|   false|1523.0|      15|  28|           25|     14|   01| 01|        4|  00|late night|winter|                2.0|                        2.0|           0.0|             0.0|        83.0|            11.0|         0.0|                  0.0|            2.0|          8.0|        0.0|              3.0|        11.0|            5.0|           3.0|\n",
            "|          BATTERY|           APARTMENT|  true|   false|2514.0|      25|  31|           19|    08B|   01| 01|        4|  00|late night|winter|                1.0|                        2.0|           1.0|             0.0|       121.0|             5.0|        28.0|                 21.0|            1.0|          8.0|        0.0|              3.0|        11.0|            5.0|           3.0|\n",
            "|          BATTERY|              STREET| false|   false|1231.0|      12|  25|           28|    08B|   01| 01|        4|  00|late night|winter|                1.0|                        0.0|           0.0|             0.0|       198.0|             8.0|        27.0|                  5.0|            1.0|          8.0|        0.0|              3.0|        11.0|            5.0|           3.0|\n",
            "|WEAPONS VIOLATION|RESIDENTIAL YARD ...|  true|   false| 825.0|       8|  15|           66|     15|   01| 01|        4|  00|late night|winter|               11.0|                        7.0|           1.0|             0.0|        38.0|             1.0|        16.0|                 13.0|           12.0|          8.0|        0.0|              3.0|        11.0|            5.0|           3.0|\n",
            "|WEAPONS VIOLATION|           RESIDENCE| false|   false|2531.0|      25|  29|           25|     15|   01| 01|        4|  00|late night|winter|               11.0|                        1.0|           0.0|             0.0|       119.0|             5.0|        17.0|                  0.0|           12.0|          8.0|        0.0|              3.0|        11.0|            5.0|           3.0|\n",
            "|        NARCOTICS|            SIDEWALK|  true|   false| 823.0|       8|  13|           65|     18|   01| 01|        4|  01|late night|winter|                3.0|                        3.0|           1.0|             0.0|         9.0|             1.0|        33.0|                 42.0|            4.0|          8.0|        0.0|              3.0|        17.0|            5.0|           3.0|\n",
            "|        NARCOTICS|              STREET|  true|   false|1522.0|      15|  29|           25|     18|   01| 01|        4|  00|late night|winter|                3.0|                        0.0|           1.0|             0.0|         5.0|            11.0|        17.0|                  0.0|            4.0|          8.0|        0.0|              3.0|        11.0|            5.0|           3.0|\n",
            "|        NARCOTICS|            SIDEWALK|  true|   false| 421.0|       4|   7|           43|     18|   01| 01|        4|  01|late night|winter|                3.0|                        3.0|           1.0|             0.0|         1.0|             3.0|        10.0|                  2.0|            4.0|          8.0|        0.0|              3.0|        17.0|            5.0|           3.0|\n",
            "|    OTHER OFFENSE|RESIDENTIAL YARD ...|  true|   false|1115.0|      11|  28|           26|     26|   01| 01|        4|  00|late night|winter|                5.0|                        7.0|           1.0|             0.0|        52.0|             0.0|         0.0|                 15.0|            3.0|          8.0|        0.0|              3.0|        11.0|            5.0|           3.0|\n",
            "|          BATTERY|           APARTMENT|  true|    true|2534.0|      25|  30|           20|    08B|   01| 01|        4|  00|late night|winter|                1.0|                        2.0|           1.0|             1.0|        32.0|             5.0|        29.0|                 49.0|            1.0|          8.0|        0.0|              3.0|        11.0|            5.0|           3.0|\n",
            "|WEAPONS VIOLATION|RESIDENTIAL YARD ...| false|   false|2532.0|      25|  37|           25|     15|   01| 01|        4|  00|late night|winter|               11.0|                        7.0|           0.0|             0.0|        66.0|             5.0|        12.0|                  0.0|           12.0|          8.0|        0.0|              3.0|        11.0|            5.0|           3.0|\n",
            "|          BATTERY|              STREET|  true|   false| 114.0|       1|  42|           32|    08B|   01| 01|        4|  00|late night|winter|                1.0|                        0.0|           1.0|             0.0|       142.0|             9.0|         1.0|                  6.0|            1.0|          8.0|        0.0|              3.0|        11.0|            5.0|           3.0|\n",
            "|    OTHER OFFENSE|               OTHER| false|    true|1211.0|      12|  26|           24|     26|   01| 01|        4|  00|late night|winter|                5.0|                        4.0|           0.0|             1.0|       193.0|             8.0|        25.0|                  8.0|            3.0|          8.0|        0.0|              3.0|        11.0|            5.0|           3.0|\n",
            "|WEAPONS VIOLATION|PARKING LOT/GARAG...|  true|   false| 933.0|       9|  16|           61|     15|   01| 01|        4|  00|late night|winter|               11.0|                        5.0|           1.0|             0.0|       184.0|             7.0|        11.0|                 18.0|           12.0|          8.0|        0.0|              3.0|        11.0|            5.0|           3.0|\n",
            "|          BATTERY|           APARTMENT| false|   false|1011.0|      10|  24|           29|    04B|   01| 01|        4|  00|late night|winter|                1.0|                        2.0|           0.0|             0.0|        18.0|            10.0|         2.0|                  3.0|           10.0|          8.0|        0.0|              3.0|        11.0|            5.0|           3.0|\n",
            "|WEAPONS VIOLATION|RESIDENCE PORCH/H...|  true|   false|2532.0|      25|  37|           25|     15|   01| 01|        4|  00|late night|winter|               11.0|                       10.0|           1.0|             0.0|        66.0|             5.0|        12.0|                  0.0|           12.0|          8.0|        0.0|              3.0|        11.0|            5.0|           3.0|\n",
            "|        NARCOTICS|        CTA PLATFORM|  true|   false|1933.0|      19|  44|            6|     18|   01| 01|        4|  00|late night|winter|                3.0|                       29.0|           1.0|             0.0|       187.0|            12.0|        24.0|                 16.0|            4.0|          8.0|        0.0|              3.0|        11.0|            5.0|           3.0|\n",
            "|          ASSAULT|           RESIDENCE| false|   false| 823.0|       8|  15|           66|    04A|   01| 01|        4|  01|late night|winter|                4.0|                        1.0|           0.0|             0.0|         9.0|             1.0|        16.0|                 13.0|           11.0|          8.0|        0.0|              3.0|        17.0|            5.0|           3.0|\n",
            "+-----------------+--------------------+------+--------+------+--------+----+-------------+-------+-----+---+---------+----+----------+------+-------------------+---------------------------+--------------+----------------+------------+----------------+------------+---------------------+---------------+-------------+-----------+-----------------+------------+---------------+--------------+\n",
            "only showing top 20 rows\n",
            "\n"
          ],
          "name": "stdout"
        }
      ]
    },
    {
      "cell_type": "code",
      "metadata": {
        "id": "KYdPJ-L5pExi"
      },
      "source": [
        "features_df.printSchema()"
      ],
      "execution_count": null,
      "outputs": []
    },
    {
      "cell_type": "code",
      "metadata": {
        "id": "jYW-fhBI_hE7"
      },
      "source": [
        "# features_df = features_df.drop('PrimaryType_indexed_onehoted')"
      ],
      "execution_count": null,
      "outputs": []
    },
    {
      "cell_type": "code",
      "metadata": {
        "id": "4uyZXGc2hkNx"
      },
      "source": [
        "# required_onehot = ['PrimaryType_indexed','LocationDescription_indexed','Domestic_indexed','Beat','District','Ward','CommunityArea','FBICode_indexed','month','day','dayofweek','hour','daypart_indexed','season_indexed']"
      ],
      "execution_count": null,
      "outputs": []
    },
    {
      "cell_type": "code",
      "metadata": {
        "id": "cnWMLSqnEzep"
      },
      "source": [
        "required_onehot = ['PrimaryType_indexed','LocationDescription_indexed','Domestic_indexed','Beat_indexed','District_indexed','Ward_indexed','CommunityArea_indexed','FBICode_indexed','month_indexed','day_indexed','dayofweek_indexed','hour_indexed','daypart_indexed','season_indexed']"
      ],
      "execution_count": null,
      "outputs": []
    },
    {
      "cell_type": "code",
      "metadata": {
        "id": "YqaVqlzjhDb0",
        "colab": {
          "base_uri": "https://localhost:8080/"
        },
        "outputId": "6324d9cb-d427-43b2-a1f5-923c5a86005e"
      },
      "source": [
        "for feature in required_onehot:\n",
        "    OneHot = OneHotEncoderEstimator()\\\n",
        "    .setInputCols([feature])\\\n",
        "    .setOutputCols([feature+'_onehoted'])\n",
        "    print('Fitting feature \"%s\"' % feature)\n",
        "    model = OneHot.fit(features_df)\n",
        "    print('Transforming \"%s\"' % feature)\n",
        "    features_df = model.transform(features_df)"
      ],
      "execution_count": null,
      "outputs": [
        {
          "output_type": "stream",
          "text": [
            "Fitting feature \"PrimaryType_indexed\"\n",
            "Transforming \"PrimaryType_indexed\"\n",
            "Fitting feature \"LocationDescription_indexed\"\n",
            "Transforming \"LocationDescription_indexed\"\n",
            "Fitting feature \"Domestic_indexed\"\n",
            "Transforming \"Domestic_indexed\"\n",
            "Fitting feature \"Beat_indexed\"\n",
            "Transforming \"Beat_indexed\"\n",
            "Fitting feature \"District_indexed\"\n",
            "Transforming \"District_indexed\"\n",
            "Fitting feature \"Ward_indexed\"\n",
            "Transforming \"Ward_indexed\"\n",
            "Fitting feature \"CommunityArea_indexed\"\n",
            "Transforming \"CommunityArea_indexed\"\n",
            "Fitting feature \"FBICode_indexed\"\n",
            "Transforming \"FBICode_indexed\"\n",
            "Fitting feature \"month_indexed\"\n",
            "Transforming \"month_indexed\"\n",
            "Fitting feature \"day_indexed\"\n",
            "Transforming \"day_indexed\"\n",
            "Fitting feature \"dayofweek_indexed\"\n",
            "Transforming \"dayofweek_indexed\"\n",
            "Fitting feature \"hour_indexed\"\n",
            "Transforming \"hour_indexed\"\n",
            "Fitting feature \"daypart_indexed\"\n",
            "Transforming \"daypart_indexed\"\n",
            "Fitting feature \"season_indexed\"\n",
            "Transforming \"season_indexed\"\n"
          ],
          "name": "stdout"
        }
      ]
    },
    {
      "cell_type": "code",
      "metadata": {
        "colab": {
          "base_uri": "https://localhost:8080/"
        },
        "id": "d2Isc4tTIqc3",
        "outputId": "1a3283aa-a09e-412d-dc88-89b7d5d7c626"
      },
      "source": [
        "features_df.printSchema()"
      ],
      "execution_count": null,
      "outputs": [
        {
          "output_type": "stream",
          "text": [
            "root\n",
            " |-- PrimaryType: string (nullable = true)\n",
            " |-- LocationDescription: string (nullable = true)\n",
            " |-- Arrest: string (nullable = true)\n",
            " |-- Domestic: string (nullable = true)\n",
            " |-- Beat: float (nullable = true)\n",
            " |-- District: string (nullable = true)\n",
            " |-- Ward: string (nullable = true)\n",
            " |-- CommunityArea: string (nullable = true)\n",
            " |-- FBICode: string (nullable = true)\n",
            " |-- month: string (nullable = true)\n",
            " |-- day: string (nullable = true)\n",
            " |-- dayofweek: string (nullable = true)\n",
            " |-- hour: string (nullable = true)\n",
            " |-- daypart: string (nullable = true)\n",
            " |-- season: string (nullable = true)\n",
            " |-- PrimaryType_indexed: double (nullable = false)\n",
            " |-- LocationDescription_indexed: double (nullable = false)\n",
            " |-- Arrest_indexed: double (nullable = false)\n",
            " |-- Domestic_indexed: double (nullable = false)\n",
            " |-- Beat_indexed: double (nullable = false)\n",
            " |-- District_indexed: double (nullable = false)\n",
            " |-- Ward_indexed: double (nullable = false)\n",
            " |-- CommunityArea_indexed: double (nullable = false)\n",
            " |-- FBICode_indexed: double (nullable = false)\n",
            " |-- month_indexed: double (nullable = false)\n",
            " |-- day_indexed: double (nullable = false)\n",
            " |-- dayofweek_indexed: double (nullable = false)\n",
            " |-- hour_indexed: double (nullable = false)\n",
            " |-- daypart_indexed: double (nullable = false)\n",
            " |-- season_indexed: double (nullable = false)\n",
            " |-- PrimaryType_indexed_onehoted: vector (nullable = true)\n",
            " |-- LocationDescription_indexed_onehoted: vector (nullable = true)\n",
            " |-- Domestic_indexed_onehoted: vector (nullable = true)\n",
            " |-- Beat_indexed_onehoted: vector (nullable = true)\n",
            " |-- District_indexed_onehoted: vector (nullable = true)\n",
            " |-- Ward_indexed_onehoted: vector (nullable = true)\n",
            " |-- CommunityArea_indexed_onehoted: vector (nullable = true)\n",
            " |-- FBICode_indexed_onehoted: vector (nullable = true)\n",
            " |-- month_indexed_onehoted: vector (nullable = true)\n",
            " |-- day_indexed_onehoted: vector (nullable = true)\n",
            " |-- dayofweek_indexed_onehoted: vector (nullable = true)\n",
            " |-- hour_indexed_onehoted: vector (nullable = true)\n",
            " |-- daypart_indexed_onehoted: vector (nullable = true)\n",
            " |-- season_indexed_onehoted: vector (nullable = true)\n",
            "\n"
          ],
          "name": "stdout"
        }
      ]
    },
    {
      "cell_type": "code",
      "metadata": {
        "id": "Wt5--RYlByB_"
      },
      "source": [
        "required_features = ['PrimaryType_indexed_onehoted',\n",
        "                    'LocationDescription_indexed_onehoted',\n",
        "                    'Domestic_indexed_onehoted',\n",
        "                    'Beat_indexed_onehoted',\n",
        "                    'District_indexed_onehoted',\n",
        "                    'Ward_indexed_onehoted',\n",
        "                    'CommunityArea_indexed_onehoted',\n",
        "                    'FBICode_indexed_onehoted',\n",
        "                    'month_indexed_onehoted',\n",
        "                    'day_indexed_onehoted',\n",
        "                    'dayofweek_indexed_onehoted',\n",
        "                    'hour_indexed_onehoted',\n",
        "                    'daypart_indexed_onehoted',\n",
        "                    'season_indexed_onehoted',\n",
        "                   ]"
      ],
      "execution_count": null,
      "outputs": []
    },
    {
      "cell_type": "code",
      "metadata": {
        "id": "AJZ1CWYyWLyf"
      },
      "source": [
        "# required_features = ['PrimaryType_indexed',\n",
        "#                     'LocationDescription_indexed',\n",
        "#                     'Domestic_indexed',\n",
        "#                     'Beat',\n",
        "#                     'District',\n",
        "#                     'Ward',\n",
        "#                     'CommunityArea',\n",
        "#                     'FBICode_indexed',\n",
        "#                     'month',\n",
        "#                     'day',\n",
        "#                     'dayofweek',\n",
        "#                     'hour',\n",
        "#                     'daypart_indexed',\n",
        "#                     'season_indexed',\n",
        "#                    ]"
      ],
      "execution_count": null,
      "outputs": []
    },
    {
      "cell_type": "code",
      "metadata": {
        "id": "V2uOYh3IEzDN"
      },
      "source": [
        "from pyspark.ml.feature import StandardScaler"
      ],
      "execution_count": null,
      "outputs": []
    },
    {
      "cell_type": "code",
      "metadata": {
        "id": "tPtzlnwsCtWJ"
      },
      "source": [
        "from pyspark.ml.feature import VectorAssembler\n",
        "\n",
        "assembler = VectorAssembler(inputCols=required_features, outputCol='NumFeatures')\n",
        "\n",
        "transformed_data = assembler.transform(features_df)\n",
        "\n",
        "standardscaler = StandardScaler(inputCol=\"NumFeatures\", outputCol=\"features\")"
      ],
      "execution_count": null,
      "outputs": []
    },
    {
      "cell_type": "code",
      "metadata": {
        "colab": {
          "base_uri": "https://localhost:8080/"
        },
        "id": "Sfzg8u_LGhpm",
        "outputId": "31a15e26-7482-4ee7-bc24-c0fea20bbe1f"
      },
      "source": [
        "transformed_data.show()"
      ],
      "execution_count": null,
      "outputs": [
        {
          "output_type": "stream",
          "text": [
            "+-----------------+--------------------+------+--------+------+--------+----+-------------+-------+-----+---+---------+----+----------+------+-------------------+---------------------------+--------------+----------------+------------+----------------+------------+---------------------+---------------+-------------+-----------+-----------------+------------+---------------+--------------+----------------------------+------------------------------------+-------------------------+---------------------+-------------------------+---------------------+------------------------------+------------------------+----------------------+--------------------+--------------------------+---------------------+------------------------+-----------------------+--------------------+\n",
            "|      PrimaryType| LocationDescription|Arrest|Domestic|  Beat|District|Ward|CommunityArea|FBICode|month|day|dayofweek|hour|   daypart|season|PrimaryType_indexed|LocationDescription_indexed|Arrest_indexed|Domestic_indexed|Beat_indexed|District_indexed|Ward_indexed|CommunityArea_indexed|FBICode_indexed|month_indexed|day_indexed|dayofweek_indexed|hour_indexed|daypart_indexed|season_indexed|PrimaryType_indexed_onehoted|LocationDescription_indexed_onehoted|Domestic_indexed_onehoted|Beat_indexed_onehoted|District_indexed_onehoted|Ward_indexed_onehoted|CommunityArea_indexed_onehoted|FBICode_indexed_onehoted|month_indexed_onehoted|day_indexed_onehoted|dayofweek_indexed_onehoted|hour_indexed_onehoted|daypart_indexed_onehoted|season_indexed_onehoted|         NumFeatures|\n",
            "+-----------------+--------------------+------+--------+------+--------+----+-------------+-------+-----+---+---------+----+----------+------+-------------------+---------------------------+--------------+----------------+------------+----------------+------------+---------------------+---------------+-------------+-----------+-----------------+------------+---------------+--------------+----------------------------+------------------------------------+-------------------------+---------------------+-------------------------+---------------------+------------------------------+------------------------+----------------------+--------------------+--------------------------+---------------------+------------------------+-----------------------+--------------------+\n",
            "|          BATTERY|              STREET| false|   false|1831.0|      18|  42|            8|    08B|   01| 01|        4|  02|late night|winter|                1.0|                        0.0|           0.0|             0.0|        12.0|            14.0|         1.0|                  1.0|            1.0|          8.0|        0.0|              3.0|        18.0|            5.0|           3.0|              (32,[1],[1.0])|                     (133,[0],[1.0])|            (1,[0],[1.0])|     (273,[12],[1.0])|          (23,[14],[1.0])|       (49,[1],[1.0])|                (76,[1],[1.0])|          (25,[1],[1.0])|        (11,[8],[1.0])|      (30,[0],[1.0])|             (6,[3],[1.0])|      (23,[18],[1.0])|           (7,[5],[1.0])|              (3,[],[])|(692,[1,32,165,17...|\n",
            "|            THEFT|       BAR OR TAVERN| false|   false|1832.0|      18|  42|            8|     06|   01| 01|        4|  00|late night|winter|                0.0|                       18.0|           0.0|             0.0|       185.0|            14.0|         1.0|                  1.0|            0.0|          8.0|        0.0|              3.0|        11.0|            5.0|           3.0|              (32,[0],[1.0])|                    (133,[18],[1.0])|            (1,[0],[1.0])|    (273,[185],[1.0])|          (23,[14],[1.0])|       (49,[1],[1.0])|                (76,[1],[1.0])|          (25,[0],[1.0])|        (11,[8],[1.0])|      (30,[0],[1.0])|             (6,[3],[1.0])|      (23,[11],[1.0])|           (7,[5],[1.0])|              (3,[],[])|(692,[0,50,165,35...|\n",
            "|  CRIMINAL DAMAGE|           APARTMENT| false|   false|1523.0|      15|  28|           25|     14|   01| 01|        4|  00|late night|winter|                2.0|                        2.0|           0.0|             0.0|        83.0|            11.0|         0.0|                  0.0|            2.0|          8.0|        0.0|              3.0|        11.0|            5.0|           3.0|              (32,[2],[1.0])|                     (133,[2],[1.0])|            (1,[0],[1.0])|     (273,[83],[1.0])|          (23,[11],[1.0])|       (49,[0],[1.0])|                (76,[0],[1.0])|          (25,[2],[1.0])|        (11,[8],[1.0])|      (30,[0],[1.0])|             (6,[3],[1.0])|      (23,[11],[1.0])|           (7,[5],[1.0])|              (3,[],[])|(692,[2,34,165,24...|\n",
            "|          BATTERY|           APARTMENT|  true|   false|2514.0|      25|  31|           19|    08B|   01| 01|        4|  00|late night|winter|                1.0|                        2.0|           1.0|             0.0|       121.0|             5.0|        28.0|                 21.0|            1.0|          8.0|        0.0|              3.0|        11.0|            5.0|           3.0|              (32,[1],[1.0])|                     (133,[2],[1.0])|            (1,[0],[1.0])|    (273,[121],[1.0])|           (23,[5],[1.0])|      (49,[28],[1.0])|               (76,[21],[1.0])|          (25,[1],[1.0])|        (11,[8],[1.0])|      (30,[0],[1.0])|             (6,[3],[1.0])|      (23,[11],[1.0])|           (7,[5],[1.0])|              (3,[],[])|(692,[1,34,165,28...|\n",
            "|          BATTERY|              STREET| false|   false|1231.0|      12|  25|           28|    08B|   01| 01|        4|  00|late night|winter|                1.0|                        0.0|           0.0|             0.0|       198.0|             8.0|        27.0|                  5.0|            1.0|          8.0|        0.0|              3.0|        11.0|            5.0|           3.0|              (32,[1],[1.0])|                     (133,[0],[1.0])|            (1,[0],[1.0])|    (273,[198],[1.0])|           (23,[8],[1.0])|      (49,[27],[1.0])|                (76,[5],[1.0])|          (25,[1],[1.0])|        (11,[8],[1.0])|      (30,[0],[1.0])|             (6,[3],[1.0])|      (23,[11],[1.0])|           (7,[5],[1.0])|              (3,[],[])|(692,[1,32,165,36...|\n",
            "|WEAPONS VIOLATION|RESIDENTIAL YARD ...|  true|   false| 825.0|       8|  15|           66|     15|   01| 01|        4|  00|late night|winter|               11.0|                        7.0|           1.0|             0.0|        38.0|             1.0|        16.0|                 13.0|           12.0|          8.0|        0.0|              3.0|        11.0|            5.0|           3.0|             (32,[11],[1.0])|                     (133,[7],[1.0])|            (1,[0],[1.0])|     (273,[38],[1.0])|           (23,[1],[1.0])|      (49,[16],[1.0])|               (76,[13],[1.0])|         (25,[12],[1.0])|        (11,[8],[1.0])|      (30,[0],[1.0])|             (6,[3],[1.0])|      (23,[11],[1.0])|           (7,[5],[1.0])|              (3,[],[])|(692,[11,39,165,2...|\n",
            "|WEAPONS VIOLATION|           RESIDENCE| false|   false|2531.0|      25|  29|           25|     15|   01| 01|        4|  00|late night|winter|               11.0|                        1.0|           0.0|             0.0|       119.0|             5.0|        17.0|                  0.0|           12.0|          8.0|        0.0|              3.0|        11.0|            5.0|           3.0|             (32,[11],[1.0])|                     (133,[1],[1.0])|            (1,[0],[1.0])|    (273,[119],[1.0])|           (23,[5],[1.0])|      (49,[17],[1.0])|                (76,[0],[1.0])|         (25,[12],[1.0])|        (11,[8],[1.0])|      (30,[0],[1.0])|             (6,[3],[1.0])|      (23,[11],[1.0])|           (7,[5],[1.0])|              (3,[],[])|(692,[11,33,165,2...|\n",
            "|        NARCOTICS|            SIDEWALK|  true|   false| 823.0|       8|  13|           65|     18|   01| 01|        4|  01|late night|winter|                3.0|                        3.0|           1.0|             0.0|         9.0|             1.0|        33.0|                 42.0|            4.0|          8.0|        0.0|              3.0|        17.0|            5.0|           3.0|              (32,[3],[1.0])|                     (133,[3],[1.0])|            (1,[0],[1.0])|      (273,[9],[1.0])|           (23,[1],[1.0])|      (49,[33],[1.0])|               (76,[42],[1.0])|          (25,[4],[1.0])|        (11,[8],[1.0])|      (30,[0],[1.0])|             (6,[3],[1.0])|      (23,[17],[1.0])|           (7,[5],[1.0])|              (3,[],[])|(692,[3,35,165,17...|\n",
            "|        NARCOTICS|              STREET|  true|   false|1522.0|      15|  29|           25|     18|   01| 01|        4|  00|late night|winter|                3.0|                        0.0|           1.0|             0.0|         5.0|            11.0|        17.0|                  0.0|            4.0|          8.0|        0.0|              3.0|        11.0|            5.0|           3.0|              (32,[3],[1.0])|                     (133,[0],[1.0])|            (1,[0],[1.0])|      (273,[5],[1.0])|          (23,[11],[1.0])|      (49,[17],[1.0])|                (76,[0],[1.0])|          (25,[4],[1.0])|        (11,[8],[1.0])|      (30,[0],[1.0])|             (6,[3],[1.0])|      (23,[11],[1.0])|           (7,[5],[1.0])|              (3,[],[])|(692,[3,32,165,17...|\n",
            "|        NARCOTICS|            SIDEWALK|  true|   false| 421.0|       4|   7|           43|     18|   01| 01|        4|  01|late night|winter|                3.0|                        3.0|           1.0|             0.0|         1.0|             3.0|        10.0|                  2.0|            4.0|          8.0|        0.0|              3.0|        17.0|            5.0|           3.0|              (32,[3],[1.0])|                     (133,[3],[1.0])|            (1,[0],[1.0])|      (273,[1],[1.0])|           (23,[3],[1.0])|      (49,[10],[1.0])|                (76,[2],[1.0])|          (25,[4],[1.0])|        (11,[8],[1.0])|      (30,[0],[1.0])|             (6,[3],[1.0])|      (23,[17],[1.0])|           (7,[5],[1.0])|              (3,[],[])|(692,[3,35,165,16...|\n",
            "|    OTHER OFFENSE|RESIDENTIAL YARD ...|  true|   false|1115.0|      11|  28|           26|     26|   01| 01|        4|  00|late night|winter|                5.0|                        7.0|           1.0|             0.0|        52.0|             0.0|         0.0|                 15.0|            3.0|          8.0|        0.0|              3.0|        11.0|            5.0|           3.0|              (32,[5],[1.0])|                     (133,[7],[1.0])|            (1,[0],[1.0])|     (273,[52],[1.0])|           (23,[0],[1.0])|       (49,[0],[1.0])|               (76,[15],[1.0])|          (25,[3],[1.0])|        (11,[8],[1.0])|      (30,[0],[1.0])|             (6,[3],[1.0])|      (23,[11],[1.0])|           (7,[5],[1.0])|              (3,[],[])|(692,[5,39,165,21...|\n",
            "|          BATTERY|           APARTMENT|  true|    true|2534.0|      25|  30|           20|    08B|   01| 01|        4|  00|late night|winter|                1.0|                        2.0|           1.0|             1.0|        32.0|             5.0|        29.0|                 49.0|            1.0|          8.0|        0.0|              3.0|        11.0|            5.0|           3.0|              (32,[1],[1.0])|                     (133,[2],[1.0])|                (1,[],[])|     (273,[32],[1.0])|           (23,[5],[1.0])|      (49,[29],[1.0])|               (76,[49],[1.0])|          (25,[1],[1.0])|        (11,[8],[1.0])|      (30,[0],[1.0])|             (6,[3],[1.0])|      (23,[11],[1.0])|           (7,[5],[1.0])|              (3,[],[])|(692,[1,34,198,44...|\n",
            "|WEAPONS VIOLATION|RESIDENTIAL YARD ...| false|   false|2532.0|      25|  37|           25|     15|   01| 01|        4|  00|late night|winter|               11.0|                        7.0|           0.0|             0.0|        66.0|             5.0|        12.0|                  0.0|           12.0|          8.0|        0.0|              3.0|        11.0|            5.0|           3.0|             (32,[11],[1.0])|                     (133,[7],[1.0])|            (1,[0],[1.0])|     (273,[66],[1.0])|           (23,[5],[1.0])|      (49,[12],[1.0])|                (76,[0],[1.0])|         (25,[12],[1.0])|        (11,[8],[1.0])|      (30,[0],[1.0])|             (6,[3],[1.0])|      (23,[11],[1.0])|           (7,[5],[1.0])|              (3,[],[])|(692,[11,39,165,2...|\n",
            "|          BATTERY|              STREET|  true|   false| 114.0|       1|  42|           32|    08B|   01| 01|        4|  00|late night|winter|                1.0|                        0.0|           1.0|             0.0|       142.0|             9.0|         1.0|                  6.0|            1.0|          8.0|        0.0|              3.0|        11.0|            5.0|           3.0|              (32,[1],[1.0])|                     (133,[0],[1.0])|            (1,[0],[1.0])|    (273,[142],[1.0])|           (23,[9],[1.0])|       (49,[1],[1.0])|                (76,[6],[1.0])|          (25,[1],[1.0])|        (11,[8],[1.0])|      (30,[0],[1.0])|             (6,[3],[1.0])|      (23,[11],[1.0])|           (7,[5],[1.0])|              (3,[],[])|(692,[1,32,165,30...|\n",
            "|    OTHER OFFENSE|               OTHER| false|    true|1211.0|      12|  26|           24|     26|   01| 01|        4|  00|late night|winter|                5.0|                        4.0|           0.0|             1.0|       193.0|             8.0|        25.0|                  8.0|            3.0|          8.0|        0.0|              3.0|        11.0|            5.0|           3.0|              (32,[5],[1.0])|                     (133,[4],[1.0])|                (1,[],[])|    (273,[193],[1.0])|           (23,[8],[1.0])|      (49,[25],[1.0])|                (76,[8],[1.0])|          (25,[3],[1.0])|        (11,[8],[1.0])|      (30,[0],[1.0])|             (6,[3],[1.0])|      (23,[11],[1.0])|           (7,[5],[1.0])|              (3,[],[])|(692,[5,36,359,44...|\n",
            "|WEAPONS VIOLATION|PARKING LOT/GARAG...|  true|   false| 933.0|       9|  16|           61|     15|   01| 01|        4|  00|late night|winter|               11.0|                        5.0|           1.0|             0.0|       184.0|             7.0|        11.0|                 18.0|           12.0|          8.0|        0.0|              3.0|        11.0|            5.0|           3.0|             (32,[11],[1.0])|                     (133,[5],[1.0])|            (1,[0],[1.0])|    (273,[184],[1.0])|           (23,[7],[1.0])|      (49,[11],[1.0])|               (76,[18],[1.0])|         (25,[12],[1.0])|        (11,[8],[1.0])|      (30,[0],[1.0])|             (6,[3],[1.0])|      (23,[11],[1.0])|           (7,[5],[1.0])|              (3,[],[])|(692,[11,37,165,3...|\n",
            "|          BATTERY|           APARTMENT| false|   false|1011.0|      10|  24|           29|    04B|   01| 01|        4|  00|late night|winter|                1.0|                        2.0|           0.0|             0.0|        18.0|            10.0|         2.0|                  3.0|           10.0|          8.0|        0.0|              3.0|        11.0|            5.0|           3.0|              (32,[1],[1.0])|                     (133,[2],[1.0])|            (1,[0],[1.0])|     (273,[18],[1.0])|          (23,[10],[1.0])|       (49,[2],[1.0])|                (76,[3],[1.0])|         (25,[10],[1.0])|        (11,[8],[1.0])|      (30,[0],[1.0])|             (6,[3],[1.0])|      (23,[11],[1.0])|           (7,[5],[1.0])|              (3,[],[])|(692,[1,34,165,18...|\n",
            "|WEAPONS VIOLATION|RESIDENCE PORCH/H...|  true|   false|2532.0|      25|  37|           25|     15|   01| 01|        4|  00|late night|winter|               11.0|                       10.0|           1.0|             0.0|        66.0|             5.0|        12.0|                  0.0|           12.0|          8.0|        0.0|              3.0|        11.0|            5.0|           3.0|             (32,[11],[1.0])|                    (133,[10],[1.0])|            (1,[0],[1.0])|     (273,[66],[1.0])|           (23,[5],[1.0])|      (49,[12],[1.0])|                (76,[0],[1.0])|         (25,[12],[1.0])|        (11,[8],[1.0])|      (30,[0],[1.0])|             (6,[3],[1.0])|      (23,[11],[1.0])|           (7,[5],[1.0])|              (3,[],[])|(692,[11,42,165,2...|\n",
            "|        NARCOTICS|        CTA PLATFORM|  true|   false|1933.0|      19|  44|            6|     18|   01| 01|        4|  00|late night|winter|                3.0|                       29.0|           1.0|             0.0|       187.0|            12.0|        24.0|                 16.0|            4.0|          8.0|        0.0|              3.0|        11.0|            5.0|           3.0|              (32,[3],[1.0])|                    (133,[29],[1.0])|            (1,[0],[1.0])|    (273,[187],[1.0])|          (23,[12],[1.0])|      (49,[24],[1.0])|               (76,[16],[1.0])|          (25,[4],[1.0])|        (11,[8],[1.0])|      (30,[0],[1.0])|             (6,[3],[1.0])|      (23,[11],[1.0])|           (7,[5],[1.0])|              (3,[],[])|(692,[3,61,165,35...|\n",
            "|          ASSAULT|           RESIDENCE| false|   false| 823.0|       8|  15|           66|    04A|   01| 01|        4|  01|late night|winter|                4.0|                        1.0|           0.0|             0.0|         9.0|             1.0|        16.0|                 13.0|           11.0|          8.0|        0.0|              3.0|        17.0|            5.0|           3.0|              (32,[4],[1.0])|                     (133,[1],[1.0])|            (1,[0],[1.0])|      (273,[9],[1.0])|           (23,[1],[1.0])|      (49,[16],[1.0])|               (76,[13],[1.0])|         (25,[11],[1.0])|        (11,[8],[1.0])|      (30,[0],[1.0])|             (6,[3],[1.0])|      (23,[17],[1.0])|           (7,[5],[1.0])|              (3,[],[])|(692,[4,33,165,17...|\n",
            "+-----------------+--------------------+------+--------+------+--------+----+-------------+-------+-----+---+---------+----+----------+------+-------------------+---------------------------+--------------+----------------+------------+----------------+------------+---------------------+---------------+-------------+-----------+-----------------+------------+---------------+--------------+----------------------------+------------------------------------+-------------------------+---------------------+-------------------------+---------------------+------------------------------+------------------------+----------------------+--------------------+--------------------------+---------------------+------------------------+-----------------------+--------------------+\n",
            "only showing top 20 rows\n",
            "\n"
          ],
          "name": "stdout"
        }
      ]
    },
    {
      "cell_type": "code",
      "metadata": {
        "id": "J-SWVSp7C9eZ"
      },
      "source": [
        "scaler_model=standardscaler.fit(transformed_data)\n",
        "\n",
        "transformed_data = scaler_model.transform(transformed_data)"
      ],
      "execution_count": null,
      "outputs": []
    },
    {
      "cell_type": "markdown",
      "metadata": {
        "id": "5dvX5LH7DETC"
      },
      "source": [
        "# Modeling"
      ]
    },
    {
      "cell_type": "code",
      "metadata": {
        "id": "rVR3ao3YC_Pb"
      },
      "source": [
        "# Split the data\n",
        "(training_data, test_data) = transformed_data.randomSplit([0.6,0.4], seed=42)"
      ],
      "execution_count": null,
      "outputs": []
    },
    {
      "cell_type": "markdown",
      "metadata": {
        "id": "S95Up8CoebRD"
      },
      "source": [
        "# NAIVE BAYES"
      ]
    },
    {
      "cell_type": "code",
      "metadata": {
        "id": "G-eErF4neeSY"
      },
      "source": [
        "from pyspark.ml.classification import NaiveBayes\n",
        "\n",
        "# create the trainer and set its parameters\n",
        "nb = NaiveBayes(smoothing=1.0, modelType=\"multinomial\", labelCol='Arrest_indexed', featuresCol='features')\n",
        "\n",
        "# train the model\n",
        "model = nb.fit(training_data)\n",
        "\n",
        "# select example rows to display.\n",
        "predictions = model.transform(test_data)"
      ],
      "execution_count": null,
      "outputs": []
    },
    {
      "cell_type": "code",
      "metadata": {
        "colab": {
          "base_uri": "https://localhost:8080/"
        },
        "id": "tUadi8d6f80V",
        "outputId": "81c6dd36-7940-4116-cefd-30879239705c"
      },
      "source": [
        "import numpy as np\n",
        "from sklearn.metrics import accuracy_score, precision_score, recall_score, roc_auc_score, f1_score\n",
        "\n",
        "# Make predicitons\n",
        "predictionAndTarget = model.transform(test_data).select(\"Arrest_indexed\", \"prediction\")\n",
        "\n",
        "predictionAndTargetNumpy = np.array((predictionAndTarget.collect()))\n",
        "\n",
        "acc = accuracy_score(predictionAndTargetNumpy[:,0], predictionAndTargetNumpy[:,1])\n",
        "print('accuracy:',acc)\n",
        "f1 = f1_score(predictionAndTargetNumpy[:,0], predictionAndTargetNumpy[:,1])\n",
        "print('f1:',f1)\n",
        "precision = precision_score(predictionAndTargetNumpy[:,0], predictionAndTargetNumpy[:,1])\n",
        "print('weightedPrecision:',precision)\n",
        "recall = recall_score(predictionAndTargetNumpy[:,0], predictionAndTargetNumpy[:,1])\n",
        "print('weightedRecall:',recall)\n",
        "auc = roc_auc_score(predictionAndTargetNumpy[:,0], predictionAndTargetNumpy[:,1])\n",
        "print('auc:',auc)"
      ],
      "execution_count": null,
      "outputs": [
        {
          "output_type": "stream",
          "text": [
            "accuracy: 0.7649834043783204\n",
            "f1: 0.5967344704916537\n",
            "weightedPrecision: 0.5236689646891666\n",
            "weightedRecall: 0.6934951700743371\n",
            "auc: 0.7412007502227874\n"
          ],
          "name": "stdout"
        }
      ]
    },
    {
      "cell_type": "markdown",
      "metadata": {
        "id": "URaiHkZXeZ9I"
      },
      "source": [
        "# RF"
      ]
    },
    {
      "cell_type": "code",
      "metadata": {
        "id": "augtMoYkDIp1"
      },
      "source": [
        "# Define the model\n",
        "from pyspark.ml.classification import RandomForestClassifier\n",
        "\n",
        "rf = RandomForestClassifier(labelCol='Arrest_indexed', \n",
        "                            featuresCol='features')"
      ],
      "execution_count": null,
      "outputs": []
    },
    {
      "cell_type": "code",
      "metadata": {
        "id": "S-bZTyHqDRDA"
      },
      "source": [
        "# Fit the model\n",
        "model = rf.fit(training_data)"
      ],
      "execution_count": null,
      "outputs": []
    },
    {
      "cell_type": "code",
      "metadata": {
        "id": "bKLaqp_WDWUL"
      },
      "source": [
        "# Predict with the test dataset\n",
        "predictions = model.transform(test_data)"
      ],
      "execution_count": null,
      "outputs": []
    },
    {
      "cell_type": "code",
      "metadata": {
        "id": "gfO6LATSXfac"
      },
      "source": [
        "import numpy as np\n",
        "from sklearn.metrics import accuracy_score, precision_score, recall_score, roc_auc_score, f1_score\n",
        "\n",
        "# Make predicitons\n",
        "predictionAndTarget = model.transform(test_data).select(\"Arrest_indexed\", \"prediction\")\n",
        "\n",
        "predictionAndTargetNumpy = np.array((predictionAndTarget.collect()))\n",
        "\n",
        "acc = accuracy_score(predictionAndTargetNumpy[:,0], predictionAndTargetNumpy[:,1])\n",
        "f1 = f1_score(predictionAndTargetNumpy[:,0], predictionAndTargetNumpy[:,1])\n",
        "precision = precision_score(predictionAndTargetNumpy[:,0], predictionAndTargetNumpy[:,1])\n",
        "recall = recall_score(predictionAndTargetNumpy[:,0], predictionAndTargetNumpy[:,1])\n",
        "auc = roc_auc_score(predictionAndTargetNumpy[:,0], predictionAndTargetNumpy[:,1])"
      ],
      "execution_count": null,
      "outputs": []
    },
    {
      "cell_type": "code",
      "metadata": {
        "colab": {
          "base_uri": "https://localhost:8080/"
        },
        "id": "zg9CySeAkoXZ",
        "outputId": "3b694673-da3a-4006-cda9-fa30da8102ef"
      },
      "source": [
        "print('accuracy:',acc)\n",
        "print('f1:',f1)\n",
        "print('weightedPrecision:',precision)\n",
        "print('weightedRecall:',recall)\n",
        "print('auc:',auc)"
      ],
      "execution_count": null,
      "outputs": [
        {
          "output_type": "stream",
          "text": [
            "accuracy: 0.8359475452101945\n",
            "f1: 0.5173266600846538\n",
            "weightedPrecision: 0.9861732259988074\n",
            "weightedRecall: 0.350630076722276\n",
            "auc: 0.6744924803164759\n"
          ],
          "name": "stdout"
        }
      ]
    },
    {
      "cell_type": "markdown",
      "metadata": {
        "id": "Qw4FD3F3XPC1"
      },
      "source": [
        "# Logistic"
      ]
    },
    {
      "cell_type": "code",
      "metadata": {
        "id": "yWJ0cB35XQgD"
      },
      "source": [
        "from pyspark.ml.classification import LogisticRegression\n",
        "logisticRegression = LogisticRegression(labelCol='Arrest_indexed', \n",
        "                                        featuresCol='features', \n",
        "                                        maxIter=10, \n",
        "                                        family='multinomial',\n",
        "                                        regParam=0.0)\n",
        "fittedModel = logisticRegression.fit(training_data)"
      ],
      "execution_count": null,
      "outputs": []
    },
    {
      "cell_type": "code",
      "metadata": {
        "id": "Y_1u1I8_eh-S"
      },
      "source": [
        "# Predict with the test dataset\n",
        "logisticRegressionpredictions = fittedModel.transform(test_data)"
      ],
      "execution_count": null,
      "outputs": []
    },
    {
      "cell_type": "code",
      "metadata": {
        "id": "rEDjO7DWXs_W"
      },
      "source": [
        "import numpy as np\n",
        "from sklearn.metrics import accuracy_score, precision_score, recall_score, roc_auc_score, f1_score\n",
        "\n",
        "# Make predicitons\n",
        "predictionAndTarget = fittedModel.transform(test_data).select(\"Arrest_indexed\", \"prediction\")\n",
        "\n",
        "predictionAndTargetNumpy = np.array((predictionAndTarget.collect()))\n",
        "\n",
        "acc = accuracy_score(predictionAndTargetNumpy[:,0], predictionAndTargetNumpy[:,1])\n",
        "f1 = f1_score(predictionAndTargetNumpy[:,0], predictionAndTargetNumpy[:,1])\n",
        "precision = precision_score(predictionAndTargetNumpy[:,0], predictionAndTargetNumpy[:,1])\n",
        "recall = recall_score(predictionAndTargetNumpy[:,0], predictionAndTargetNumpy[:,1])\n",
        "auc = roc_auc_score(predictionAndTargetNumpy[:,0], predictionAndTargetNumpy[:,1])"
      ],
      "execution_count": null,
      "outputs": []
    },
    {
      "cell_type": "code",
      "metadata": {
        "colab": {
          "base_uri": "https://localhost:8080/"
        },
        "id": "aQaytEwXjAcD",
        "outputId": "40a73d70-1620-4f54-ce53-73de82a4d654"
      },
      "source": [
        "print('accuracy:',acc)\n",
        "print('f1:',f1)\n",
        "print('weightedPrecision:',precision)\n",
        "print('weightedRecall:',recall)\n",
        "print('auc:',auc)"
      ],
      "execution_count": null,
      "outputs": [
        {
          "output_type": "stream",
          "text": [
            "accuracy: 0.8660422681679696\n",
            "f1: 0.673019374406968\n",
            "weightedPrecision: 0.8673494983277592\n",
            "weightedRecall: 0.5498297269004996\n",
            "auc: 0.7608449083251145\n"
          ],
          "name": "stdout"
        }
      ]
    },
    {
      "cell_type": "markdown",
      "metadata": {
        "id": "OkhWVFJfdiJl"
      },
      "source": [
        "# SVM"
      ]
    },
    {
      "cell_type": "code",
      "metadata": {
        "id": "dwiHXCR3di8s"
      },
      "source": [
        "from pyspark.ml.classification import LinearSVC\n",
        "\n",
        "lsvc = LinearSVC(labelCol='Arrest_indexed',\n",
        "                 featuresCol='features',\n",
        "                 maxIter=10, \n",
        "                 regParam=0.1)\n",
        "\n",
        "# train the model\n",
        "model = lsvc.fit(training_data)\n",
        "\n",
        "# select example rows to display.\n",
        "predictions = model.transform(test_data)"
      ],
      "execution_count": null,
      "outputs": []
    },
    {
      "cell_type": "code",
      "metadata": {
        "colab": {
          "base_uri": "https://localhost:8080/"
        },
        "id": "DDedIDR9lQQH",
        "outputId": "52304a7f-44a8-42b7-942f-fd881e521fd8"
      },
      "source": [
        "import numpy as np\n",
        "from sklearn.metrics import accuracy_score, precision_score, recall_score, roc_auc_score, f1_score\n",
        "\n",
        "# Make predicitons\n",
        "predictionAndTarget = model.transform(test_data).select(\"Arrest_indexed\", \"prediction\")\n",
        "\n",
        "predictionAndTargetNumpy = np.array((predictionAndTarget.collect()))\n",
        "\n",
        "acc = accuracy_score(predictionAndTargetNumpy[:,0], predictionAndTargetNumpy[:,1])\n",
        "print('accuracy:',acc)\n",
        "f1 = f1_score(predictionAndTargetNumpy[:,0], predictionAndTargetNumpy[:,1])\n",
        "print('f1:',f1)\n",
        "precision = precision_score(predictionAndTargetNumpy[:,0], predictionAndTargetNumpy[:,1])\n",
        "print('weightedPrecision:',precision)\n",
        "recall = recall_score(predictionAndTargetNumpy[:,0], predictionAndTargetNumpy[:,1])\n",
        "print('weightedRecall:',recall)\n",
        "auc = roc_auc_score(predictionAndTargetNumpy[:,0], predictionAndTargetNumpy[:,1])\n",
        "print('auc:',auc)"
      ],
      "execution_count": null,
      "outputs": [
        {
          "output_type": "stream",
          "text": [
            "accuracy: 0.856948731323696\n",
            "f1: 0.611954288186308\n",
            "weightedPrecision: 0.9566344501113021\n",
            "weightedRecall: 0.44986550412763193\n",
            "auc: 0.7215205773179\n"
          ],
          "name": "stdout"
        }
      ]
    }
  ]
}