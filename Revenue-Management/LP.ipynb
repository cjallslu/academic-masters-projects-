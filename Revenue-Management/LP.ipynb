{
 "cells": [
  {
   "cell_type": "code",
   "execution_count": null,
   "metadata": {
    "collapsed": true,
    "id": "FpaujgCYEIMi"
   },
   "outputs": [],
   "source": [
    "import numpy \n",
    "import random\n",
    "import math\n",
    "from scipy.optimize import linprog"
   ]
  },
  {
   "cell_type": "code",
   "execution_count": null,
   "metadata": {
    "collapsed": true,
    "id": "MkoTDERYEP9w"
   },
   "outputs": [],
   "source": [
    "A = [[1,2,1],[0.8,0.6,0]] #Coefficients coming from the resource and demand constraints\n",
    "b = [20,15]                    #The capacities of resources and demands for the different products\n",
    "c = [-100,-80,-2]                    #The prices for the different products (negative since linprog does minimization)\n",
    "result = linprog(c, A_ub=A, b_ub=b, method = 'simplex')\n",
    "print('Revenue is '+str(-result.fun))\n",
    "print('Accepted products are '+str(result.x.tolist()))"
   ]
  },
  {
   "cell_type": "code",
   "execution_count": null,
   "metadata": {
    "collapsed": true,
    "id": "ZbnY08rM2baG"
   },
   "outputs": [],
   "source": [
    "A = [[-1,-0.8],[-2,-0.6],[-1,-0]] #Coefficients coming from the resource and demand constraints\n",
    "b = [-100,-80,-2]                    #The capacities of resources and demands for the different products\n",
    "c = [20,15]                    #The prices for the different products (negative since linprog does minimization)\n",
    "result = linprog(c, A_ub=A, b_ub=b, method = 'simplex')\n",
    "print('Revenue is '+str(result.fun))\n",
    "print('Shadow prices are '+str(result.x))"
   ]
  },
  {
   "cell_type": "code",
   "execution_count": null,
   "metadata": {
    "collapsed": true,
    "id": "2JPVMNf0qqtA"
   },
   "outputs": [],
   "source": []
  }
 ],
 "metadata": {
  "colab": {
   "collapsed_sections": [],
   "name": "LP.ipynb",
   "provenance": []
  },
  "kernelspec": {
   "display_name": "Python 3",
   "language": "python",
   "name": "python3"
  },
  "language_info": {
   "codemirror_mode": {
    "name": "ipython",
    "version": 3
   },
   "file_extension": ".py",
   "mimetype": "text/x-python",
   "name": "python",
   "nbconvert_exporter": "python",
   "pygments_lexer": "ipython3",
   "version": "3.6.2"
  }
 },
 "nbformat": 4,
 "nbformat_minor": 1
}
