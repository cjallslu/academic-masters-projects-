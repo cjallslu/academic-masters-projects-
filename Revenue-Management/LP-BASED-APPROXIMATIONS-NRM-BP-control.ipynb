{
 "cells": [
  {
   "cell_type": "code",
   "execution_count": 1,
   "metadata": {
    "collapsed": true
   },
   "outputs": [],
   "source": [
    "import numpy\n",
    "import random\n",
    "import math\n",
    "from scipy.optimize import linprog"
   ]
  },
  {
   "cell_type": "code",
   "execution_count": 2,
   "metadata": {},
   "outputs": [
    {
     "name": "stdout",
     "output_type": "stream",
     "text": [
      "Revenue is 16800.0\n",
      "Shadow prices are [ 200.  100.    0.   60.    0.]\n"
     ]
    }
   ],
   "source": [
    "A = [[-1,0,-1,0,0],[0,-1,0,-1,0],[-1,-1,0,0,-1]]\n",
    "c = [50,50,40,30,20]\n",
    "b = [-200,-160,-300]\n",
    "result = linprog(c, A_ub=A, b_ub=b)\n",
    "print('Revenue is '+str(result.fun))\n",
    "print('Shadow prices are '+str(result.x))"
   ]
  },
  {
   "cell_type": "code",
   "execution_count": 3,
   "metadata": {},
   "outputs": [
    {
     "name": "stdout",
     "output_type": "stream",
     "text": [
      "Shadow prices are [98.168, 77.186, 101.832, 82.814, 124.646]\n"
     ]
    }
   ],
   "source": [
    "A = [[-1,0,-1,0,0],[0,-1,0,-1,0],[-1,-1,0,0,-1]]\n",
    "b = [-200,-160,-300]\n",
    "T = 100\n",
    "lbda = [0.1, 0.4, 0.3, 0.2]\n",
    "Valuesamples = []\n",
    "for k in range(10000):   #Samples\n",
    "    Demandsample = [0,0,0,0] #Initialize the demands\n",
    "    for time in range(T): #Sample the demand for different products at each time\n",
    "        product = int(numpy.random.choice([0,1,2,3],1,lbda))\n",
    "        Demandsample[product] += 1\n",
    "   \n",
    "    c = [50,50]+Demandsample[1:]\n",
    "    result = linprog(c, A_ub=A, b_ub=b)\n",
    "    Valuesamples.append(result.x.tolist())\n",
    "print('Shadow prices are '+str([sum([Valuesamples[i][j] for i in range(10000)])/10000 for j in range(5)]))"
   ]
  },
  {
   "cell_type": "code",
   "execution_count": null,
   "metadata": {
    "collapsed": true
   },
   "outputs": [],
   "source": []
  }
 ],
 "metadata": {
  "kernelspec": {
   "display_name": "Python 3",
   "language": "python",
   "name": "python3"
  },
  "language_info": {
   "codemirror_mode": {
    "name": "ipython",
    "version": 3
   },
   "file_extension": ".py",
   "mimetype": "text/x-python",
   "name": "python",
   "nbconvert_exporter": "python",
   "pygments_lexer": "ipython3",
   "version": "3.6.2"
  }
 },
 "nbformat": 4,
 "nbformat_minor": 2
}
