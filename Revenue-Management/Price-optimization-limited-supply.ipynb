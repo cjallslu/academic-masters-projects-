{
 "cells": [
  {
   "cell_type": "code",
   "execution_count": 17,
   "metadata": {
    "collapsed": true
   },
   "outputs": [],
   "source": [
    "import numpy\n",
    "import random\n",
    "import math\n",
    "import scipy.optimize as sp"
   ]
  },
  {
   "cell_type": "code",
   "execution_count": 18,
   "metadata": {
    "collapsed": true
   },
   "outputs": [],
   "source": [
    "def Profit(x):\n",
    "    return -x[0]*(120000-3000*x[0])-x[1]*(20000-1250*x[1]) #This is the -ve profit function. It is defined to be -ve since python can only minimize."
   ]
  },
  {
   "cell_type": "code",
   "execution_count": 21,
   "metadata": {},
   "outputs": [
    {
     "name": "stdout",
     "output_type": "stream",
     "text": [
      "Positive directional derivative for linesearch    (Exit mode 8)\n",
      "            Current function value: -1256470.589429307\n",
      "            Iterations: 12\n",
      "            Function evaluations: 47\n",
      "            Gradient evaluations: 8\n",
      "[ 22.35293883  10.35294661]\n"
     ]
    }
   ],
   "source": [
    "bounds = sp.Bounds([0, 0], [40, 16]) #This encodes lower bounds and upper bounds respectively on the two prices.\n",
    "linear_constraint = sp.LinearConstraint([[-3000, -1250]],[-numpy.inf],[-80000]) #This encodes the capacity constraints\n",
    "#it basically says that  -infinity <= -3000p1 -1250p2 <= -80000\n",
    "x0 = [5,15] #Initial value of the solution for the optimization algorithm\n",
    "res = sp.minimize(Profit, x0,bounds=bounds,options={'disp': True}, constraints = linear_constraint) #This is the optimization command.\n",
    "print(res.x) #Print the solution."
   ]
  },
  {
   "cell_type": "code",
   "execution_count": null,
   "metadata": {
    "collapsed": true
   },
   "outputs": [],
   "source": []
  }
 ],
 "metadata": {
  "kernelspec": {
   "display_name": "Python 3",
   "language": "python",
   "name": "python3"
  },
  "language_info": {
   "codemirror_mode": {
    "name": "ipython",
    "version": 3
   },
   "file_extension": ".py",
   "mimetype": "text/x-python",
   "name": "python",
   "nbconvert_exporter": "python",
   "pygments_lexer": "ipython3",
   "version": "3.6.2"
  }
 },
 "nbformat": 4,
 "nbformat_minor": 2
}
